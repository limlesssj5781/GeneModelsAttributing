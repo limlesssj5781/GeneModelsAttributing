{
 "cells": [
  {
   "cell_type": "markdown",
   "id": "68ca2592",
   "metadata": {},
   "source": [
    "## Captum \n",
    "https://github.com/pytorch/captum"
   ]
  },
  {
   "cell_type": "code",
   "execution_count": 1,
   "id": "a9b8881f",
   "metadata": {},
   "outputs": [],
   "source": [
    "import numpy as np\n",
    "\n",
    "import torch\n",
    "import torch.nn as nn\n",
    "import torch.nn.init as init\n",
    "from torch.utils.data import DataLoader, TensorDataset, Dataset\n",
    "from torch.autograd import Variable\n",
    "from torch.nn import functional as F\n",
    "from torch.utils.data.sampler import SubsetRandomSampler\n",
    "import numpy as np\n",
    "from collections import defaultdict\n",
    "\n",
    "from captum.attr import (\n",
    "    GradientShap,\n",
    "    DeepLift,\n",
    "    DeepLiftShap,\n",
    "    IntegratedGradients,\n",
    "    LayerConductance,\n",
    "    NeuronConductance,\n",
    "    NoiseTunnel,\n",
    ")"
   ]
  },
  {
   "cell_type": "code",
   "execution_count": 2,
   "id": "db2d1f84",
   "metadata": {},
   "outputs": [],
   "source": [
    "class BasicModule(nn.Module):\n",
    "    def __init__(self):\n",
    "        super(BasicModule, self).__init__()\n",
    "        self.model_name = str(type(self))\n",
    "\n",
    "    def load(self, path):\n",
    "        self.load_state_dict(torch.load(path))\n",
    "\n",
    "    def save(self, path):\n",
    "        torch.save(self.state_dict(), path)"
   ]
  },
  {
   "cell_type": "code",
   "execution_count": 3,
   "id": "64ab247e",
   "metadata": {},
   "outputs": [],
   "source": [
    "class SimpleCNN(BasicModule):\n",
    "    def __init__(self,args):\n",
    "        super(SimpleCNN, self).__init__()\n",
    "        # output size of fc layers\n",
    "        out1 = args['fc1_out']\n",
    "        out2 = args['fc2_out']\n",
    "        out3 = args['fc3_out'] # output layer\n",
    "        self.params = args\n",
    "        self.k = args['k_max']\n",
    "        \n",
    "        # self.k = args['k'] # for k max pooling\n",
    "        self.kernel_num = args['kernel_num']\n",
    "        self.dropout = nn.Dropout(args['dropout'])\n",
    " \n",
    "        \n",
    "        # convolution layers\n",
    "        filter_sizes = [3, 5, 7, 9]\n",
    "        self.conv1 = nn.Conv2d(1, self.kernel_num[0], (3, 4), bias=True, padding=0)\n",
    "        self.conv2 = nn.Conv2d(1, self.kernel_num[1], (5, 4), bias=True, padding=0)\n",
    "        self.conv3 = nn.Conv2d(1, self.kernel_num[2], (7, 4), bias=True, padding=0)\n",
    "        self.conv4 = nn.Conv2d(1, self.kernel_num[3], (9, 4), bias=True, padding=0)\n",
    "#         self.conv5 = nn.Conv2d(1, self.kernel_num[4], (11, 4), bias=True, padding=0)\n",
    "\n",
    "        \n",
    "        # fc layers\n",
    "        self.fc1 = nn.Linear((sum([self.kernel_num[i] * (31-filter_sizes[i]) // 2 for i in range(len(filter_sizes))])), out1, bias=True)\n",
    "        self.fc2 = nn.Linear(out1, out2, bias=True)\n",
    "        self.fc3 = nn.Linear(out2, out3, bias=False)\n",
    "        \n",
    "\n",
    "    def _conv_and_pool(self, x, conv):\n",
    "        # x: (batch, 1, size, 4)\n",
    "        x = conv(x)\n",
    "        # x: (batch, kernel_num, H_out, 1)\n",
    "        x = F.relu(x)\n",
    "        # x: (batch, kernel_num, H_out)\n",
    "        x = F.max_pool2d(x, kernel_size=(2,1), stride=(2, 1))\n",
    "        x = x.view(x.size(0), x.size(1) * x.size(2))\n",
    "        #  (batch, kernel_num * k)\n",
    "        return x\n",
    "    \n",
    "    def setDropout(self, dropout):\n",
    "        self.dropout = nn.Dropout(dropout)\n",
    "\n",
    "    def forward(self, x):\n",
    "        # x: (batch, size)\n",
    "        # x: (batch, sentence_length, embed_dim)\n",
    "        x = x.view(x.size(0),1, 30, 4)\n",
    "        x1 = self._conv_and_pool(x, self.conv1)  # (batch, kernel_num * k)\n",
    "        x2 = self._conv_and_pool(x, self.conv2)  # (batch, kernel_num * k)\n",
    "        x3 = self._conv_and_pool(x, self.conv3)  # (batch, kernel_num * k)\n",
    "        x4 = self._conv_and_pool(x, self.conv4)  # (batch, kernel_num * k)\n",
    "#         x5 = self._conv_and_pool(x, self.conv5)  # (batch, kernel_num * k)\n",
    "\n",
    "        \n",
    "        x = torch.cat((x1, x2, x3, x4), 1)  # (batch, 4 * kernel_num * k)\n",
    "        x = self.dropout(x)\n",
    "        x = self.fc1(x)\n",
    "        x = F.relu(x)\n",
    "        x = self.dropout(x)\n",
    "        x = self.fc2(x)\n",
    "        x = F.relu(x)\n",
    "        x = self.dropout(x)\n",
    "#         x = \n",
    "#         logit = F.log_softmax(x, dim=1)\n",
    "        return self.fc3(x)"
   ]
  },
  {
   "cell_type": "code",
   "execution_count": 4,
   "id": "9ca1a428",
   "metadata": {},
   "outputs": [],
   "source": [
    "class DNADataset(Dataset):\n",
    "    \n",
    "    def __init__(self, data, size):\n",
    "        super(DNADataset, self).__init__()\n",
    "        self.size = size\n",
    "        self.x = np.zeros((len(data),size, 4))\n",
    "        self.y = []\n",
    "\n",
    "        for I in range(len(data)):\n",
    "            self.y.append(data[I][1])\n",
    "            if type(data[0][0])==str:\n",
    "                for i in range(size):\n",
    "                    seq = data[I][0].lower()\n",
    "                    # one hot encoding\n",
    "                    pos = \"acgt\".find(seq[i])\n",
    "                    if pos >= 0:\n",
    "                        self.x[I][i][pos] = 1\n",
    "            else:\n",
    "                self.x[I] = data[I][0]\n",
    "        self.x = torch.FloatTensor(self.x)\n",
    "        self.y = torch.FloatTensor(self.y)\n",
    "\n",
    "        \n",
    "    def __len__(self):\n",
    "        return len(self.y)\n",
    "    \n",
    "    def __getitem__(self, index):\n",
    "        return self.x[index], self.y[index]\n",
    "        \n",
    "    # return a subset of dataset of given range\n",
    "    def get_subset(self, start, end):\n",
    "        \n",
    "        return DNADataset([(self.x[i],self.y[i]) for i in range(start, end)], self.size)"
   ]
  },
  {
   "cell_type": "code",
   "execution_count": 5,
   "id": "e9804a99",
   "metadata": {},
   "outputs": [],
   "source": [
    "#\n",
    "def load_data(file):\n",
    "    data = []\n",
    "    with open(file,\"r\") as f:\n",
    "        for line in f:\n",
    "            line = line.split()\n",
    "            data.append((line[0], float(line[1])))\n",
    "    return data"
   ]
  },
  {
   "cell_type": "code",
   "execution_count": 6,
   "id": "06ce5c4d",
   "metadata": {},
   "outputs": [],
   "source": [
    "# convert one-hot to GCAT seq\n",
    "def encoding_to_seq(encoding):\n",
    "    encoding = encoding.view(-1,4)\n",
    "    seq = []\n",
    "    s = 'ACGT'\n",
    "    for arr in encoding:\n",
    "        for i in range(4):\n",
    "            if arr[i] == 1.0:\n",
    "                seq.append(s[i])\n",
    "                break\n",
    "    return seq"
   ]
  },
  {
   "cell_type": "code",
   "execution_count": 7,
   "id": "88a965cc",
   "metadata": {},
   "outputs": [],
   "source": [
    "#\n",
    "train_set = DNADataset(load_data(\"../Cas9_predict_indel/dataset/train_txt\"),30)\n",
    "test_set = DNADataset(load_data(\"../Cas9_predict_indel/dataset/test_txt\"),30)"
   ]
  },
  {
   "cell_type": "code",
   "execution_count": 13,
   "id": "6009d279",
   "metadata": {},
   "outputs": [
    {
     "data": {
      "text/plain": [
       "SimpleCNN(\n",
       "  (dropout): Dropout(p=0.5, inplace=False)\n",
       "  (conv1): Conv2d(1, 100, kernel_size=(3, 4), stride=(1, 1))\n",
       "  (conv2): Conv2d(1, 100, kernel_size=(5, 4), stride=(1, 1))\n",
       "  (conv3): Conv2d(1, 80, kernel_size=(7, 4), stride=(1, 1))\n",
       "  (conv4): Conv2d(1, 60, kernel_size=(9, 4), stride=(1, 1))\n",
       "  (fc1): Linear(in_features=4320, out_features=80, bias=True)\n",
       "  (fc2): Linear(in_features=80, out_features=60, bias=True)\n",
       "  (fc3): Linear(in_features=60, out_features=1, bias=False)\n",
       ")"
      ]
     },
     "execution_count": 13,
     "metadata": {},
     "output_type": "execute_result"
    }
   ],
   "source": [
    "args = {\n",
    "    'kernel_num': [100, 100, 80, 60],\n",
    "    'dropout': 0.5,\n",
    "    'fc1_out': 80,\n",
    "    'fc2_out': 60,\n",
    "    'fc3_out': 1,\n",
    "    'input_max_length':30,\n",
    "    'k_max' : 1\n",
    "}\n",
    "model = SimpleCNN(args)\n",
    "model.load(\"./cnn_3579_100-70-50-40_80-60_90_0.671.model\")\n",
    "model.eval()"
   ]
  },
  {
   "cell_type": "code",
   "execution_count": 14,
   "id": "ef6c3a54",
   "metadata": {},
   "outputs": [
    {
     "name": "stdout",
     "output_type": "stream",
     "text": [
      "IG Attributions: tensor([[[-0.1986,  0.0000,  0.0000, -0.0000],\n",
      "         [-1.2322,  0.0000,  0.0000, -0.0000],\n",
      "         [-0.6162,  0.0000,  0.0000, -0.0000],\n",
      "         [ 0.0000, -0.4308,  0.0000, -0.0000],\n",
      "         [-0.0000, -0.0000,  0.0000, -0.1690],\n",
      "         [-0.0000, -0.0000, -0.0000, -0.4861],\n",
      "         [-0.0000, -0.0000,  2.0566, -0.0000],\n",
      "         [ 1.1135, -0.0000, -0.0000, -0.0000],\n",
      "         [-0.0000,  0.0000,  0.7654, -0.0000],\n",
      "         [ 0.2298, -0.0000, -0.0000, -0.0000],\n",
      "         [-0.0000,  0.0000,  1.2790, -0.0000],\n",
      "         [-0.0000,  0.8650,  0.0000, -0.0000],\n",
      "         [-0.0000,  0.0000,  0.0000, -0.8582],\n",
      "         [ 0.0000,  0.0000,  0.0000, -3.4994],\n",
      "         [ 0.0000,  0.0000,  0.0000, -5.2157],\n",
      "         [-0.0000,  2.5481,  0.0000, -0.0000],\n",
      "         [-1.4979,  0.0000,  0.0000, -0.0000],\n",
      "         [-0.0000, -0.0000, -0.0000,  2.1149],\n",
      "         [ 4.5779, -0.0000,  0.0000, -0.0000],\n",
      "         [ 3.1421,  0.0000, -0.0000, -0.0000],\n",
      "         [ 2.2578, -0.0000, -0.0000,  0.0000],\n",
      "         [-0.0000,  0.0000,  2.6371, -0.0000],\n",
      "         [-0.0000,  4.2995,  0.0000, -0.0000],\n",
      "         [ 0.0000, -0.0000,  0.0000, -3.6037],\n",
      "         [-0.0000,  0.0000,  0.0000, -3.2529],\n",
      "         [-0.0000, -0.0000,  0.6612, -0.0000],\n",
      "         [-0.0000, -0.0000, -0.5454, -0.0000],\n",
      "         [-0.0000,  2.7892, -0.0000, -0.0000],\n",
      "         [ 1.3059, -0.0000, -0.0000, -0.0000],\n",
      "         [-0.2916, -0.0000,  0.0000, -0.0000]]], dtype=torch.float64)\n"
     ]
    }
   ],
   "source": [
    "my_input = test_set[3][0]\n",
    "ig = IntegratedGradients(model)\n",
    "baseline = torch.zeros((1,30,4))\n",
    "model(my_input.view(1,30,4))\n",
    "attributions = ig.attribute(my_input, baseline, target=0, return_convergence_delta=False)\n",
    "print('IG Attributions:', attributions)\n",
    "# print('Convergence Delta:', delta)"
   ]
  },
  {
   "cell_type": "code",
   "execution_count": 15,
   "id": "0a2ef3f8",
   "metadata": {},
   "outputs": [],
   "source": [
    "import seaborn as sns\n",
    "sns.set_theme()"
   ]
  },
  {
   "cell_type": "code",
   "execution_count": 16,
   "id": "76fd4681",
   "metadata": {},
   "outputs": [],
   "source": [
    "import pandas as pd"
   ]
  },
  {
   "cell_type": "code",
   "execution_count": 17,
   "id": "79d472ac",
   "metadata": {},
   "outputs": [
    {
     "data": {
      "text/plain": [
       "<AxesSubplot:>"
      ]
     },
     "execution_count": 17,
     "metadata": {},
     "output_type": "execute_result"
    },
    {
     "data": {
      "image/png": "[encoded data removed]",
      "text/plain": [
       "<Figure size 1296x360 with 1 Axes>"
      ]
     },
     "metadata": {},
     "output_type": "display_data"
    }
   ],
   "source": [
    "attr = pd.DataFrame([sum(l) for l in attributions.view(30,4).numpy()], index=encoding_to_seq(my_input))\n",
    "sns.set(sns.set(rc = {'figure.figsize':(18,5)}))\n",
    "# sns.barplot(attr)\n",
    "attr.plot(kind='bar')"
   ]
  },
  {
   "cell_type": "code",
   "execution_count": 18,
   "id": "36d238ba",
   "metadata": {},
   "outputs": [],
   "source": [
    "def show_attr(x, y, method):\n",
    "    attr = None\n",
    "    if method == 'IG':\n",
    "        explainer = IntegratedGradients(model)\n",
    "        baseline = torch.zeros((1,30,4))\n",
    "        model(x.view(1,30,4))\n",
    "        attr = explainer.attribute(x, baseline, target=0, return_convergence_delta=False)\n",
    "    elif method == 'DL':\n",
    "        explainer = DeepLift(model)\n",
    "        baseline = torch.zeros((1,30,4))\n",
    "        model(x.view(1,30,4))\n",
    "        attr = explainer.attribute(x, baseline, target=0, return_convergence_delta=False)\n",
    "    \n",
    "    attr = pd.DataFrame([sum(l) for l in attr.view(30,4).detach().numpy()], index=encoding_to_seq(x))\n",
    "    sns.set(sns.set(rc = {'figure.figsize':(18,5)}))\n",
    "    # sns.barplot(attr)\n",
    "    attr.plot(kind='bar')\n",
    "    print(model(x))\n",
    "    print(y)\n",
    "    "
   ]
  },
  {
   "cell_type": "code",
   "execution_count": 19,
   "id": "fcfa6609",
   "metadata": {},
   "outputs": [
    {
     "name": "stdout",
     "output_type": "stream",
     "text": [
      "tensor([[37.5183]], grad_fn=<MmBackward>)\n",
      "tensor(42.6380)\n"
     ]
    },
    {
     "data": {
      "image/png": "[encoded data removed]",
      "text/plain": [
       "<Figure size 1296x360 with 1 Axes>"
      ]
     },
     "metadata": {},
     "output_type": "display_data"
    }
   ],
   "source": [
    "test_case_index = 487\n",
    "show_attr(test_set[test_case_index][0].view(1,30,4),test_set[test_case_index][1] , method='IG')"
   ]
  },
  {
   "cell_type": "code",
   "execution_count": 26,
   "id": "9e0c9e26",
   "metadata": {},
   "outputs": [
    {
     "name": "stdout",
     "output_type": "stream",
     "text": [
      "tensor([[9.7659]], grad_fn=<MmBackward>)\n",
      "tensor(10.0362)\n"
     ]
    },
    {
     "data": {
      "image/png": "[encoded data removed]",
      "text/plain": [
       "<Figure size 1296x360 with 1 Axes>"
      ]
     },
     "metadata": {},
     "output_type": "display_data"
    }
   ],
   "source": [
    "test_case_index = 534\n",
    "show_attr(test_set[test_case_index][0].view(1,30,4),test_set[test_case_index][1] , method='IG')"
   ]
  },
  {
   "cell_type": "code",
   "execution_count": 27,
   "id": "81906a85",
   "metadata": {},
   "outputs": [
    {
     "name": "stdout",
     "output_type": "stream",
     "text": [
      "tensor([[21.0325]], grad_fn=<MmBackward>)\n",
      "tensor(24.8673)\n"
     ]
    },
    {
     "data": {
      "image/png": "[encoded data removed]",
      "text/plain": [
       "<Figure size 1296x360 with 1 Axes>"
      ]
     },
     "metadata": {},
     "output_type": "display_data"
    }
   ],
   "source": [
    "test_case_index = 535\n",
    "show_attr(test_set[test_case_index][0].view(1,30,4),test_set[test_case_index][1] , method='IG')"
   ]
  },
  {
   "cell_type": "code",
   "execution_count": 40,
   "id": "64c69514",
   "metadata": {},
   "outputs": [
    {
     "name": "stdout",
     "output_type": "stream",
     "text": [
      "tensor([[24.0367]], grad_fn=<MmBackward>)\n",
      "tensor(10.0362)\n"
     ]
    },
    {
     "data": {
      "image/png": "[encoded data removed]",
      "text/plain": [
       "<Figure size 1296x360 with 1 Axes>"
      ]
     },
     "metadata": {},
     "output_type": "display_data"
    }
   ],
   "source": [
    "A = [1,0,0,0]\n",
    "C = [0,1,0,0]\n",
    "G = [0,0,1,0]\n",
    "T = [0,0,0,1]\n",
    "N = [0.25,0.25,0.25,0.25]\n",
    "test_case_index = 534\n",
    "show_attr(torch.FloatTensor([C]*30).view(1,30,4),test_set[test_case_index][1] , method='IG')"
   ]
  },
  {
   "cell_type": "code",
   "execution_count": 29,
   "id": "ee45bca5",
   "metadata": {},
   "outputs": [
    {
     "data": {
      "text/plain": [
       "[[0, 0, 1, 0], [0, 0, 1, 0]]"
      ]
     },
     "execution_count": 29,
     "metadata": {},
     "output_type": "execute_result"
    }
   ],
   "source": [
    "[[0,0,1,0]]*2"
   ]
  },
  {
   "cell_type": "code",
   "execution_count": null,
   "id": "5e038997",
   "metadata": {},
   "outputs": [],
   "source": []
  }
 ],
 "metadata": {
  "kernelspec": {
   "display_name": "Python 3",
   "language": "python",
   "name": "python3"
  },
  "language_info": {
   "codemirror_mode": {
    "name": "ipython",
    "version": 3
   },
   "file_extension": ".py",
   "mimetype": "text/x-python",
   "name": "python",
   "nbconvert_exporter": "python",
   "pygments_lexer": "ipython3",
   "version": "3.8.8"
  }
 },
 "nbformat": 4,
 "nbformat_minor": 5
}
