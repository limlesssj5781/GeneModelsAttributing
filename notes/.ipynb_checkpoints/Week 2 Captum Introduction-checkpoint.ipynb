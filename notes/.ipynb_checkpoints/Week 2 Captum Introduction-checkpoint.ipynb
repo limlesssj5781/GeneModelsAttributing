{
 "cells": [
  {
   "cell_type": "markdown",
   "id": "68ca2592",
   "metadata": {},
   "source": [
    "## Captum \n",
    "https://github.com/pytorch/captum"
   ]
  },
  {
   "cell_type": "code",
   "execution_count": 2,
   "id": "a9b8881f",
   "metadata": {},
   "outputs": [],
   "source": [
    "import numpy as np\n",
    "\n",
    "import torch\n",
    "import torch.nn as nn\n",
    "import torch.nn.init as init\n",
    "from torch.utils.data import DataLoader, TensorDataset, Dataset\n",
    "from torch.autograd import Variable\n",
    "from torch.nn import functional as F\n",
    "from torch.utils.data.sampler import SubsetRandomSampler\n",
    "import numpy as np\n",
    "from collections import defaultdict\n",
    "\n",
    "from captum.attr import (\n",
    "    GradientShap,\n",
    "    DeepLift,\n",
    "    DeepLiftShap,\n",
    "    IntegratedGradients,\n",
    "    LayerConductance,\n",
    "    NeuronConductance,\n",
    "    NoiseTunnel,\n",
    ")"
   ]
  },
  {
   "cell_type": "code",
   "execution_count": 3,
   "id": "db2d1f84",
   "metadata": {},
   "outputs": [],
   "source": [
    "class BasicModule(nn.Module):\n",
    "    def __init__(self):\n",
    "        super(BasicModule, self).__init__()\n",
    "        self.model_name = str(type(self))\n",
    "\n",
    "    def load(self, path):\n",
    "        self.load_state_dict(torch.load(path))\n",
    "\n",
    "    def save(self, path):\n",
    "        torch.save(self.state_dict(), path)"
   ]
  },
  {
   "cell_type": "code",
   "execution_count": 18,
   "id": "64ab247e",
   "metadata": {},
   "outputs": [],
   "source": [
    "# -*- coding: utf-8 -*-\n",
    "\n",
    "\n",
    "class SimpleCNN(BasicModule):\n",
    "    def __init__(self,args):\n",
    "        super(SimpleCNN, self).__init__()\n",
    "        # output size of fc layers\n",
    "        out1 = args['fc1_out']\n",
    "        out2 = args['fc2_out']\n",
    "        out3 = args['fc3_out'] # output layer\n",
    "        self.params = args\n",
    "        self.k = args['k_max']\n",
    "        \n",
    "        # self.k = args['k'] # for k max pooling\n",
    "        self.kernel_num = args['kernel_num']\n",
    "        self.dropout = nn.Dropout(args['dropout'])\n",
    " \n",
    "        \n",
    "        # convolution layers\n",
    "        self.conv1 = nn.Conv2d(1, self.kernel_num[0], (3, 4), bias=True)\n",
    "        self.conv2 = nn.Conv2d(1, self.kernel_num[1], (5, 4), bias=True)\n",
    "        self.conv3 = nn.Conv2d(1, self.kernel_num[2], (7, 4), bias=True)\n",
    "        self.conv4 = nn.Conv2d(1, self.kernel_num[3], (9, 4), bias=True)\n",
    "#         self.conv5 = nn.Conv2d(1, self.kernel_num[4], (11, 4), bias=True)\n",
    "#         self.conv6 = nn.Conv2d(1, self.kernel_num[5], (13, 4), bias=True)\n",
    "        \n",
    "        # fc layers\n",
    "        self.fc1 = nn.Linear((sum(self.kernel_num))*self.k, out1, bias=True)\n",
    "        self.fc2 = nn.Linear(out1, out2, bias=True)\n",
    "        self.fc3 = nn.Linear(out2, out3, bias=True)\n",
    "        \n",
    "        # init\n",
    "#         init.normal_(self.conv1.weight)\n",
    "#         init.normal_(self.conv2.weight)\n",
    "#         init.normal_(self.conv3.weight)\n",
    "#         init.normal_(self.conv1.bias)\n",
    "#         init.normal_(self.conv2.bias)\n",
    "#         init.normal_(self.conv3.bias)\n",
    "        \n",
    "#         init.normal_(self.fc1.weight)\n",
    "#         init.normal_(self.fc2.weight)\n",
    "#         init.normal_(self.fc3.weight)\n",
    "\n",
    "    def _conv_and_pool(self, x, conv):\n",
    "        # x: (batch, 1, size, 4)\n",
    "        x = conv(x)\n",
    "        # x: (batch, kernel_num, H_out, 1)\n",
    "        x = F.relu(x.squeeze(3))\n",
    "        # x: (batch, kernel_num, H_out)\n",
    "#         x = F.max_pool1d(x, x.size(2)).squeeze(2)\n",
    "        x = self.kmax_pooling(x, 2, k=self.k)\n",
    "        x = x.view(x.size(0), x.size(1) * x.size(2))\n",
    "        #  (batch, kernel_num * k)\n",
    "        return x\n",
    "    \n",
    "    def setDropout(self, dropout):\n",
    "        self.dropout = nn.Dropout(dropout)\n",
    "\n",
    "\n",
    "    def forward(self, x):\n",
    "        # x: (batch, size)\n",
    "        # x: (batch, sentence_length, embed_dim)\n",
    "        x = x.view(x.size(0),1, 30, 4)\n",
    "        x1 = self._conv_and_pool(x, self.conv1)  # (batch, kernel_num * k)\n",
    "        x2 = self._conv_and_pool(x, self.conv2)  # (batch, kernel_num * k)\n",
    "        x3 = self._conv_and_pool(x, self.conv3)  # (batch, kernel_num * k)\n",
    "        x4 = self._conv_and_pool(x, self.conv4)  # (batch, kernel_num * k)\n",
    "#         x5 = self._conv_and_pool(x, self.conv5)  # (batch, kernel_num * k)\n",
    "#         x6 = self._conv_and_pool(x, self.conv6)  # (batch, kernel_num * k)\n",
    "        \n",
    "\n",
    "        \n",
    "        x = torch.cat((x1, x2, x3, x4), 1)  # (batch, 6 * kernel_num * k)\n",
    "        x = self.dropout(x)\n",
    "        x = self.fc1(x)\n",
    "        x = F.relu(x)\n",
    "        x = self.dropout(x)\n",
    "        x = self.fc2(x)\n",
    "        x = F.relu(x)\n",
    "        x = self.dropout(x)\n",
    "#         x = \n",
    "#         logit = F.log_softmax(x, dim=1)\n",
    "        return self.fc3(x)\n",
    "    \n",
    "    def kmax_pooling(self, x, dim, k):\n",
    "        index = x.topk(k, dim = dim)[1].sort(dim = dim)[0]\n",
    "        return x.gather(dim, index)"
   ]
  },
  {
   "cell_type": "code",
   "execution_count": 5,
   "id": "9ca1a428",
   "metadata": {},
   "outputs": [],
   "source": [
    "class DNADataset(Dataset):\n",
    "    \n",
    "    def __init__(self, data, size):\n",
    "        super(DNADataset, self).__init__()\n",
    "        self.size = size\n",
    "        self.x = np.zeros((len(data),size, 4))\n",
    "        self.y = []\n",
    "\n",
    "        for I in range(len(data)):\n",
    "            self.y.append(data[I][1])\n",
    "            if type(data[0][0])==str:\n",
    "                for i in range(size):\n",
    "                    seq = data[I][0].lower()\n",
    "                    # one hot encoding\n",
    "                    pos = \"acgt\".find(seq[i])\n",
    "                    if pos >= 0:\n",
    "                        self.x[I][i][pos] = 1\n",
    "            else:\n",
    "                self.x[I] = data[I][0]\n",
    "        self.x = torch.FloatTensor(self.x)\n",
    "        self.y = torch.FloatTensor(self.y)\n",
    "\n",
    "        \n",
    "    def __len__(self):\n",
    "        return len(self.y)\n",
    "    \n",
    "    def __getitem__(self, index):\n",
    "        return self.x[index], self.y[index]\n",
    "        \n",
    "    # return a subset of dataset of given range\n",
    "    def get_subset(self, start, end):\n",
    "        \n",
    "        return DNADataset([(self.x[i],self.y[i]) for i in range(start, end)], self.size)"
   ]
  },
  {
   "cell_type": "code",
   "execution_count": 6,
   "id": "e9804a99",
   "metadata": {},
   "outputs": [],
   "source": [
    "#\n",
    "def load_data(file):\n",
    "    data = []\n",
    "    with open(file,\"r\") as f:\n",
    "        for line in f:\n",
    "            line = line.split()\n",
    "            data.append((line[0], float(line[1])))\n",
    "    return data"
   ]
  },
  {
   "cell_type": "code",
   "execution_count": 91,
   "id": "06ce5c4d",
   "metadata": {},
   "outputs": [],
   "source": [
    "# convert one-hot to GCAT seq\n",
    "def encoding_to_seq(encoding):\n",
    "    encoding = encoding.view(-1,4)\n",
    "    seq = []\n",
    "    s = 'ACGT'\n",
    "    for arr in encoding:\n",
    "        for i in range(4):\n",
    "            if arr[i] == 1.0:\n",
    "                seq.append(s[i])\n",
    "                break\n",
    "    return seq"
   ]
  },
  {
   "cell_type": "code",
   "execution_count": 41,
   "id": "fb2e1a06",
   "metadata": {},
   "outputs": [
    {
     "data": {
      "text/plain": [
       "array([[0., 0., 0., 1.],\n",
       "       [0., 0., 0., 1.],\n",
       "       [0., 1., 0., 0.],\n",
       "       [0., 0., 0., 1.],\n",
       "       [0., 0., 1., 0.],\n",
       "       [0., 1., 0., 0.],\n",
       "       [0., 1., 0., 0.],\n",
       "       [0., 0., 0., 1.],\n",
       "       [0., 0., 0., 1.],\n",
       "       [0., 0., 1., 0.],\n",
       "       [0., 0., 0., 1.],\n",
       "       [0., 0., 0., 1.],\n",
       "       [0., 0., 0., 1.],\n",
       "       [0., 1., 0., 0.],\n",
       "       [0., 0., 0., 1.],\n",
       "       [0., 0., 0., 1.],\n",
       "       [0., 0., 0., 1.],\n",
       "       [0., 1., 0., 0.],\n",
       "       [0., 1., 0., 0.],\n",
       "       [0., 0., 0., 1.],\n",
       "       [0., 1., 0., 0.],\n",
       "       [0., 0., 0., 1.],\n",
       "       [0., 1., 0., 0.],\n",
       "       [0., 0., 0., 1.],\n",
       "       [0., 0., 1., 0.],\n",
       "       [0., 0., 1., 0.],\n",
       "       [0., 0., 1., 0.],\n",
       "       [0., 0., 0., 1.],\n",
       "       [0., 1., 0., 0.],\n",
       "       [0., 0., 1., 0.]], dtype=float32)"
      ]
     },
     "execution_count": 41,
     "metadata": {},
     "output_type": "execute_result"
    }
   ],
   "source": [
    "train_set[1][0].numpy()"
   ]
  },
  {
   "cell_type": "code",
   "execution_count": 7,
   "id": "88a965cc",
   "metadata": {},
   "outputs": [],
   "source": [
    "#\n",
    "train_set = DNADataset(load_data(\"../Cas9_predict_indel/dataset/train_txt\"),30)\n",
    "test_set = DNADataset(load_data(\"../Cas9_predict_indel/dataset/test_txt\"),30)"
   ]
  },
  {
   "cell_type": "code",
   "execution_count": 19,
   "id": "6009d279",
   "metadata": {},
   "outputs": [
    {
     "data": {
      "text/plain": [
       "SimpleCNN(\n",
       "  (dropout): Dropout(p=0.5, inplace=False)\n",
       "  (conv1): Conv2d(1, 100, kernel_size=(3, 4), stride=(1, 1))\n",
       "  (conv2): Conv2d(1, 60, kernel_size=(5, 4), stride=(1, 1))\n",
       "  (conv3): Conv2d(1, 60, kernel_size=(7, 4), stride=(1, 1))\n",
       "  (conv4): Conv2d(1, 100, kernel_size=(9, 4), stride=(1, 1))\n",
       "  (fc1): Linear(in_features=1600, out_features=80, bias=True)\n",
       "  (fc2): Linear(in_features=80, out_features=60, bias=True)\n",
       "  (fc3): Linear(in_features=60, out_features=1, bias=True)\n",
       ")"
      ]
     },
     "execution_count": 19,
     "metadata": {},
     "output_type": "execute_result"
    }
   ],
   "source": [
    "args = {\n",
    "    'kernel_num': [100, 60, 60, 100],\n",
    "    'dropout': 0.5,\n",
    "    'fc1_out': 80,\n",
    "    'fc2_out': 60,\n",
    "    'fc3_out': 1,\n",
    "    'input_max_length':30,\n",
    "    'k_max' : 5\n",
    "}\n",
    "model = SimpleCNN(args)\n",
    "model.load(\"./cnn_%s.t\")\n",
    "model.eval()"
   ]
  },
  {
   "cell_type": "code",
   "execution_count": 69,
   "id": "ef6c3a54",
   "metadata": {},
   "outputs": [
    {
     "name": "stdout",
     "output_type": "stream",
     "text": [
      "IG Attributions: tensor([[[-0.1341,  0.0000, -0.0000,  0.0000],\n",
      "         [-0.0778, -0.0000, -0.0000,  0.0000],\n",
      "         [-0.2289, -0.0000, -0.0000,  0.0000],\n",
      "         [-0.0000,  1.1845, -0.0000, -0.0000],\n",
      "         [-0.0000,  0.0000, -0.0000, -0.6748],\n",
      "         [-0.0000, -0.0000, -0.0000,  1.3915],\n",
      "         [-0.0000, -0.0000,  1.8591, -0.0000],\n",
      "         [ 2.8174, -0.0000, -0.0000, -0.0000],\n",
      "         [-0.0000, -0.0000,  2.8769, -0.0000],\n",
      "         [ 2.7022, -0.0000, -0.0000, -0.0000],\n",
      "         [-0.0000, -0.0000,  2.1539, -0.0000],\n",
      "         [-0.0000,  2.8319, -0.0000, -0.0000],\n",
      "         [ 0.0000, -0.0000, -0.0000, -1.5476],\n",
      "         [ 0.0000,  0.0000,  0.0000, -4.4814],\n",
      "         [ 0.0000,  0.0000,  0.0000, -5.0508],\n",
      "         [-0.0000,  2.6051,  0.0000, -0.0000],\n",
      "         [ 2.0612,  0.0000,  0.0000, -0.0000],\n",
      "         [-0.0000,  0.0000, -0.0000, -1.5689],\n",
      "         [ 1.2361, -0.0000, -0.0000, -0.0000],\n",
      "         [ 3.2124, -0.0000, -0.0000, -0.0000],\n",
      "         [ 1.4398, -0.0000, -0.0000, -0.0000],\n",
      "         [-0.0000,  0.0000,  3.9004, -0.0000],\n",
      "         [-0.0000,  3.5560,  0.0000, -0.0000],\n",
      "         [ 0.0000, -0.0000,  0.0000, -3.6592],\n",
      "         [-0.0000,  0.0000, -0.0000, -1.7436],\n",
      "         [-0.0000, -0.0000,  3.0308, -0.0000],\n",
      "         [-0.0000, -0.0000,  5.2243, -0.0000],\n",
      "         [-0.0000,  2.2973, -0.0000, -0.0000],\n",
      "         [ 0.3527, -0.0000, -0.0000, -0.0000],\n",
      "         [-0.5033, -0.0000, -0.0000, -0.0000]]], dtype=torch.float64)\n"
     ]
    }
   ],
   "source": [
    "my_input = test_set[3][0]\n",
    "ig = IntegratedGradients(model)\n",
    "baseline = torch.zeros((1,30,4))\n",
    "model(my_input.view(1,30,4))\n",
    "attributions = ig.attribute(my_input, baseline, target=0, return_convergence_delta=False)\n",
    "print('IG Attributions:', attributions)\n",
    "# print('Convergence Delta:', delta)"
   ]
  },
  {
   "cell_type": "code",
   "execution_count": 70,
   "id": "0a2ef3f8",
   "metadata": {},
   "outputs": [],
   "source": [
    "import seaborn as sns\n",
    "sns.set_theme()"
   ]
  },
  {
   "cell_type": "code",
   "execution_count": 71,
   "id": "76fd4681",
   "metadata": {},
   "outputs": [],
   "source": [
    "import pandas as pd"
   ]
  },
  {
   "cell_type": "code",
   "execution_count": 75,
   "id": "79d472ac",
   "metadata": {},
   "outputs": [
    {
     "data": {
      "text/plain": [
       "<AxesSubplot:>"
      ]
     },
     "execution_count": 75,
     "metadata": {},
     "output_type": "execute_result"
    },
    {
     "data": {
      "image/png": "[encoded data removed]",
      "text/plain": [
       "<Figure size 1296x360 with 1 Axes>"
      ]
     },
     "metadata": {},
     "output_type": "display_data"
    }
   ],
   "source": [
    "attr = pd.DataFrame([sum(l) for l in attributions.view(30,4).numpy()], index=encoding_to_seq(my_input))\n",
    "sns.set(sns.set(rc = {'figure.figsize':(18,5)}))\n",
    "# sns.barplot(attr)\n",
    "attr.plot(kind='bar')"
   ]
  },
  {
   "cell_type": "code",
   "execution_count": 73,
   "id": "f2c4caff",
   "metadata": {},
   "outputs": [
    {
     "data": {
      "text/plain": [
       "tensor([[35.0058]], grad_fn=<AddmmBackward0>)"
      ]
     },
     "execution_count": 73,
     "metadata": {},
     "output_type": "execute_result"
    }
   ],
   "source": [
    "model(my_input.view(1,30,4))"
   ]
  },
  {
   "cell_type": "code",
   "execution_count": 102,
   "id": "36d238ba",
   "metadata": {},
   "outputs": [],
   "source": [
    "def show_attr(x, y, method):\n",
    "    attr = None\n",
    "    if method == 'IG':\n",
    "        explainer = IntegratedGradients(model)\n",
    "        baseline = torch.zeros((1,30,4))\n",
    "        model(x.view(1,30,4))\n",
    "        attr = explainer.attribute(x, baseline, target=0, return_convergence_delta=False)\n",
    "    elif method == 'DL':\n",
    "        explainer = DeepLift(model)\n",
    "        baseline = torch.zeros((1,30,4))\n",
    "        model(x.view(1,30,4))\n",
    "        attr = explainer.attribute(x, baseline, target=0, return_convergence_delta=False)\n",
    "    \n",
    "    attr = pd.DataFrame([sum(l) for l in attr.view(30,4).detach().numpy()], index=encoding_to_seq(x))\n",
    "    sns.set(sns.set(rc = {'figure.figsize':(18,5)}))\n",
    "    # sns.barplot(attr)\n",
    "    attr.plot(kind='bar')\n",
    "    print(model(x))\n",
    "    print(y)\n",
    "    "
   ]
  },
  {
   "cell_type": "code",
   "execution_count": 115,
   "id": "fcfa6609",
   "metadata": {},
   "outputs": [
    {
     "name": "stdout",
     "output_type": "stream",
     "text": [
      "tensor([[41.5473]], grad_fn=<AddmmBackward0>)\n",
      "tensor(42.6380)\n"
     ]
    },
    {
     "data": {
      "image/png": "[encoded data removed]",
      "text/plain": [
       "<Figure size 1296x360 with 1 Axes>"
      ]
     },
     "metadata": {},
     "output_type": "display_data"
    }
   ],
   "source": [
    "test_case_index = 487\n",
    "show_attr(test_set[test_case_index][0].view(1,30,4),test_set[test_case_index][1] , method='IG')"
   ]
  },
  {
   "cell_type": "code",
   "execution_count": null,
   "id": "9e0c9e26",
   "metadata": {},
   "outputs": [],
   "source": []
  }
 ],
 "metadata": {
  "kernelspec": {
   "display_name": "Python 3",
   "language": "python",
   "name": "python3"
  },
  "language_info": {
   "codemirror_mode": {
    "name": "ipython",
    "version": 3
   },
   "file_extension": ".py",
   "mimetype": "text/x-python",
   "name": "python",
   "nbconvert_exporter": "python",
   "pygments_lexer": "ipython3",
   "version": "3.8.8"
  }
 },
 "nbformat": 4,
 "nbformat_minor": 5
}
