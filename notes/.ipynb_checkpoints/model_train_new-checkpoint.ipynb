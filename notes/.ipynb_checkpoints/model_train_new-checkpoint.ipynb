{
 "cells": [
  {
   "cell_type": "code",
   "execution_count": 2,
   "id": "e4d47fe1",
   "metadata": {},
   "outputs": [
    {
     "data": {
      "text/plain": [
       "'/usr/bin/python3'"
      ]
     },
     "execution_count": 2,
     "metadata": {},
     "output_type": "execute_result"
    }
   ],
   "source": [
    "import sys\n",
    "sys.executable"
   ]
  },
  {
   "cell_type": "code",
   "execution_count": 1,
   "id": "99ee24cf",
   "metadata": {},
   "outputs": [],
   "source": [
    "import torch\n",
    "import torch.nn as nn\n",
    "import torch.nn.init as init\n",
    "from torch.utils.data import DataLoader, TensorDataset, Dataset\n",
    "from torch.autograd import Variable\n",
    "from torch.nn import functional as F\n",
    "from torch.utils.data.sampler import SubsetRandomSampler\n",
    "import numpy as np\n",
    "from collections import defaultdict\n"
   ]
  },
  {
   "cell_type": "code",
   "execution_count": null,
   "id": "abd6c90b",
   "metadata": {},
   "outputs": [],
   "source": []
  },
  {
   "cell_type": "code",
   "execution_count": 2,
   "id": "470ab244",
   "metadata": {},
   "outputs": [],
   "source": [
    "class BasicModule(nn.Module):\n",
    "    def __init__(self):\n",
    "        super(BasicModule, self).__init__()\n",
    "        self.model_name = str(type(self))\n",
    "\n",
    "    def load(self, path):\n",
    "        self.load_state_dict(torch.load(path))\n",
    "\n",
    "    def save(self, path):\n",
    "        torch.save(self.state_dict(), path)"
   ]
  },
  {
   "cell_type": "code",
   "execution_count": 65,
   "id": "a173381c",
   "metadata": {},
   "outputs": [],
   "source": [
    "# -*- coding: utf-8 -*-\n",
    "\n",
    "\n",
    "class SimpleCNN(BasicModule):\n",
    "    def __init__(self,args):\n",
    "        super(SimpleCNN, self).__init__()\n",
    "        # output size of fc layers\n",
    "        out1 = args['fc1_out']\n",
    "        out2 = args['fc2_out']\n",
    "        out3 = args['fc3_out'] # output layer\n",
    "        self.params = args\n",
    "        self.k = args['k_max']\n",
    "        \n",
    "        # self.k = args['k'] # for k max pooling\n",
    "        self.kernel_num = args['kernel_num']\n",
    "        self.dropout = nn.Dropout(args['dropout'])\n",
    " \n",
    "        \n",
    "        # convolution layers\n",
    "        self.conv1 = nn.Conv2d(1, self.kernel_num[0], (3, 4), bias=True)\n",
    "        self.conv2 = nn.Conv2d(1, self.kernel_num[1], (5, 4), bias=True)\n",
    "        self.conv3 = nn.Conv2d(1, self.kernel_num[2], (7, 4), bias=True)\n",
    "        self.conv4 = nn.Conv2d(1, self.kernel_num[3], (9, 4), bias=True)\n",
    "#         self.conv5 = nn.Conv2d(1, self.kernel_num[4], (11, 4), bias=True)\n",
    "#         self.conv6 = nn.Conv2d(1, self.kernel_num[5], (13, 4), bias=True)\n",
    "        \n",
    "        # fc layers\n",
    "        self.fc1 = nn.Linear((sum(self.kernel_num))*self.k, out1, bias=True)\n",
    "        self.fc2 = nn.Linear(out1, out2, bias=True)\n",
    "        self.fc3 = nn.Linear(out2, out3, bias=True)\n",
    "        \n",
    "        # init\n",
    "#         init.normal_(self.conv1.weight)\n",
    "#         init.normal_(self.conv2.weight)\n",
    "#         init.normal_(self.conv3.weight)\n",
    "#         init.normal_(self.conv1.bias)\n",
    "#         init.normal_(self.conv2.bias)\n",
    "#         init.normal_(self.conv3.bias)\n",
    "        \n",
    "#         init.normal_(self.fc1.weight)\n",
    "#         init.normal_(self.fc2.weight)\n",
    "#         init.normal_(self.fc3.weight)\n",
    "\n",
    "    def _conv_and_pool(self, x, conv):\n",
    "        # x: (batch, 1, size, 4)\n",
    "        x = conv(x)\n",
    "        # x: (batch, kernel_num, H_out, 1)\n",
    "        x = F.relu(x.squeeze(3))\n",
    "        # x: (batch, kernel_num, H_out)\n",
    "#         x = F.max_pool1d(x, x.size(2)).squeeze(2)\n",
    "        x = self.kmax_pooling(x, 2, k=self.k)\n",
    "        x = x.view(x.size(0), x.size(1) * x.size(2))\n",
    "        #  (batch, kernel_num * k)\n",
    "        return x\n",
    "    \n",
    "    def setDropout(self, dropout):\n",
    "        self.dropout = nn.Dropout(dropout)\n",
    "\n",
    "\n",
    "    def forward(self, x):\n",
    "        # x: (batch, size)\n",
    "        # x: (batch, sentence_length, embed_dim)\n",
    "        x = x.view(x.size(0),1, 30, 4)\n",
    "        x1 = self._conv_and_pool(x, self.conv1)  # (batch, kernel_num * k)\n",
    "        x2 = self._conv_and_pool(x, self.conv2)  # (batch, kernel_num * k)\n",
    "        x3 = self._conv_and_pool(x, self.conv3)  # (batch, kernel_num * k)\n",
    "        x4 = self._conv_and_pool(x, self.conv4)  # (batch, kernel_num * k)\n",
    "#         x5 = self._conv_and_pool(x, self.conv5)  # (batch, kernel_num * k)\n",
    "#         x6 = self._conv_and_pool(x, self.conv6)  # (batch, kernel_num * k)\n",
    "        \n",
    "\n",
    "        \n",
    "        x = torch.cat((x1, x2, x3, x4), 1)  # (batch, 6 * kernel_num * k)\n",
    "        x = self.dropout(x)\n",
    "        x = self.fc1(x)\n",
    "        x = F.relu(x)\n",
    "        x = self.dropout(x)\n",
    "        x = self.fc2(x)\n",
    "        x = F.relu(x)\n",
    "        x = self.dropout(x)\n",
    "#         x = \n",
    "#         logit = F.log_softmax(x, dim=1)\n",
    "        return self.fc3(x)\n",
    "    \n",
    "    def kmax_pooling(self, x, dim, k):\n",
    "        index = x.topk(k, dim = dim)[1].sort(dim = dim)[0]\n",
    "        return x.gather(dim, index)"
   ]
  },
  {
   "cell_type": "code",
   "execution_count": 22,
   "id": "aac354b7",
   "metadata": {},
   "outputs": [],
   "source": [
    "class DNADataset(Dataset):\n",
    "    \n",
    "    def __init__(self, data, size):\n",
    "        super(DNADataset, self).__init__()\n",
    "        self.size = size\n",
    "        self.x = np.zeros((len(data),size, 4))\n",
    "        self.y = []\n",
    "\n",
    "        for I in range(len(data)):\n",
    "            self.y.append(data[I][1])\n",
    "            if type(data[0][0])==str:\n",
    "                for i in range(size):\n",
    "                    seq = data[I][0].lower()\n",
    "                    # one hot encoding\n",
    "                    pos = \"acgt\".find(seq[i])\n",
    "                    if pos >= 0:\n",
    "                        self.x[I][i][pos] = 1\n",
    "            else:\n",
    "                self.x[I] = data[I][0]\n",
    "        self.x = torch.FloatTensor(self.x)\n",
    "        self.y = torch.FloatTensor(self.y)\n",
    "\n",
    "        \n",
    "    def __len__(self):\n",
    "        return len(self.y)\n",
    "    \n",
    "    def __getitem__(self, index):\n",
    "        return self.x[index], self.y[index]\n",
    "        \n",
    "    # return a subset of dataset of given range\n",
    "    def get_subset(self, start, end):\n",
    "        \n",
    "        return DNADataset([(self.x[i],self.y[i]) for i in range(start, end)], self.size)"
   ]
  },
  {
   "cell_type": "code",
   "execution_count": 5,
   "id": "7c0737e6",
   "metadata": {},
   "outputs": [],
   "source": [
    "#\n",
    "def load_data(file):\n",
    "    data = []\n",
    "    with open(file,\"r\") as f:\n",
    "        for line in f:\n",
    "            line = line.split()\n",
    "            data.append((line[0], float(line[1])))\n",
    "    return data"
   ]
  },
  {
   "cell_type": "code",
   "execution_count": 23,
   "id": "30920e22",
   "metadata": {},
   "outputs": [],
   "source": [
    "#\n",
    "train_set = DNADataset(load_data(\"../dataset/train_txt\"),30)\n",
    "test_set = DNADataset(load_data(\"../dataset/test_txt\"),30)\n"
   ]
  },
  {
   "cell_type": "code",
   "execution_count": 54,
   "id": "6e393335",
   "metadata": {},
   "outputs": [],
   "source": [
    "def train(model, train_dataset, epochs, batch_size, cv=0.1, learning_rate=0.001, start = 0, end = 0):\n",
    "    subset = train_dataset.get_subset(start, end)\n",
    "    n_training_samples = len(subset) * (1-cv)\n",
    "    n_val_samples = len(subset) * cv\n",
    "    train_loader =torch.utils.data.DataLoader(subset, batch_size=batch_size,\n",
    "                                              sampler=SubsetRandomSampler(\n",
    "                                                  np.arange(n_training_samples, dtype=np.int64)\n",
    "                                              ),\n",
    "                                              num_workers=3)\n",
    "    val_loader =torch.utils.data.DataLoader(subset, batch_size=100,\n",
    "                                              sampler=SubsetRandomSampler(\n",
    "                                                  np.arange(n_training_samples, n_training_samples + n_val_samples, dtype=np.int64)\n",
    "                                              ), num_workers=3)\n",
    "    optimizer = torch.optim.Adam(model.parameters(), lr=learning_rate)\n",
    "    criterion = nn.MSELoss()\n",
    "    model.float()\n",
    "\n",
    "    print(\"Train %s samples.\"%n_training_samples)\n",
    "    \n",
    "    for e in range(epochs):\n",
    "        # train loss\n",
    "        epoch_train_loss = 0.0\n",
    "        model.setDropout(model.params['dropout'])\n",
    "        for inp, scores in train_loader:\n",
    "            inp = inp.unsqueeze(1)\n",
    "            inp = Variable(inp)\n",
    "            out = model(inp).view((-1))\n",
    "\n",
    "            scores = Variable(torch.FloatTensor(scores))\n",
    "            loss = criterion(out, scores)\n",
    "            epoch_train_loss += loss\n",
    "            optimizer.zero_grad()\n",
    "            loss.backward()\n",
    "            optimizer.step()\n",
    "                \n",
    "        # validation loss\n",
    "#         epoch_val_loss = 0.0\n",
    "#         for inp, labels in val_loader:\n",
    "#             inp = inp.unsqueeze(1)\n",
    "#             out = model(inp)        \n",
    "#             loss = criterion(out, labels)\n",
    "#             epoch_val_loss += loss\n",
    "\n",
    "\n",
    "#         print(str(epoch_train_loss) + ' ')\n",
    "#         print(str(epoch_val_loss.tolist()) + '\\n')\n",
    "        model.setDropout(0.0)\n",
    "        print(e)\n",
    "        corr = pd.DataFrame([[endo[i][0], endo[i][1], endo_scores(endo_dataset)[i]] for i in range(len(endo))], columns=['seq', 'endogenous', 'integrated'])\\\n",
    "    [['endogenous', 'integrated']].corr(method='spearman')['endogenous']['integrated']\n",
    "        print(corr)\n",
    "        if corr >= 0.65:\n",
    "            model.save(\"../model/cnn_%s.t\")\n",
    "            print(model.params)"
   ]
  },
  {
   "cell_type": "code",
   "execution_count": 43,
   "id": "48196fba",
   "metadata": {},
   "outputs": [
    {
     "data": {
      "text/plain": [
       "0.333"
      ]
     },
     "execution_count": 43,
     "metadata": {},
     "output_type": "execute_result"
    }
   ],
   "source": [
    "a = 0.333234\n",
    "round(a,3)"
   ]
  },
  {
   "cell_type": "code",
   "execution_count": 71,
   "id": "05c1a633",
   "metadata": {},
   "outputs": [
    {
     "name": "stdout",
     "output_type": "stream",
     "text": [
      "Train 12833.0 samples.\n",
      "0\n",
      "0.44866089693155\n",
      "1\n",
      "0.42365381589299766\n",
      "2\n",
      "0.46391817466561763\n",
      "3\n",
      "0.5055609756097561\n",
      "4\n",
      "0.5460896931549961\n",
      "5\n",
      "0.5954807238394965\n",
      "6\n",
      "0.612059795436664\n",
      "7\n",
      "0.6328623131392604\n",
      "8\n",
      "0.6376774193548387\n",
      "9\n",
      "0.6235216365066877\n",
      "10\n",
      "0.6368717545239968\n",
      "11\n",
      "0.6381306058221873\n",
      "12\n",
      "0.6450983477576712\n",
      "13\n",
      "0.6383802334866022\n",
      "14\n",
      "0.6468040912667191\n",
      "15\n",
      "0.6475719905586153\n",
      "16\n",
      "0.63960346184107\n",
      "17\n",
      "0.65160448718332\n",
      "{'kernel_num': [100, 60, 60, 100], 'dropout': 0.5, 'fc1_out': 80, 'fc2_out': 60, 'fc3_out': 1, 'input_max_length': 30, 'k_max': 5}\n",
      "18\n",
      "0.6360198835883304\n",
      "19\n",
      "0.643648534459545\n",
      "20\n",
      "0.6293375295043273\n",
      "21\n",
      "0.6320167301608614\n",
      "22\n",
      "0.637639653815893\n",
      "23\n",
      "0.6381725226955544\n",
      "24\n",
      "0.6398971516878916\n",
      "25\n",
      "0.6203282774646192\n",
      "26\n",
      "0.6209976396538159\n",
      "27\n",
      "0.6253973249409913\n",
      "28\n",
      "0.6348512981904013\n",
      "29\n",
      "0.6245161290322581\n"
     ]
    }
   ],
   "source": [
    "args = {\n",
    "    'kernel_num': [100, 60, 60, 100],\n",
    "    'dropout': 0.5,\n",
    "    'fc1_out': 80,\n",
    "    'fc2_out': 60,\n",
    "    'fc3_out': 1,\n",
    "    'input_max_length':30,\n",
    "    'k_max' : 5\n",
    "}\n",
    "model = SimpleCNN(args)\n",
    "train(model, train_set, 30, 120, cv=0.0, start=0, end=12833)"
   ]
  },
  {
   "cell_type": "code",
   "execution_count": 72,
   "id": "025e197c",
   "metadata": {},
   "outputs": [
    {
     "name": "stdout",
     "output_type": "stream",
     "text": [
      "Train 12833.0 samples.\n",
      "0\n",
      "0.6412651455546814\n",
      "1\n",
      "0.6378158929976396\n",
      "2\n",
      "0.6358457907159717\n",
      "3\n",
      "0.6421715184893785\n",
      "4\n",
      "0.6295263571990558\n",
      "5\n",
      "0.6285192761605035\n",
      "6\n",
      "0.6233516915814319\n",
      "7\n",
      "0.6124626278520849\n",
      "8\n",
      "0.6139669551534225\n",
      "9\n",
      "0.6206766325727774\n",
      "10\n",
      "0.6261589299763965\n",
      "11\n",
      "0.6256428009441385\n",
      "12\n",
      "0.6198898505114083\n",
      "13\n",
      "0.6127584579071598\n",
      "14\n",
      "0.6140802517702596\n"
     ]
    }
   ],
   "source": [
    "train(model, train_set, 15, 160, cv=0.0, start=0, end=12833)"
   ]
  },
  {
   "cell_type": "code",
   "execution_count": 496,
   "id": "240a52ad",
   "metadata": {},
   "outputs": [
    {
     "name": "stdout",
     "output_type": "stream",
     "text": [
      "Train 12833.0 samples.\n",
      "0\n",
      "            endogenous  integrated\n",
      "endogenous      1.0000      0.6534\n",
      "integrated      0.6534      1.0000\n",
      "1\n",
      "            endogenous  integrated\n",
      "endogenous    1.000000    0.648365\n",
      "integrated    0.648365    1.000000\n",
      "2\n",
      "            endogenous  integrated\n",
      "endogenous    1.000000    0.646414\n",
      "integrated    0.646414    1.000000\n",
      "3\n",
      "            endogenous  integrated\n",
      "endogenous    1.000000    0.664277\n",
      "integrated    0.664277    1.000000\n",
      "4\n",
      "            endogenous  integrated\n",
      "endogenous    1.000000    0.669432\n",
      "integrated    0.669432    1.000000\n",
      "5\n",
      "            endogenous  integrated\n",
      "endogenous     1.00000     0.67837\n",
      "integrated     0.67837     1.00000\n",
      "6\n",
      "            endogenous  integrated\n",
      "endogenous    1.000000    0.656076\n",
      "integrated    0.656076    1.000000\n",
      "7\n",
      "            endogenous  integrated\n",
      "endogenous     1.00000     0.65595\n",
      "integrated     0.65595     1.00000\n",
      "8\n",
      "            endogenous  integrated\n",
      "endogenous    1.000000    0.655068\n",
      "integrated    0.655068    1.000000\n",
      "9\n",
      "            endogenous  integrated\n",
      "endogenous    1.000000    0.650818\n",
      "integrated    0.650818    1.000000\n"
     ]
    }
   ],
   "source": [
    "train(model, train_set, 10, 100, cv=0.0, start=0, end=12833)"
   ]
  },
  {
   "cell_type": "code",
   "execution_count": 480,
   "id": "9abcd9a2",
   "metadata": {},
   "outputs": [
    {
     "name": "stdout",
     "output_type": "stream",
     "text": [
      "Train 12833.0 samples.\n",
      "0\n",
      "            endogenous  integrated\n",
      "endogenous    1.000000    0.612601\n",
      "integrated    0.612601    1.000000\n",
      "1\n",
      "            endogenous  integrated\n",
      "endogenous    1.000000    0.612393\n",
      "integrated    0.612393    1.000000\n",
      "2\n",
      "            endogenous  integrated\n",
      "endogenous     1.00000     0.60788\n",
      "integrated     0.60788     1.00000\n",
      "3\n",
      "            endogenous  integrated\n",
      "endogenous    1.000000    0.609152\n",
      "integrated    0.609152    1.000000\n",
      "4\n",
      "            endogenous  integrated\n",
      "endogenous    1.000000    0.614974\n",
      "integrated    0.614974    1.000000\n",
      "5\n",
      "            endogenous  integrated\n",
      "endogenous    1.000000    0.618713\n",
      "integrated    0.618713    1.000000\n",
      "6\n",
      "            endogenous  integrated\n",
      "endogenous    1.000000    0.615899\n",
      "integrated    0.615899    1.000000\n",
      "7\n",
      "            endogenous  integrated\n",
      "endogenous    1.000000    0.603946\n",
      "integrated    0.603946    1.000000\n",
      "8\n",
      "            endogenous  integrated\n",
      "endogenous    1.000000    0.611355\n",
      "integrated    0.611355    1.000000\n",
      "9\n",
      "            endogenous  integrated\n",
      "endogenous    1.000000    0.606426\n",
      "integrated    0.606426    1.000000\n"
     ]
    }
   ],
   "source": [
    "train(model, train_set, 10, 100, cv=0.0, start=0, end=12833)"
   ]
  },
  {
   "cell_type": "markdown",
   "id": "6154119e",
   "metadata": {},
   "source": [
    "# Correlation"
   ]
  },
  {
   "cell_type": "code",
   "execution_count": 25,
   "id": "f08f57af",
   "metadata": {},
   "outputs": [],
   "source": [
    "import pandas as pd"
   ]
  },
  {
   "cell_type": "code",
   "execution_count": 26,
   "id": "1dde3f14",
   "metadata": {},
   "outputs": [],
   "source": [
    "endo = load_data(\"../dataset/table3\")\n",
    "\n"
   ]
  },
  {
   "cell_type": "code",
   "execution_count": 27,
   "id": "60e308f9",
   "metadata": {},
   "outputs": [],
   "source": [
    "endo_dataset = DNADataset(endo,30)\n"
   ]
  },
  {
   "cell_type": "code",
   "execution_count": 28,
   "id": "b11a3a54",
   "metadata": {},
   "outputs": [],
   "source": [
    "def endo_scores(dataset):\n",
    "    escores = []\n",
    "    for inp, scores in DataLoader(dataset, batch_size=100):\n",
    "        inp = inp.unsqueeze(1)\n",
    "        inp = Variable(inp)\n",
    "        out = model(inp).view((-1))\n",
    "        for v in out.detach().numpy():\n",
    "            escores.append(v)\n",
    "    return escores"
   ]
  },
  {
   "cell_type": "code",
   "execution_count": 29,
   "id": "30a4bc08",
   "metadata": {},
   "outputs": [],
   "source": [
    "escores = endo_scores(endo_dataset)"
   ]
  },
  {
   "cell_type": "code",
   "execution_count": 45,
   "id": "92ec0684",
   "metadata": {},
   "outputs": [],
   "source": [
    "combined_df = pd.DataFrame([[endo[i][0], endo[i][1], escores[i]] for i in range(len(endo))], columns=['seq', 'endogenous', 'integrated'] )"
   ]
  },
  {
   "cell_type": "code",
   "execution_count": 52,
   "id": "5fa23c7a",
   "metadata": {},
   "outputs": [
    {
     "data": {
      "text/plain": [
       "0.4102470495672699"
      ]
     },
     "execution_count": 52,
     "metadata": {},
     "output_type": "execute_result"
    }
   ],
   "source": [
    "combined_df[['endogenous', 'integrated']].corr(method='spearman')['endogenous']['integrated']"
   ]
  },
  {
   "cell_type": "code",
   "execution_count": null,
   "id": "371b0ac7",
   "metadata": {},
   "outputs": [],
   "source": []
  }
 ],
 "metadata": {
  "kernelspec": {
   "display_name": "Python 3",
   "language": "python",
   "name": "python3"
  },
  "language_info": {
   "codemirror_mode": {
    "name": "ipython",
    "version": 3
   },
   "file_extension": ".py",
   "mimetype": "text/x-python",
   "name": "python",
   "nbconvert_exporter": "python",
   "pygments_lexer": "ipython3",
   "version": "3.8.8"
  }
 },
 "nbformat": 4,
 "nbformat_minor": 5
}
