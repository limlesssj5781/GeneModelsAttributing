{
 "cells": [
  {
   "cell_type": "code",
   "execution_count": 1,
   "id": "6f9311a5",
   "metadata": {},
   "outputs": [],
   "source": [
    "import torch\n",
    "import torch.nn as nn\n",
    "import torch.nn.init as init\n",
    "from torch.utils.data import DataLoader, TensorDataset, Dataset\n",
    "from torch.autograd import Variable\n",
    "from torch.nn import functional as F\n",
    "from torch.utils.data.sampler import SubsetRandomSampler\n",
    "import numpy as np\n",
    "from collections import defaultdict\n",
    "import pandas as pd\n"
   ]
  },
  {
   "cell_type": "code",
   "execution_count": 2,
   "id": "76bdfc3c",
   "metadata": {},
   "outputs": [],
   "source": [
    "from tqdm import tqdm"
   ]
  },
  {
   "cell_type": "code",
   "execution_count": 3,
   "id": "47b6120c",
   "metadata": {},
   "outputs": [],
   "source": [
    "# with tqdm(total=int(len())) as pbar:"
   ]
  },
  {
   "cell_type": "code",
   "execution_count": 4,
   "id": "78afa419",
   "metadata": {},
   "outputs": [],
   "source": [
    "class SeqDataset(Dataset):\n",
    "    \n",
    "    def __init__(self, data, size):\n",
    "        super(SeqDataset, self).__init__()\n",
    "        self.size = size\n",
    "        self.x = []\n",
    "        self.y = []\n",
    "        match = {\n",
    "            'X':0,\n",
    "            'N':0,\n",
    "            'A':1,\n",
    "            'C':2,\n",
    "            'G':3,\n",
    "            'T':4\n",
    "        }\n",
    "\n",
    "        for I in range(len(data)):\n",
    "            self.y.append(data[I][1])\n",
    "            self.x.append([match[b] for b in data[I][0]])\n",
    "            \n",
    "        self.x = torch.LongTensor(self.x)\n",
    "        self.y = torch.FloatTensor(self.y)/100\n",
    "\n",
    "        \n",
    "    def __len__(self):\n",
    "        return len(self.y)\n",
    "    \n",
    "    def __getitem__(self, index):\n",
    "        return self.x[index], self.y[index]\n",
    "        \n",
    "    # return a subset of dataset of given range\n",
    "    def get_subset(self, start, end):\n",
    "        \n",
    "        return SeqDataset([(self.x[i],self.y[i]) for i in range(start, end)], self.size)"
   ]
  },
  {
   "cell_type": "code",
   "execution_count": 89,
   "id": "4ad34920",
   "metadata": {},
   "outputs": [],
   "source": [
    "class DNADataset(Dataset):\n",
    "    \n",
    "    def __init__(self, data, size):\n",
    "        super(DNADataset, self).__init__()\n",
    "        self.size = size\n",
    "        self.x = np.zeros((len(data),size, 4))\n",
    "        self.y = []\n",
    "\n",
    "        for I in range(len(data)):\n",
    "            self.y.append(data[I][1])\n",
    "            if type(data[0][0])==str:\n",
    "                for i in range(size):\n",
    "                    seq = data[I][0].lower()\n",
    "                    # one hot encoding\n",
    "                    pos = \"acgt\".find(seq[i])\n",
    "                    if pos >= 0:\n",
    "                        self.x[I][i][pos] = 1\n",
    "            else:\n",
    "                self.x[I] = data[I][0]\n",
    "        self.x = torch.FloatTensor(self.x)\n",
    "        self.y = torch.FloatTensor(self.y) / 100\n",
    "\n",
    "        \n",
    "    def __len__(self):\n",
    "        return len(self.y)\n",
    "    \n",
    "    def __getitem__(self, index):\n",
    "        return self.x[index], self.y[index]\n",
    "        \n",
    "    # return a subset of dataset of given range\n",
    "    def get_subset(self, start, end):\n",
    "        \n",
    "        return DNADataset([(self.x[i],self.y[i]) for i in range(start, end)], self.size)"
   ]
  },
  {
   "cell_type": "code",
   "execution_count": 6,
   "id": "ec57a684",
   "metadata": {},
   "outputs": [],
   "source": [
    "#\n",
    "def load_data(file):\n",
    "    data = []\n",
    "    with open(file,\"r\") as f:\n",
    "        for line in f:\n",
    "            line = line.split()\n",
    "            data.append((line[0], float(line[1])))\n",
    "    return data"
   ]
  },
  {
   "cell_type": "code",
   "execution_count": 108,
   "id": "c3fd0476",
   "metadata": {},
   "outputs": [],
   "source": [
    "train_set = SeqDataset(load_data(\"../dataset/train_txt\"),30)\n",
    "test_set = SeqDataset(load_data(\"../dataset/test_txt\"),30)\n",
    "endo = load_data(\"../dataset/table3\")\n",
    "endo_dataset = SeqDataset(endo,30)"
   ]
  },
  {
   "cell_type": "code",
   "execution_count": 90,
   "id": "351a58aa",
   "metadata": {},
   "outputs": [],
   "source": [
    "#\n",
    "train_set = DNADataset(load_data(\"../dataset/train_txt\"),30)\n",
    "test_set = DNADataset(load_data(\"../dataset/test_txt\"),30)\n",
    "endo = load_data(\"../dataset/table3\")\n",
    "endo_dataset = DNADataset(endo,30)\n",
    "\n",
    "# #\n",
    "# test_1a_df = pd.read_excel(\"../dataset/aax9249_table_s3.xlsx\", sheet_name=[1])[1]\n",
    "# test_1a = DNADataset([(test_1a_df[test_1a_df.columns[0]].values[i], float(test_1a_df[test_1a_df.columns[1]].values[i])) for i in range(len(test_1a_df)) ], 30)\n",
    "# test_1b_df = pd.read_excel(\"../dataset/aax9249_table_s3.xlsx\", sheet_name=[2])[2]\n",
    "# test_1b = DNADataset([(test_1b_df[test_1b_df.columns[0]].values[i], float(test_1b_df[test_1b_df.columns[1]].values[i])) for i in range(len(test_1b_df)) ], 30)"
   ]
  },
  {
   "cell_type": "code",
   "execution_count": 8,
   "id": "c7deb479",
   "metadata": {},
   "outputs": [],
   "source": [
    "class BasicModule(nn.Module):\n",
    "    def __init__(self):\n",
    "        super(BasicModule, self).__init__()\n",
    "        self.model_name = str(type(self))\n",
    "\n",
    "    def load(self, path):\n",
    "        self.load_state_dict(torch.load(path))\n",
    "\n",
    "    def save(self, path):\n",
    "        torch.save(self.state_dict(), path)"
   ]
  },
  {
   "cell_type": "code",
   "execution_count": 9,
   "id": "785fd91b",
   "metadata": {},
   "outputs": [],
   "source": [
    "class SimpleCNN(BasicModule):\n",
    "    def __init__(self,args):\n",
    "        super(SimpleCNN, self).__init__()\n",
    "        # output size of fc layers\n",
    "        out1 = args['fc1_out']\n",
    "        out2 = args['fc2_out']\n",
    "        out3 = args['fc3_out'] # output layer\n",
    "        self.params = args\n",
    "        self.k = args['k_max']\n",
    "        self.model_type = \"CNN\"\n",
    "        \n",
    "        # self.k = args['k'] # for k max pooling\n",
    "        self.kernel_num = args['kernel_num']\n",
    "        self.dropout = nn.Dropout(args['dropout'])\n",
    " \n",
    "        \n",
    "        # convolution layers\n",
    "        filter_sizes = [3, 5, 7, 9]\n",
    "        self.conv1 = nn.Conv2d(1, self.kernel_num[0], (3, 4), bias=True, padding=0)\n",
    "        self.conv2 = nn.Conv2d(1, self.kernel_num[1], (5, 4), bias=True, padding=0)\n",
    "        self.conv3 = nn.Conv2d(1, self.kernel_num[2], (7, 4), bias=True, padding=0)\n",
    "        self.conv4 = nn.Conv2d(1, self.kernel_num[3], (9, 4), bias=True, padding=0)\n",
    "#         self.conv5 = nn.Conv2d(1, self.kernel_num[4], (11, 4), bias=True, padding=0)\n",
    "\n",
    "        \n",
    "        # fc layers\n",
    "        self.fc1 = nn.Linear((sum([self.kernel_num[i] * (31-filter_sizes[i]) // 2 for i in range(len(filter_sizes))])), out1, bias=True)\n",
    "        self.fc2 = nn.Linear(out1, out2, bias=True)\n",
    "        self.fc3 = nn.Linear(out2, out3, bias=False)\n",
    "        \n",
    "\n",
    "    def _conv_and_pool(self, x, conv):\n",
    "        # x: (batch, 1, size, 4)\n",
    "        x = conv(x)\n",
    "        # x: (batch, kernel_num, H_out, 1)\n",
    "        x = F.relu(x)\n",
    "        # x: (batch, kernel_num, H_out, 1)\n",
    "        x = F.max_pool2d(x, kernel_size=(2,1), stride=(2,1))\n",
    "        x = x.view(x.size(0), x.size(1) * x.size(2))\n",
    "        #  (batch, kernel_num * k)\n",
    "        return x\n",
    "    \n",
    "    def setDropout(self, dropout):\n",
    "        self.dropout = nn.Dropout(dropout)\n",
    "\n",
    "    def forward(self, x):\n",
    "        # x: (batch, size)\n",
    "        # x: (batch, sentence_length, embed_dim)\n",
    "        x = x.view(x.size(0),1, 30, 4)\n",
    "        x1 = self._conv_and_pool(x, self.conv1) \n",
    "        x2 = self._conv_and_pool(x, self.conv2)  \n",
    "        x3 = self._conv_and_pool(x, self.conv3)  \n",
    "        x4 = self._conv_and_pool(x, self.conv4)  \n",
    "\n",
    "        \n",
    "        x = torch.cat((x1, x2, x3, x4), 1) \n",
    "        x = self.dropout(x)\n",
    "        x = self.fc1(x)\n",
    "        x = F.relu(x)\n",
    "        x = self.dropout(x)\n",
    "        x = self.fc2(x)\n",
    "        x = F.relu(x)\n",
    "        x = self.dropout(x)\n",
    "        \n",
    "        return self.fc3(x)"
   ]
  },
  {
   "cell_type": "code",
   "execution_count": 42,
   "id": "8e464333",
   "metadata": {},
   "outputs": [],
   "source": [
    "def test_scores(model, test_set, batch_size):\n",
    "    tscores = []\n",
    "    for inp, scores in DataLoader(test_set, batch_size=batch_size):\n",
    "        model.zero_grad()\n",
    "        # inp = inp.unsqueeze(1)\n",
    "        inp = Variable(inp)\n",
    "        if torch.cuda.is_available():\n",
    "            inp = inp.cuda()\n",
    "        out = model(inp).squeeze()\n",
    "        for v in out.cpu().detach().numpy():\n",
    "            tscores.append(v)\n",
    "    return tscores\n",
    "\n",
    "def check_corr(model, test_set):\n",
    "    model.setDropout(0.0)\n",
    "    tscores = test_scores(model, test_set, 400)\n",
    "    corr = pd.DataFrame([[test_set[i][0], float(test_set[i][1]), tscores[i]] for i in range(len(tscores))], columns=['seq', 'endogenous', 'integrated'])\\\n",
    "    [['endogenous', 'integrated']].corr(method='spearman')['endogenous']['integrated']\n",
    "    return corr"
   ]
  },
  {
   "cell_type": "code",
   "execution_count": 73,
   "id": "7c629511",
   "metadata": {},
   "outputs": [],
   "source": [
    "def train(model, train_dataset, epochs, batch_size, val_set, cv=0.1, learning_rate=0.001, start = 0, end = 0):\n",
    "    subset = train_dataset\n",
    "    n_training_samples = len(subset) * (1-cv)\n",
    "    n_val_samples = len(subset) * cv\n",
    "    train_loader =torch.utils.data.DataLoader(subset, batch_size=batch_size,\n",
    "                                              sampler=SubsetRandomSampler(\n",
    "                                                  np.arange(n_training_samples, dtype=np.int64)\n",
    "                                              ),\n",
    "                                              num_workers=0)\n",
    "    val_loader =torch.utils.data.DataLoader(subset, batch_size=100,\n",
    "                                              sampler=SubsetRandomSampler(\n",
    "                                                  np.arange(n_training_samples, n_training_samples + n_val_samples, dtype=np.int64)\n",
    "                                              ), num_workers=0)\n",
    "    optimizer = torch.optim.Adam(model.parameters(), lr=learning_rate)\n",
    "    criterion = nn.MSELoss()\n",
    "\n",
    "    \n",
    "    for e in range(epochs):\n",
    "        # train loss\n",
    "        epoch_train_loss = 0.0\n",
    "        model.setDropout(model.params['dropout'])\n",
    "        for (ii, (inp, scores)) in tqdm(enumerate(train_loader)):\n",
    "            # inp = inp.unsqueeze(1)\n",
    "            inp = Variable(inp.cuda())\n",
    "            scores = Variable(scores).cuda()\n",
    "            optimizer.zero_grad()\n",
    "            out = model(inp).squeeze()\n",
    "            loss = criterion(out, scores)\n",
    "            epoch_train_loss += float(loss)\n",
    "            loss.backward()\n",
    "            optimizer.step()\n",
    "                \n",
    "        # validation loss\n",
    "#         epoch_val_loss = 0.0\n",
    "#         for inp, labels in val_loader:\n",
    "#             inp = inp.unsqueeze(1)\n",
    "#             out = model(inp)        \n",
    "#             loss = criterion(out, labels)\n",
    "#             epoch_val_loss += loss\n",
    "\n",
    "\n",
    "#         print(str(epoch_train_loss) + ' ')\n",
    "#         print(str(epoch_val_loss.tolist()) + '\\n')\n",
    "        model.setDropout(0.0)\n",
    "        print(e)\n",
    "    #     tscores = test_scores(model, val_set, 400)\n",
    "    #     corr = pd.DataFrame([[val_set[i][0], float(val_set[i][1]), tscores[i]] for i in range(len(tscores))], columns=['seq', 'endogenous', 'integrated'])\\\n",
    "    # [['endogenous', 'integrated']].corr(method='spearman')['endogenous']['integrated']\n",
    "    #     print(corr)\n",
    "        endo_score, test_score = (check_corr(model, val_set), check_corr(model, test_set))\n",
    "        print(endo_score, test_score)\n",
    "        if endo_score >= 0.68 and test_score>=0.77:\n",
    "            print(\"Saving.\")\n",
    "            model.save(\"%s_%s.model\"%(model.params_to_str(), int(round(endo_score, 3)*100)))\n",
    "            break"
   ]
  },
  {
   "cell_type": "code",
   "execution_count": 12,
   "id": "1c27e6a3",
   "metadata": {},
   "outputs": [],
   "source": [
    "args = {\n",
    "    'kernel_num': [90, 60, 40, 110],\n",
    "    'dropout': 0.15,\n",
    "    'fc1_out': 80,\n",
    "    'fc2_out': 40,\n",
    "    'fc3_out': 1,\n",
    "    'input_max_length':30,\n",
    "    'k_max' : 1\n",
    "}\n",
    "model = SimpleCNN(args).cuda()"
   ]
  },
  {
   "cell_type": "code",
   "execution_count": 13,
   "id": "99058d54",
   "metadata": {},
   "outputs": [],
   "source": [
    "# train(model, train_set, 10 , 100, endo_dataset, cv=0.0, learning_rate=0.002, start=0, end=12832)"
   ]
  },
  {
   "cell_type": "code",
   "execution_count": 14,
   "id": "e7c00273",
   "metadata": {},
   "outputs": [],
   "source": [
    "# model(train_set.x[:120].view(120,30,4))"
   ]
  },
  {
   "cell_type": "code",
   "execution_count": 84,
   "id": "0e528bbf",
   "metadata": {},
   "outputs": [],
   "source": [
    "class SimpleLSTM(BasicModule):\n",
    "    def __init__(self,args):\n",
    "        super(SimpleLSTM, self).__init__()\n",
    "        self.dropout = nn.Dropout(args['dropout'])\n",
    "        self.params = args\n",
    "        self.model_type = \"LSTM\"\n",
    "#         self.conv1 = nn.Conv2d(1, args['out_channels'], (3, 4), padding=(1,0), bias=True)\n",
    "#         self.conv2 = nn.Conv2d(args['out_channels'], args['out_channels']//2, (3, 1), padding=(1,0), bias=True)\n",
    "        self.lstm = nn.LSTM(input_size=args['num_features'], \n",
    "                            hidden_size=args['hidden_size'], \n",
    "                            num_layers=args['num_lstm_layers'],\n",
    "                            batch_first=True, \n",
    "                            bias=True,\n",
    "                            dropout=args['dropout'], \n",
    "                            bidirectional=args['bidirectional'])\n",
    "        N = 2 if self.params['bidirectional'] else 1\n",
    "        # self.fc1 = nn.Linear(args['seq_length'] * args['k'] * N //2, args['out1'], bias=True)\n",
    "        self.fc1 = nn.Linear(args['hidden_size'] * args['k']  * N, args['out1'], bias=True)\n",
    "        self.fc2 = nn.Linear(args['out1'], args['out2'], bias=True)\n",
    "        self.bn = nn.BatchNorm1d(args['out1'])\n",
    "        self.relu = nn.ReLU(inplace=True)\n",
    "        self.hidden = None\n",
    "        \n",
    "    # def init_hidden(self, batch_size):\n",
    "    #     N = 2 if self.params['bidirectional'] else 1\n",
    "    #     hidden = (Variable(torch.zeros(self.params['num_layers']*N, batch_size, self.params['hidden_size'])),\n",
    "    #               Variable(torch.zeros(self.params['num_layers']*N, batch_size, self.params['hidden_size'])))\n",
    "    #     self.hidden = hidden\n",
    "        \n",
    "    \n",
    "    def forward(self, x):\n",
    "        batch_size = x.size(0)\n",
    "        x = x.view(batch_size, 30, 4)\n",
    "#         x = self.conv1(x)\n",
    "#         x = self.relu(x)\n",
    "#         x = self.conv2(x).squeeze(3)\n",
    "#         x = self.relu(x)\n",
    "#         x = torch.transpose(x, 1, 2)\n",
    "#         \n",
    "        out, _ = self.lstm(x)\n",
    "#         print(x.shape)\n",
    "        # self.hidden = (Variable(self.hidden[0]), Variable(self.hidden[1]))\n",
    "#         print(lstm_out.shape)\n",
    "# #         masker = torch.Tensor([[[0]*29+[1]]*30] * batch_size)\n",
    "#         # stack up lstm outputs\n",
    "# #         lstm_out = lstm_out[:, -1:, :].contiguous().view(batch_size, -1)\n",
    "#         lstm_out = torch.tanh(lstm_out)\n",
    "#         lstm_out = torch.transpose(lstm_out, 1, 2)\n",
    "#         \n",
    "        # shape: (batchsize, seq_length, hiddensize * bidirectional)\n",
    "        out = torch.transpose(out, 1, 2)\n",
    "        # print(out.shape)\n",
    "#       out = F.max_pool1d(out, 2, stride=2)\n",
    "        out = self.kmax_pooling(out, 2, self.params['k'])\n",
    "        # print(out.shape)\n",
    "        out = out.view(out.size(0), -1)\n",
    "        out = self.dropout(out)\n",
    "        out = self.fc1(out)\n",
    "        out = self.bn(out)\n",
    "        out = self.relu(out)\n",
    "        out = self.fc2(out)\n",
    "\n",
    "        \n",
    "        return out\n",
    "    \n",
    "    def setDropout(self, dropout):\n",
    "        self.dropout.p = dropout\n",
    "        self.lstm.dropout = dropout\n",
    "\n",
    "    def kmax_pooling(self, x, dim, k):\n",
    "        index = x.topk(k, dim=dim)[1].sort(dim=dim)[0]\n",
    "        return x.gather(dim, index)\n",
    "\n",
    "    def params_to_str(self):\n",
    "        return \"%s_hidden%s_layer%s_drpout%s_fc%s_k%s_\"%('bilstm' if self.params['bidirectional'] else 'lstm', \n",
    "                                                  self.params['hidden_size'],\n",
    "                                                  self.params['num_lstm_layers'],\n",
    "                                                  int(self.dropout.p * 10),\n",
    "                                                  self.params['out1'], \n",
    "                                                  self.params['k'])"
   ]
  },
  {
   "cell_type": "code",
   "execution_count": 132,
   "id": "7a9225ed",
   "metadata": {},
   "outputs": [],
   "source": [
    "class UnsupLSTM(BasicModule):\n",
    "    def __init__(self,args):\n",
    "        super(UnsupLSTM, self).__init__()\n",
    "        self.dropout = nn.Dropout(args['dropout'])\n",
    "        self.params = args\n",
    "        self.model_type = \"LSTM\"\n",
    "#         self.conv1 = nn.Conv2d(1, args['out_channels'], (3, 4), padding=(1,0), bias=True)\n",
    "#         self.conv2 = nn.Conv2d(args['out_channels'], args['out_channels']//2, (3, 1), padding=(1,0), bias=True)\n",
    "        N = 2 if self.params['bidirectional'] else 1\n",
    "        # self.fc1 = nn.Linear(args['seq_length'] * args['k'] * N //2, args['out1'], bias=True)\n",
    "        self.fc1 = nn.Linear(args['hidden_size'] * args['k']  * N, args['out1'], bias=True)\n",
    "        self.fc2 = nn.Linear(args['out1'], args['out2'], bias=True)\n",
    "        self.bn = nn.BatchNorm1d(args['out1'])\n",
    "        self.relu = nn.ReLU(inplace=True)\n",
    "        self.embed = nn.Embedding(5,args.get('embed_dim', 2)).requires_grad_(True)\n",
    "        self.lstm = nn.LSTM(input_size=self.embed.weight.shape[1], \n",
    "                            hidden_size=args['hidden_size'], \n",
    "                            num_layers=args['num_lstm_layers'],\n",
    "                            batch_first=True, \n",
    "                            bias=True,\n",
    "                            dropout=args['dropout'], \n",
    "                            bidirectional=args['bidirectional'])\n",
    "        \n",
    "    # def init_hidden(self, batch_size):\n",
    "    #     N = 2 if self.params['bidirectional'] else 1\n",
    "    #     hidden = (Variable(torch.zeros(self.params['num_layers']*N, batch_size, self.params['hidden_size'])),\n",
    "    #               Variable(torch.zeros(self.params['num_layers']*N, batch_size, self.params['hidden_size'])))\n",
    "    #     self.hidden = hidden\n",
    "        \n",
    "    \n",
    "    def forward(self, x):\n",
    "        batch_size = x.size(0)\n",
    "        x = self.embed(x)\n",
    "        # print(x.shape)   \n",
    "        out, _ = self.lstm(x)\n",
    "#         \n",
    "        # self.hidden = (Variable(self.hidden[0]), Variable(self.hidden[1]))\n",
    "#         print(lstm_out.shape)\n",
    "# #         masker = torch.Tensor([[[0]*29+[1]]*30] * batch_size)\n",
    "#         # stack up lstm outputs\n",
    "# #         lstm_out = lstm_out[:, -1:, :].contiguous().view(batch_size, -1)\n",
    "#         lstm_out = torch.tanh(lstm_out)\n",
    "#         lstm_out = torch.transpose(lstm_out, 1, 2)\n",
    "#         \n",
    "        # shape: (batchsize, seq_length, hiddensize * bidirectional)\n",
    "        out = torch.transpose(out, 1, 2)\n",
    "#       out = F.max_pool1d(out, 2, stride=2)\n",
    "        out = self.kmax_pooling(out, 2, self.params['k'])\n",
    "        # print(out.shape)\n",
    "        out = out.view(out.size(0), -1)\n",
    "        out = self.dropout(out)\n",
    "        out = self.fc1(out)\n",
    "        out = self.bn(out)\n",
    "        out = self.relu(out)\n",
    "        out = self.fc2(out)\n",
    "\n",
    "        \n",
    "        return out\n",
    "    \n",
    "    def setDropout(self, dropout):\n",
    "        self.dropout.p = dropout\n",
    "        self.lstm.dropout = dropout\n",
    "        \n",
    "    def kmax_pooling(self, x, dim, k):\n",
    "        index = x.topk(k, dim=dim)[1].sort(dim=dim)[0]\n",
    "        return x.gather(dim, index)\n",
    "\n",
    "    def params_to_str(self):\n",
    "        return \"%s_hidden%s_layer%s_drpout%s_fc%s_k%s_\"%('bilstm' if self.params['bidirectional'] else 'lstm', \n",
    "                                                  self.params['hidden_size'],\n",
    "                                                  self.params['num_lstm_layers'],\n",
    "                                                  int(self.dropout.p * 10),\n",
    "                                                  self.params['out1'], \n",
    "                                                  self.params['k'])"
   ]
  },
  {
   "cell_type": "code",
   "execution_count": 140,
   "id": "c438d2c7",
   "metadata": {},
   "outputs": [
    {
     "data": {
      "text/plain": [
       "torch.Size([5, 4])"
      ]
     },
     "execution_count": 140,
     "metadata": {},
     "output_type": "execute_result"
    }
   ],
   "source": [
    "UnsupLSTM(lstm_args).embed.weight.shape"
   ]
  },
  {
   "cell_type": "code",
   "execution_count": 139,
   "id": "1eabc3f4",
   "metadata": {},
   "outputs": [
    {
     "data": {
      "text/plain": [
       "tensor([[ 0.0491],\n",
       "        [-0.3558],\n",
       "        [ 0.0557],\n",
       "        [-0.4663],\n",
       "        [-0.2980]], device='cuda:0', grad_fn=<AddmmBackward0>)"
      ]
     },
     "execution_count": 139,
     "metadata": {},
     "output_type": "execute_result"
    }
   ],
   "source": [
    "lstm_args = {\n",
    "    'seq_length': 30,\n",
    "    'embed_dim': 4,\n",
    "    'bidirectional': True,\n",
    "    'num_features': 4,\n",
    "    'num_lstm_layers': 2,\n",
    "    'hidden_size': 16,\n",
    "    'dropout': 0.5,\n",
    "    'out1': 80,\n",
    "    'out2': 1,\n",
    "    'k': 30,\n",
    "}\n",
    "# lstm_model = SimpleLSTM(lstm_args).cuda()\n",
    "# lstm_model(train_set.x[:5].cuda())\n",
    "ulstm_model = UnsupLSTM(lstm_args).cuda()\n",
    "ulstm_model(train_set.x[:5].cuda())"
   ]
  },
  {
   "cell_type": "code",
   "execution_count": 123,
   "id": "8011517e",
   "metadata": {},
   "outputs": [],
   "source": [
    "# ulstm_model.save(\"../model/bilstm_layer2_drpout5_fc80_k30_688.model\")"
   ]
  },
  {
   "cell_type": "code",
   "execution_count": 143,
   "id": "284d9911",
   "metadata": {},
   "outputs": [
    {
     "name": "stderr",
     "output_type": "stream",
     "text": [
      "201it [00:01, 101.87it/s]\n",
      "10it [00:00, 92.40it/s]"
     ]
    },
    {
     "name": "stdout",
     "output_type": "stream",
     "text": [
      "0\n",
      "0.6514870180959874 0.7726939379666363\n"
     ]
    },
    {
     "name": "stderr",
     "output_type": "stream",
     "text": [
      "201it [00:02, 97.51it/s]\n",
      "9it [00:00, 87.57it/s]"
     ]
    },
    {
     "name": "stdout",
     "output_type": "stream",
     "text": [
      "1\n",
      "0.648383949645948 0.7736318127675104\n"
     ]
    },
    {
     "name": "stderr",
     "output_type": "stream",
     "text": [
      "201it [00:02, 94.89it/s]\n",
      "9it [00:00, 85.13it/s]"
     ]
    },
    {
     "name": "stdout",
     "output_type": "stream",
     "text": [
      "2\n",
      "0.6420645161290323 0.7762588269156351\n"
     ]
    },
    {
     "name": "stderr",
     "output_type": "stream",
     "text": [
      "201it [00:02, 95.76it/s]\n",
      "9it [00:00, 86.53it/s]"
     ]
    },
    {
     "name": "stdout",
     "output_type": "stream",
     "text": [
      "3\n",
      "0.6466467348544453 0.7765575842051453\n"
     ]
    },
    {
     "name": "stderr",
     "output_type": "stream",
     "text": [
      "201it [00:02, 95.65it/s]\n",
      "9it [00:00, 86.91it/s]"
     ]
    },
    {
     "name": "stdout",
     "output_type": "stream",
     "text": [
      "4\n",
      "0.6425491738788356 0.7670576971823114\n"
     ]
    },
    {
     "name": "stderr",
     "output_type": "stream",
     "text": [
      "201it [00:02, 94.71it/s]\n",
      "1it [00:00,  9.25it/s]"
     ]
    },
    {
     "name": "stdout",
     "output_type": "stream",
     "text": [
      "5\n",
      "0.6407301337529504 0.7711141570520493\n"
     ]
    },
    {
     "name": "stderr",
     "output_type": "stream",
     "text": [
      "201it [00:02, 90.00it/s]\n",
      "9it [00:00, 86.05it/s]"
     ]
    },
    {
     "name": "stdout",
     "output_type": "stream",
     "text": [
      "6\n",
      "0.6356947285601888 0.7761051523159097\n"
     ]
    },
    {
     "name": "stderr",
     "output_type": "stream",
     "text": [
      "201it [00:02, 93.60it/s]\n",
      "9it [00:00, 86.49it/s]"
     ]
    },
    {
     "name": "stdout",
     "output_type": "stream",
     "text": [
      "7\n",
      "0.6386026750590087 0.7686307182410883\n"
     ]
    },
    {
     "name": "stderr",
     "output_type": "stream",
     "text": [
      "201it [00:02, 91.49it/s]\n",
      "9it [00:00, 84.83it/s]"
     ]
    },
    {
     "name": "stdout",
     "output_type": "stream",
     "text": [
      "8\n",
      "0.6454697088906373 0.7686479020609693\n"
     ]
    },
    {
     "name": "stderr",
     "output_type": "stream",
     "text": [
      "201it [00:02, 90.42it/s]\n",
      "9it [00:00, 81.34it/s]"
     ]
    },
    {
     "name": "stdout",
     "output_type": "stream",
     "text": [
      "9\n",
      "0.627795436664044 0.7678744794310618\n"
     ]
    },
    {
     "name": "stderr",
     "output_type": "stream",
     "text": [
      "201it [00:02, 91.19it/s]\n",
      "9it [00:00, 87.62it/s]"
     ]
    },
    {
     "name": "stdout",
     "output_type": "stream",
     "text": [
      "10\n",
      "0.6163587726199843 0.7630289436951415\n"
     ]
    },
    {
     "name": "stderr",
     "output_type": "stream",
     "text": [
      "201it [00:02, 93.61it/s]\n",
      "1it [00:00,  8.63it/s]"
     ]
    },
    {
     "name": "stdout",
     "output_type": "stream",
     "text": [
      "11\n",
      "0.6258882769472855 0.7706887067747323\n"
     ]
    },
    {
     "name": "stderr",
     "output_type": "stream",
     "text": [
      "201it [00:02, 89.18it/s]\n",
      "9it [00:00, 83.73it/s]"
     ]
    },
    {
     "name": "stdout",
     "output_type": "stream",
     "text": [
      "12\n",
      "0.6378788355625492 0.7747196691541879\n"
     ]
    },
    {
     "name": "stderr",
     "output_type": "stream",
     "text": [
      "201it [00:02, 91.03it/s]\n",
      "9it [00:00, 83.61it/s]"
     ]
    },
    {
     "name": "stdout",
     "output_type": "stream",
     "text": [
      "13\n",
      "0.6260015735641228 0.7678057441515378\n"
     ]
    },
    {
     "name": "stderr",
     "output_type": "stream",
     "text": [
      "201it [00:02, 91.41it/s]\n",
      "9it [00:00, 81.54it/s]"
     ]
    },
    {
     "name": "stdout",
     "output_type": "stream",
     "text": [
      "14\n",
      "0.636324154209284 0.7680929701934962\n"
     ]
    },
    {
     "name": "stderr",
     "output_type": "stream",
     "text": [
      "201it [00:02, 92.33it/s]\n",
      "9it [00:00, 86.17it/s]"
     ]
    },
    {
     "name": "stdout",
     "output_type": "stream",
     "text": [
      "15\n",
      "0.6306530291109362 0.7614557951320876\n"
     ]
    },
    {
     "name": "stderr",
     "output_type": "stream",
     "text": [
      "201it [00:02, 92.96it/s]\n",
      "9it [00:00, 84.96it/s]"
     ]
    },
    {
     "name": "stdout",
     "output_type": "stream",
     "text": [
      "16\n",
      "0.6359150275373722 0.7676389555840085\n"
     ]
    },
    {
     "name": "stderr",
     "output_type": "stream",
     "text": [
      "201it [00:02, 92.97it/s]\n",
      "9it [00:00, 82.65it/s]"
     ]
    },
    {
     "name": "stdout",
     "output_type": "stream",
     "text": [
      "17\n",
      "0.6281667977970102 0.7649730517382584\n"
     ]
    },
    {
     "name": "stderr",
     "output_type": "stream",
     "text": [
      "201it [00:02, 92.91it/s]\n",
      "1it [00:00,  8.91it/s]"
     ]
    },
    {
     "name": "stdout",
     "output_type": "stream",
     "text": [
      "18\n",
      "0.6303383162863887 0.7603805251397966\n"
     ]
    },
    {
     "name": "stderr",
     "output_type": "stream",
     "text": [
      "201it [00:02, 88.01it/s]\n",
      "9it [00:00, 82.03it/s]"
     ]
    },
    {
     "name": "stdout",
     "output_type": "stream",
     "text": [
      "19\n",
      "0.629243115656963 0.7596843543317225\n"
     ]
    },
    {
     "name": "stderr",
     "output_type": "stream",
     "text": [
      "201it [00:02, 91.08it/s]\n",
      "9it [00:00, 83.63it/s]"
     ]
    },
    {
     "name": "stdout",
     "output_type": "stream",
     "text": [
      "20\n",
      "0.6287710464201416 0.7700559955120083\n"
     ]
    },
    {
     "name": "stderr",
     "output_type": "stream",
     "text": [
      "201it [00:02, 90.71it/s]\n",
      "9it [00:00, 84.49it/s]"
     ]
    },
    {
     "name": "stdout",
     "output_type": "stream",
     "text": [
      "21\n",
      "0.6255169158143195 0.7676260677190978\n"
     ]
    },
    {
     "name": "stderr",
     "output_type": "stream",
     "text": [
      "201it [00:02, 89.92it/s]\n",
      "9it [00:00, 82.39it/s]"
     ]
    },
    {
     "name": "stdout",
     "output_type": "stream",
     "text": [
      "22\n",
      "0.6485161290322581 0.7710027636933471\n"
     ]
    },
    {
     "name": "stderr",
     "output_type": "stream",
     "text": [
      "201it [00:02, 88.18it/s]\n",
      "9it [00:00, 87.38it/s]"
     ]
    },
    {
     "name": "stdout",
     "output_type": "stream",
     "text": [
      "23\n",
      "0.6381180173092054 0.7676404629366297\n"
     ]
    },
    {
     "name": "stderr",
     "output_type": "stream",
     "text": [
      "201it [00:02, 91.50it/s]"
     ]
    },
    {
     "name": "stdout",
     "output_type": "stream",
     "text": [
      "24\n",
      "0.6303446105428796 0.7592017753900643\n"
     ]
    },
    {
     "name": "stderr",
     "output_type": "stream",
     "text": [
      "\n"
     ]
    }
   ],
   "source": [
    "train(ulstm_model, train_set, 25, 64, endo_dataset, cv=0.0, learning_rate=0.001, start=0, end=12832)"
   ]
  },
  {
   "cell_type": "code",
   "execution_count": 144,
   "id": "5a4a28e5",
   "metadata": {},
   "outputs": [
    {
     "name": "stderr",
     "output_type": "stream",
     "text": [
      "201it [00:02, 94.01it/s]\n",
      "0it [00:00, ?it/s]"
     ]
    },
    {
     "name": "stdout",
     "output_type": "stream",
     "text": [
      "0\n",
      "0.6329756097560976 0.7611645746056831\n"
     ]
    },
    {
     "name": "stderr",
     "output_type": "stream",
     "text": [
      "201it [00:02, 94.69it/s]\n",
      "9it [00:00, 82.24it/s]"
     ]
    },
    {
     "name": "stdout",
     "output_type": "stream",
     "text": [
      "1\n",
      "0.6362863886703383 0.7671437148803326\n"
     ]
    },
    {
     "name": "stderr",
     "output_type": "stream",
     "text": [
      "201it [00:02, 92.31it/s]\n",
      "9it [00:00, 84.98it/s]"
     ]
    },
    {
     "name": "stdout",
     "output_type": "stream",
     "text": [
      "2\n",
      "0.6265491738788356 0.7564083495125655\n"
     ]
    },
    {
     "name": "stderr",
     "output_type": "stream",
     "text": [
      "201it [00:02, 93.28it/s]\n",
      "9it [00:00, 84.91it/s]"
     ]
    },
    {
     "name": "stdout",
     "output_type": "stream",
     "text": [
      "3\n",
      "0.62479307631786 0.7601850215048346\n"
     ]
    },
    {
     "name": "stderr",
     "output_type": "stream",
     "text": [
      "201it [00:02, 93.24it/s]\n",
      "9it [00:00, 85.78it/s]"
     ]
    },
    {
     "name": "stdout",
     "output_type": "stream",
     "text": [
      "4\n",
      "0.6318237608182533 0.7604296648352458\n"
     ]
    },
    {
     "name": "stderr",
     "output_type": "stream",
     "text": [
      "201it [00:02, 93.43it/s]\n",
      "9it [00:00, 87.78it/s]"
     ]
    },
    {
     "name": "stdout",
     "output_type": "stream",
     "text": [
      "5\n",
      "0.6435121951219512 0.7635109950633825\n"
     ]
    },
    {
     "name": "stderr",
     "output_type": "stream",
     "text": [
      "201it [00:02, 93.63it/s]\n",
      "1it [00:00,  8.98it/s]"
     ]
    },
    {
     "name": "stdout",
     "output_type": "stream",
     "text": [
      "6\n",
      "0.6242140047206923 0.7574096084911585\n"
     ]
    },
    {
     "name": "stderr",
     "output_type": "stream",
     "text": [
      "201it [00:02, 87.80it/s]\n",
      "9it [00:00, 84.64it/s]"
     ]
    },
    {
     "name": "stdout",
     "output_type": "stream",
     "text": [
      "7\n",
      "0.6274807238394965 0.7635948038691179\n"
     ]
    },
    {
     "name": "stderr",
     "output_type": "stream",
     "text": [
      "201it [00:02, 90.49it/s]\n",
      "9it [00:00, 82.43it/s]"
     ]
    },
    {
     "name": "stdout",
     "output_type": "stream",
     "text": [
      "8\n",
      "0.635014948859166 0.7571855405240259\n"
     ]
    },
    {
     "name": "stderr",
     "output_type": "stream",
     "text": [
      "201it [00:02, 90.64it/s]\n",
      "9it [00:00, 84.04it/s]"
     ]
    },
    {
     "name": "stdout",
     "output_type": "stream",
     "text": [
      "9\n",
      "0.6353044846577498 0.7590399610861848\n"
     ]
    },
    {
     "name": "stderr",
     "output_type": "stream",
     "text": [
      "201it [00:02, 90.54it/s]\n",
      "9it [00:00, 88.27it/s]"
     ]
    },
    {
     "name": "stdout",
     "output_type": "stream",
     "text": [
      "10\n",
      "0.6354429583005508 0.7603487953671215\n"
     ]
    },
    {
     "name": "stderr",
     "output_type": "stream",
     "text": [
      "201it [00:02, 98.19it/s]\n",
      "10it [00:00, 91.46it/s]"
     ]
    },
    {
     "name": "stdout",
     "output_type": "stream",
     "text": [
      "11\n",
      "0.6197324940991346 0.7505742165600698\n"
     ]
    },
    {
     "name": "stderr",
     "output_type": "stream",
     "text": [
      "201it [00:02, 100.45it/s]\n",
      "10it [00:00, 91.71it/s]"
     ]
    },
    {
     "name": "stdout",
     "output_type": "stream",
     "text": [
      "12\n",
      "0.6289976396538159 0.7635351880729518\n"
     ]
    },
    {
     "name": "stderr",
     "output_type": "stream",
     "text": [
      "201it [00:02, 99.55it/s]\n",
      "2it [00:00, 19.60it/s]"
     ]
    },
    {
     "name": "stdout",
     "output_type": "stream",
     "text": [
      "13\n",
      "0.6242077104642014 0.7610087897122882\n"
     ]
    },
    {
     "name": "stderr",
     "output_type": "stream",
     "text": [
      "201it [00:02, 96.44it/s]\n",
      "9it [00:00, 87.87it/s]"
     ]
    },
    {
     "name": "stdout",
     "output_type": "stream",
     "text": [
      "14\n",
      "0.6204311565696302 0.7508036356290075\n"
     ]
    },
    {
     "name": "stderr",
     "output_type": "stream",
     "text": [
      "201it [00:02, 100.34it/s]\n",
      "10it [00:00, 92.64it/s]"
     ]
    },
    {
     "name": "stdout",
     "output_type": "stream",
     "text": [
      "15\n",
      "0.6281605035405192 0.7480255847482444\n"
     ]
    },
    {
     "name": "stderr",
     "output_type": "stream",
     "text": [
      "201it [00:02, 100.00it/s]\n",
      "10it [00:00, 91.32it/s]"
     ]
    },
    {
     "name": "stdout",
     "output_type": "stream",
     "text": [
      "16\n",
      "0.6165601888276947 0.7452096239490597\n"
     ]
    },
    {
     "name": "stderr",
     "output_type": "stream",
     "text": [
      "201it [00:02, 99.88it/s] \n",
      "10it [00:00, 92.93it/s]"
     ]
    },
    {
     "name": "stdout",
     "output_type": "stream",
     "text": [
      "17\n",
      "0.6271093627065303 0.75348182439862\n"
     ]
    },
    {
     "name": "stderr",
     "output_type": "stream",
     "text": [
      "201it [00:02, 99.85it/s] \n",
      "9it [00:00, 82.47it/s]"
     ]
    },
    {
     "name": "stdout",
     "output_type": "stream",
     "text": [
      "18\n",
      "0.6267883556254917 0.7581436892176542\n"
     ]
    },
    {
     "name": "stderr",
     "output_type": "stream",
     "text": [
      "201it [00:02, 99.68it/s] \n",
      "1it [00:00,  8.71it/s]"
     ]
    },
    {
     "name": "stdout",
     "output_type": "stream",
     "text": [
      "19\n",
      "0.6355940204563336 0.7515520362054041\n"
     ]
    },
    {
     "name": "stderr",
     "output_type": "stream",
     "text": [
      "201it [00:02, 94.70it/s]\n",
      "10it [00:00, 91.99it/s]"
     ]
    },
    {
     "name": "stdout",
     "output_type": "stream",
     "text": [
      "20\n",
      "0.6242140047206923 0.7565761178592985\n"
     ]
    },
    {
     "name": "stderr",
     "output_type": "stream",
     "text": [
      "201it [00:02, 98.15it/s] \n",
      "9it [00:00, 84.71it/s]"
     ]
    },
    {
     "name": "stdout",
     "output_type": "stream",
     "text": [
      "21\n",
      "0.6186750590086546 0.7533546038373957\n"
     ]
    },
    {
     "name": "stderr",
     "output_type": "stream",
     "text": [
      "201it [00:02, 97.06it/s]\n",
      "10it [00:00, 93.41it/s]"
     ]
    },
    {
     "name": "stdout",
     "output_type": "stream",
     "text": [
      "22\n",
      "0.6442675059008655 0.757152680236885\n"
     ]
    },
    {
     "name": "stderr",
     "output_type": "stream",
     "text": [
      "201it [00:02, 98.65it/s]\n",
      "9it [00:00, 84.00it/s]"
     ]
    },
    {
     "name": "stdout",
     "output_type": "stream",
     "text": [
      "23\n",
      "0.6326986624704957 0.753876750785359\n"
     ]
    },
    {
     "name": "stderr",
     "output_type": "stream",
     "text": [
      "201it [00:02, 97.89it/s]"
     ]
    },
    {
     "name": "stdout",
     "output_type": "stream",
     "text": [
      "24\n",
      "0.6261148701809599 0.7528584587221471\n"
     ]
    },
    {
     "name": "stderr",
     "output_type": "stream",
     "text": [
      "\n"
     ]
    }
   ],
   "source": [
    "train(ulstm_model, train_set, 25, 64, endo_dataset, cv=0.0, learning_rate=0.001, start=0, end=12832)"
   ]
  },
  {
   "cell_type": "code",
   "execution_count": 114,
   "id": "f29afc6c",
   "metadata": {},
   "outputs": [],
   "source": [
    "# train(lstm_model, train_set, 25, 64, endo_dataset, cv=0.0, learning_rate=0.0005, start=0, end=12832)"
   ]
  },
  {
   "cell_type": "code",
   "execution_count": 115,
   "id": "264efa21",
   "metadata": {},
   "outputs": [],
   "source": [
    "# train(lstm_model, train_set, 25, 64, endo_dataset, cv=0.0, learning_rate=0.0005, start=0, end=12832)"
   ]
  },
  {
   "cell_type": "code",
   "execution_count": 145,
   "id": "8c097caa",
   "metadata": {},
   "outputs": [],
   "source": [
    "#\n",
    "def test_scores(model, test_set, batch_size):\n",
    "    tscores = []\n",
    "    for inp, scores in DataLoader(test_set, batch_size=batch_size):\n",
    "        model.zero_grad()\n",
    "        if model.model_type == \"LSTM\":\n",
    "#                 print(\"INIT LSTM\")\n",
    "            model.init_hidden(len(inp))\n",
    "        inp = inp.unsqueeze(1)\n",
    "        inp = Variable(inp)\n",
    "        out = model(inp).squeeze()\n",
    "        for v in out.detach().numpy():\n",
    "            tscores.append(v)\n",
    "    return tscores"
   ]
  },
  {
   "cell_type": "code",
   "execution_count": 299,
   "id": "d4d7567d",
   "metadata": {},
   "outputs": [],
   "source": [
    "def check_corr(model, test_set):\n",
    "    model.setDropout(0.0)\n",
    "    tscores = test_scores(model, test_set, 500)\n",
    "    corr = pd.DataFrame([[test_set[i][0], float(test_set[i][1]), tscores[i]] for i in range(len(tscores))], columns=['seq', 'endogenous', 'integrated'])\\\n",
    "    [['endogenous', 'integrated']].corr(method='spearman')['endogenous']['integrated']\n",
    "    return corr"
   ]
  },
  {
   "cell_type": "code",
   "execution_count": 491,
   "id": "19542535",
   "metadata": {},
   "outputs": [
    {
     "name": "stdout",
     "output_type": "stream",
     "text": [
      "            endogenous  integrated\n",
      "endogenous    1.000000    0.767798\n",
      "integrated    0.767798    1.000000\n"
     ]
    }
   ],
   "source": [
    "check_corr(lstm_model, test_set)"
   ]
  },
  {
   "cell_type": "code",
   "execution_count": null,
   "id": "08625692",
   "metadata": {},
   "outputs": [],
   "source": []
  }
 ],
 "metadata": {
  "kernelspec": {
   "display_name": "Python 3",
   "language": "python",
   "name": "python3"
  },
  "language_info": {
   "codemirror_mode": {
    "name": "ipython",
    "version": 3
   },
   "file_extension": ".py",
   "mimetype": "text/x-python",
   "name": "python",
   "nbconvert_exporter": "python",
   "pygments_lexer": "ipython3",
   "version": "3.7.10"
  }
 },
 "nbformat": 4,
 "nbformat_minor": 5
}
