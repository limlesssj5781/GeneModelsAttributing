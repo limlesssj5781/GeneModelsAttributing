{
 "cells": [
  {
   "cell_type": "code",
   "execution_count": 1,
   "id": "6f9311a5",
   "metadata": {},
   "outputs": [],
   "source": [
    "import torch\n",
    "import torch.nn as nn\n",
    "import torch.nn.init as init\n",
    "from torch.utils.data import DataLoader, TensorDataset, Dataset\n",
    "from torch.autograd import Variable\n",
    "from torch.nn import functional as F\n",
    "from torch.utils.data.sampler import SubsetRandomSampler\n",
    "import numpy as np\n",
    "from collections import defaultdict\n",
    "import pandas as pd"
   ]
  },
  {
   "cell_type": "code",
   "execution_count": 3,
   "id": "76bdfc3c",
   "metadata": {},
   "outputs": [],
   "source": [
    "from tqdm import tqdm"
   ]
  },
  {
   "cell_type": "code",
   "execution_count": 4,
   "id": "47b6120c",
   "metadata": {},
   "outputs": [],
   "source": [
    "# with tqdm(total=int(len())) as pbar:"
   ]
  },
  {
   "cell_type": "code",
   "execution_count": 2,
   "id": "c7deb479",
   "metadata": {},
   "outputs": [],
   "source": [
    "class BasicModule(nn.Module):\n",
    "    def __init__(self):\n",
    "        super(BasicModule, self).__init__()\n",
    "        self.model_name = str(type(self))\n",
    "\n",
    "    def load(self, path):\n",
    "        self.load_state_dict(torch.load(path))\n",
    "\n",
    "    def save(self, path):\n",
    "        torch.save(self.state_dict(), path)"
   ]
  },
  {
   "cell_type": "code",
   "execution_count": 416,
   "id": "1c7c8c2d",
   "metadata": {},
   "outputs": [
    {
     "data": {
      "text/plain": [
       "LSTM(4, 100, batch_first=True)"
      ]
     },
     "execution_count": 416,
     "metadata": {},
     "output_type": "execute_result"
    }
   ],
   "source": [
    "model.lstm"
   ]
  },
  {
   "cell_type": "code",
   "execution_count": 417,
   "id": "0e528bbf",
   "metadata": {},
   "outputs": [],
   "source": [
    "class SimpleLSTM(BasicModule):\n",
    "    def __init__(self,args):\n",
    "        super(SimpleLSTM, self).__init__()\n",
    "        self.dropout = nn.Dropout(args['dropout'])\n",
    "        self.params = args\n",
    "        self.lstm = nn.LSTM(input_size=args['num_features'], hidden_size=args['hidden_size'], num_layers=args['num_layers'],\n",
    "                            batch_first=True, dropout=args['dropout'], bidirectional=args['bidirectional'])\n",
    "        self.fc1 = nn.Linear(args['hidden_size'], args['out1'], bias=True)\n",
    "        self.fc2 = nn.Linear(args['out1'], args['out2'], bias=True)\n",
    "        self.hidden = None\n",
    "        \n",
    "    def init_hidden(self, batch_size):\n",
    "        N = 2 if self.params['bidirectional'] else 1\n",
    "        hidden = (Variable(torch.zeros(self.params['num_layers']*N, batch_size, self.params['hidden_size'])),\n",
    "                  Variable(torch.zeros(self.params['num_layers']*N, batch_size, self.params['hidden_size'])))\n",
    "        self.hidden = hidden\n",
    "        \n",
    "    \n",
    "    def forward(self, x):\n",
    "        batch_size = x.size(0)\n",
    "        lstm_out, self.hidden = self.lstm(x, self.hidden)\n",
    "        self.hidden = (Variable(self.hidden[0]), Variable(self.hidden[1]))\n",
    "#         print(lstm_out.shape, lstm_out[:, -2:, :].shape)\n",
    "#         masker = torch.Tensor([[[0]*29+[1]]*30] * batch_size)\n",
    "        # stack up lstm outputs\n",
    "#         lstm_out = lstm_out[:, -1:, :].contiguous().view(batch_size, -1)\n",
    "        lstm_out = torch.tanh(lstm_out)\n",
    "        lstm_out = torch.transpose(lstm_out, 1, 2)\n",
    "        lstm_out = F.max_pool1d(lstm_out, lstm_out.size(2)).squeeze(2)\n",
    "#         print(lstm_out.shape)\n",
    "#         out = self.dropout(lstm_out)\n",
    "        out = self.fc1(lstm_out)\n",
    "        out = torch.tanh(out)\n",
    "        out = self.fc2(out)\n",
    "#         out = (out * torch.Tensor([[0]]*29+[[1]])).sum(1)\n",
    "#         out = (out * masker).sum(1)\n",
    "#         print(out.shape)\n",
    "        \n",
    "        return out\n",
    "    \n",
    "    def setDropout(self, dropout):\n",
    "        self.dropout.p = dropout"
   ]
  },
  {
   "cell_type": "code",
   "execution_count": 424,
   "id": "1261ebe7",
   "metadata": {},
   "outputs": [],
   "source": [
    "class DNADataset(Dataset):\n",
    "    \n",
    "    def __init__(self, data, size):\n",
    "        super(DNADataset, self).__init__()\n",
    "        self.size = size\n",
    "        self.x = np.zeros((len(data),size, 4))\n",
    "        self.y = []\n",
    "\n",
    "        for I in range(len(data)):\n",
    "            self.y.append(data[I][1])\n",
    "            if type(data[I][0])==str:\n",
    "                for i in range(size):\n",
    "                    seq = data[I][0].lower()\n",
    "                    # one hot encoding\n",
    "                    pos = \"acgt\".find(seq[i])\n",
    "                    if pos >= 0:\n",
    "                        self.x[I][i][pos] = 1\n",
    "#             else:\n",
    "#                 self.x[I] = data[I][0]\n",
    "        self.x = torch.FloatTensor(self.x)\n",
    "        self.y = torch.FloatTensor(self.y)\n",
    "\n",
    "        \n",
    "    def __len__(self):\n",
    "        return len(self.y)\n",
    "    \n",
    "    def __getitem__(self, index):\n",
    "        return self.x[index], self.y[index]\n",
    "        \n",
    "    # return a subset of dataset of given range\n",
    "    def get_subset(self, start, end):\n",
    "        if end == 0:\n",
    "            return self\n",
    "        return DNADataset([(self.x[i],self.y[i]) for i in range(start, end)], self.size)"
   ]
  },
  {
   "cell_type": "code",
   "execution_count": 332,
   "id": "ec57a684",
   "metadata": {},
   "outputs": [],
   "source": [
    "#\n",
    "def load_data(file):\n",
    "    data = []\n",
    "    with open(file,\"r\") as f:\n",
    "        for line in f:\n",
    "            line = line.split()\n",
    "            data.append((line[0], float(line[1])))\n",
    "    return data"
   ]
  },
  {
   "cell_type": "code",
   "execution_count": 425,
   "id": "8003e331",
   "metadata": {},
   "outputs": [],
   "source": [
    "#\n",
    "train_set = DNADataset(load_data(\"../dataset/train_txt\"),30)\n",
    "test_set = DNADataset(load_data(\"../dataset/test_txt\"),30)\n",
    "endo = load_data(\"../dataset/table3\")\n",
    "endo_dataset = DNADataset(endo,30)"
   ]
  },
  {
   "cell_type": "code",
   "execution_count": 440,
   "id": "1eabc3f4",
   "metadata": {},
   "outputs": [],
   "source": [
    "args = {\n",
    "    'bidirectional': False,\n",
    "    'num_features': 4,\n",
    "    'num_layers': 1,\n",
    "    'hidden_size': 100,\n",
    "    'dropout': 0.0,\n",
    "    'out1': 60,\n",
    "    'out2': 1\n",
    "}\n",
    "model = SimpleLSTM(args)\n"
   ]
  },
  {
   "cell_type": "code",
   "execution_count": 444,
   "id": "5f06de39",
   "metadata": {},
   "outputs": [],
   "source": [
    "# h = model.init_hidden(3)\n",
    "model.init_hidden(120)\n",
    "model.eval()\n",
    "out = model(train_set.x[:120].view(120,30,4))"
   ]
  },
  {
   "cell_type": "code",
   "execution_count": 445,
   "id": "c43db5a8",
   "metadata": {},
   "outputs": [
    {
     "data": {
      "text/plain": [
       "tensor([[41.0392],\n",
       "        [41.0391],\n",
       "        [41.0391],\n",
       "        [41.0392],\n",
       "        [41.0390],\n",
       "        [41.0392],\n",
       "        [41.0392],\n",
       "        [41.0392],\n",
       "        [41.0392],\n",
       "        [41.0392],\n",
       "        [41.0390],\n",
       "        [41.0392],\n",
       "        [41.0392],\n",
       "        [41.0390],\n",
       "        [41.0392],\n",
       "        [41.0390],\n",
       "        [41.0391],\n",
       "        [41.0392],\n",
       "        [41.0392],\n",
       "        [41.0392],\n",
       "        [41.0390],\n",
       "        [41.0391],\n",
       "        [41.0392],\n",
       "        [41.0392],\n",
       "        [41.0391],\n",
       "        [41.0390],\n",
       "        [41.0392],\n",
       "        [41.0392],\n",
       "        [41.0390],\n",
       "        [41.0392],\n",
       "        [41.0391],\n",
       "        [41.0392],\n",
       "        [41.0390],\n",
       "        [41.0392],\n",
       "        [41.0391],\n",
       "        [41.0392],\n",
       "        [41.0391],\n",
       "        [41.0391],\n",
       "        [41.0391],\n",
       "        [41.0392],\n",
       "        [41.0390],\n",
       "        [41.0391],\n",
       "        [41.0392],\n",
       "        [41.0392],\n",
       "        [41.0392],\n",
       "        [41.0392],\n",
       "        [41.0390],\n",
       "        [41.0390],\n",
       "        [41.0392],\n",
       "        [41.0392],\n",
       "        [41.0390],\n",
       "        [41.0390],\n",
       "        [41.0392],\n",
       "        [41.0392],\n",
       "        [41.0390],\n",
       "        [41.0392],\n",
       "        [41.0390],\n",
       "        [41.0390],\n",
       "        [41.0392],\n",
       "        [41.0390],\n",
       "        [41.0392],\n",
       "        [41.0392],\n",
       "        [41.0392],\n",
       "        [41.0392],\n",
       "        [41.0392],\n",
       "        [41.0390],\n",
       "        [41.0390],\n",
       "        [41.0392],\n",
       "        [41.0390],\n",
       "        [41.0392],\n",
       "        [41.0392],\n",
       "        [41.0392],\n",
       "        [41.0390],\n",
       "        [41.0392],\n",
       "        [41.0392],\n",
       "        [41.0391],\n",
       "        [41.0390],\n",
       "        [41.0390],\n",
       "        [41.0392],\n",
       "        [41.0392],\n",
       "        [41.0391],\n",
       "        [41.0392],\n",
       "        [41.0390],\n",
       "        [41.0390],\n",
       "        [41.0390],\n",
       "        [41.0392],\n",
       "        [41.0390],\n",
       "        [41.0392],\n",
       "        [41.0390],\n",
       "        [41.0391],\n",
       "        [41.0392],\n",
       "        [41.0391],\n",
       "        [41.0390],\n",
       "        [41.0392],\n",
       "        [41.0390],\n",
       "        [41.0392],\n",
       "        [41.0390],\n",
       "        [41.0392],\n",
       "        [41.0391],\n",
       "        [41.0392],\n",
       "        [41.0390],\n",
       "        [41.0392],\n",
       "        [41.0390],\n",
       "        [41.0392],\n",
       "        [41.0391],\n",
       "        [41.0392],\n",
       "        [41.0390],\n",
       "        [41.0390],\n",
       "        [41.0390],\n",
       "        [41.0392],\n",
       "        [41.0392],\n",
       "        [41.0390],\n",
       "        [41.0390],\n",
       "        [41.0391],\n",
       "        [41.0392],\n",
       "        [41.0392],\n",
       "        [41.0392],\n",
       "        [41.0390],\n",
       "        [41.0392],\n",
       "        [41.0391]], grad_fn=<AddmmBackward>)"
      ]
     },
     "execution_count": 445,
     "metadata": {},
     "output_type": "execute_result"
    }
   ],
   "source": [
    "out"
   ]
  },
  {
   "cell_type": "code",
   "execution_count": 443,
   "id": "1fa94b2e",
   "metadata": {},
   "outputs": [
    {
     "name": "stdout",
     "output_type": "stream",
     "text": [
      "Train 1200.0 samples.\n",
      "741341.8553246165\n"
     ]
    }
   ],
   "source": [
    "# model.init_hidden(120)\n",
    "train(model, train_set, 1, 1, endo_dataset, cv=0.0, learning_rate=0.003, start=0, end=1200)"
   ]
  },
  {
   "cell_type": "code",
   "execution_count": 352,
   "id": "264efa21",
   "metadata": {},
   "outputs": [
    {
     "name": "stdout",
     "output_type": "stream",
     "text": [
      "Train 12832.0 samples.\n",
      "0.0024108947063723463\n",
      "0.0005728969936171779\n"
     ]
    }
   ],
   "source": [
    "train(model, train_set, 2, 120, endo_dataset, cv=0.0, learning_rate=0.01, start=0, end=12832)"
   ]
  },
  {
   "cell_type": "code",
   "execution_count": 315,
   "id": "d5af52ff",
   "metadata": {},
   "outputs": [
    {
     "name": "stdout",
     "output_type": "stream",
     "text": [
      "Train 12832.0 samples.\n",
      "0.0009789430991986592\n",
      "0.0005820328392474039\n"
     ]
    }
   ],
   "source": [
    "train(model, train_set, 2, 120, endo_dataset, cv=0.0, learning_rate=0.003, start=0, end=12832)"
   ]
  },
  {
   "cell_type": "code",
   "execution_count": 289,
   "id": "688518ac",
   "metadata": {},
   "outputs": [
    {
     "data": {
      "text/plain": [
       "Dropout(p=0.3, inplace=False)"
      ]
     },
     "execution_count": 289,
     "metadata": {},
     "output_type": "execute_result"
    }
   ],
   "source": [
    "model.dropout"
   ]
  },
  {
   "cell_type": "code",
   "execution_count": 277,
   "id": "c9d9b3a6",
   "metadata": {},
   "outputs": [
    {
     "data": {
      "text/plain": [
       "tensor([[0.0034],\n",
       "        [0.0039],\n",
       "        [0.0043]], grad_fn=<AddmmBackward>)"
      ]
     },
     "execution_count": 277,
     "metadata": {},
     "output_type": "execute_result"
    }
   ],
   "source": [
    "out"
   ]
  },
  {
   "cell_type": "code",
   "execution_count": 314,
   "id": "6e77e937",
   "metadata": {},
   "outputs": [],
   "source": [
    "def train(model, train_dataset, epochs, batch_size, val_set, cv=0.1, learning_rate=0.001, start = 0, end = 0):\n",
    "    subset = train_dataset.get_subset(start, end)\n",
    "    n_training_samples = len(subset) * (1-cv)\n",
    "    n_val_samples = len(subset) * cv\n",
    "    train_loader =torch.utils.data.DataLoader(subset, batch_size=batch_size,\n",
    "                                              sampler=SubsetRandomSampler(\n",
    "                                                  np.arange(n_training_samples, dtype=np.int64)\n",
    "                                              ),\n",
    "                                              num_workers=0)\n",
    "    val_loader =torch.utils.data.DataLoader(subset, batch_size=100,\n",
    "                                              sampler=SubsetRandomSampler(\n",
    "                                                  np.arange(n_training_samples, n_training_samples + n_val_samples, dtype=np.int64)\n",
    "                                              ), num_workers=0)\n",
    "    optimizer = torch.optim.Adam(model.parameters(), lr=learning_rate)\n",
    "    criterion = nn.MSELoss()\n",
    "\n",
    "    print(\"Train %s samples.\"%n_training_samples)\n",
    "    torch.autograd.set_detect_anomaly(False)\n",
    "    \n",
    "    \n",
    "    for e in range(epochs):\n",
    "        # train loss\n",
    "        epoch_train_loss = 0.0\n",
    "#         model.setDropout(model.params['dropout'])\n",
    "#         h = model.init_hidden(batch_size)\n",
    "\n",
    "        for inp, scores in train_loader:\n",
    "            model.zero_grad()\n",
    "            inp = Variable(inp)\n",
    "            out = model(inp)\n",
    "#             out = out.squeeze()\n",
    "\n",
    "            scores = Variable(torch.FloatTensor(scores))\n",
    "#             print(scores, out)\n",
    "            loss = criterion(out.squeeze(), scores.squeeze())\n",
    "            epoch_train_loss += float(loss)\n",
    "            optimizer.zero_grad()\n",
    "            loss.backward()\n",
    "            optimizer.step()\n",
    "            \n",
    "        print(epoch_train_loss)\n",
    "        # validation loss\n",
    "#         epoch_val_loss = 0.0\n",
    "#         for inp, labels in val_loader:\n",
    "#             inp = inp.unsqueeze(1)\n",
    "#             out = model(inp)        \n",
    "#             loss = criterion(out, labels)\n",
    "#             epoch_val_loss += loss\n",
    "\n",
    "\n",
    "#         print(str(epoch_train_loss) + ' ')\n",
    "#         print(str(epoch_val_loss.tolist()) + '\\n')\n",
    "#         model.setDropout(0.0)\n",
    "#         print(e)\n",
    "#         tscores = test_scores(model, val_set, 400)\n",
    "#         corr = pd.DataFrame([[val_set[i][0], float(val_set[i][1]), tscores[i]] for i in range(len(tscores))], columns=['seq', 'endogenous', 'integrated'])\\\n",
    "#     [['endogenous', 'integrated']].corr(method='spearman')['endogenous']['integrated']\n",
    "#         print(corr)\n",
    "#         if corr >= 0.68:\n",
    "#             print(\"Saving.\")\n",
    "#             model.save(\"../model/cnn_3579_90-60-40-110_80-60_90_%s.model\"%(round(corr, 3)))"
   ]
  },
  {
   "cell_type": "code",
   "execution_count": 281,
   "id": "93374919",
   "metadata": {},
   "outputs": [
    {
     "data": {
      "text/plain": [
       "2.0"
      ]
     },
     "execution_count": 281,
     "metadata": {},
     "output_type": "execute_result"
    }
   ],
   "source": [
    "float(torch.Tensor([2])[0])"
   ]
  },
  {
   "cell_type": "code",
   "execution_count": 290,
   "id": "a01055a1",
   "metadata": {},
   "outputs": [
    {
     "name": "stdout",
     "output_type": "stream",
     "text": [
      "Train 12832.0 samples.\n",
      "3.1046278907515443\n",
      "0.0012913294376630802\n",
      "0.0010612283604132244\n",
      "0.000902866102023836\n",
      "0.0008657001490064431\n",
      "0.0008301812645186146\n",
      "0.0008023533578125353\n",
      "0.0008027298767956381\n",
      "0.0008257292215603229\n",
      "0.0008005101835806272\n",
      "0.0007707490303801023\n",
      "0.0007802022068972292\n",
      "0.0008914617656046175\n"
     ]
    },
    {
     "ename": "KeyboardInterrupt",
     "evalue": "",
     "output_type": "error",
     "traceback": [
      "\u001b[1;31m---------------------------------------------------------------------------\u001b[0m",
      "\u001b[1;31mKeyboardInterrupt\u001b[0m                         Traceback (most recent call last)",
      "\u001b[1;32m<ipython-input-290-3fe3bde608a8>\u001b[0m in \u001b[0;36m<module>\u001b[1;34m\u001b[0m\n\u001b[1;32m----> 1\u001b[1;33m \u001b[0mtrain\u001b[0m\u001b[1;33m(\u001b[0m\u001b[0mmodel\u001b[0m\u001b[1;33m,\u001b[0m \u001b[0mtrain_set\u001b[0m\u001b[1;33m,\u001b[0m \u001b[1;36m20\u001b[0m\u001b[1;33m,\u001b[0m \u001b[1;36m120\u001b[0m\u001b[1;33m,\u001b[0m \u001b[0mendo_dataset\u001b[0m\u001b[1;33m,\u001b[0m \u001b[0mcv\u001b[0m\u001b[1;33m=\u001b[0m\u001b[1;36m0.0\u001b[0m\u001b[1;33m,\u001b[0m \u001b[0mlearning_rate\u001b[0m\u001b[1;33m=\u001b[0m\u001b[1;36m0.01\u001b[0m\u001b[1;33m,\u001b[0m \u001b[0mstart\u001b[0m\u001b[1;33m=\u001b[0m\u001b[1;36m0\u001b[0m\u001b[1;33m,\u001b[0m \u001b[0mend\u001b[0m\u001b[1;33m=\u001b[0m\u001b[1;36m12832\u001b[0m\u001b[1;33m)\u001b[0m\u001b[1;33m\u001b[0m\u001b[1;33m\u001b[0m\u001b[0m\n\u001b[0m",
      "\u001b[1;32m<ipython-input-280-e963d91f5aed>\u001b[0m in \u001b[0;36mtrain\u001b[1;34m(model, train_dataset, epochs, batch_size, val_set, cv, learning_rate, start, end)\u001b[0m\n\u001b[0;32m     28\u001b[0m             \u001b[0mmodel\u001b[0m\u001b[1;33m.\u001b[0m\u001b[0mzero_grad\u001b[0m\u001b[1;33m(\u001b[0m\u001b[1;33m)\u001b[0m\u001b[1;33m\u001b[0m\u001b[1;33m\u001b[0m\u001b[0m\n\u001b[0;32m     29\u001b[0m             \u001b[0minp\u001b[0m \u001b[1;33m=\u001b[0m \u001b[0mVariable\u001b[0m\u001b[1;33m(\u001b[0m\u001b[0minp\u001b[0m\u001b[1;33m)\u001b[0m\u001b[1;33m\u001b[0m\u001b[1;33m\u001b[0m\u001b[0m\n\u001b[1;32m---> 30\u001b[1;33m             \u001b[0mout\u001b[0m \u001b[1;33m=\u001b[0m \u001b[0mmodel\u001b[0m\u001b[1;33m(\u001b[0m\u001b[0minp\u001b[0m\u001b[1;33m)\u001b[0m\u001b[1;33m\u001b[0m\u001b[1;33m\u001b[0m\u001b[0m\n\u001b[0m\u001b[0;32m     31\u001b[0m \u001b[1;31m#             out = out.squeeze()\u001b[0m\u001b[1;33m\u001b[0m\u001b[1;33m\u001b[0m\u001b[1;33m\u001b[0m\u001b[0m\n\u001b[0;32m     32\u001b[0m \u001b[1;33m\u001b[0m\u001b[0m\n",
      "\u001b[1;32mC:\\ProgramData\\Anaconda3\\lib\\site-packages\\torch\\nn\\modules\\module.py\u001b[0m in \u001b[0;36m_call_impl\u001b[1;34m(self, *input, **kwargs)\u001b[0m\n\u001b[0;32m   1049\u001b[0m         if not (self._backward_hooks or self._forward_hooks or self._forward_pre_hooks or _global_backward_hooks\n\u001b[0;32m   1050\u001b[0m                 or _global_forward_hooks or _global_forward_pre_hooks):\n\u001b[1;32m-> 1051\u001b[1;33m             \u001b[1;32mreturn\u001b[0m \u001b[0mforward_call\u001b[0m\u001b[1;33m(\u001b[0m\u001b[1;33m*\u001b[0m\u001b[0minput\u001b[0m\u001b[1;33m,\u001b[0m \u001b[1;33m**\u001b[0m\u001b[0mkwargs\u001b[0m\u001b[1;33m)\u001b[0m\u001b[1;33m\u001b[0m\u001b[1;33m\u001b[0m\u001b[0m\n\u001b[0m\u001b[0;32m   1052\u001b[0m         \u001b[1;31m# Do not call functions when jit is used\u001b[0m\u001b[1;33m\u001b[0m\u001b[1;33m\u001b[0m\u001b[1;33m\u001b[0m\u001b[0m\n\u001b[0;32m   1053\u001b[0m         \u001b[0mfull_backward_hooks\u001b[0m\u001b[1;33m,\u001b[0m \u001b[0mnon_full_backward_hooks\u001b[0m \u001b[1;33m=\u001b[0m \u001b[1;33m[\u001b[0m\u001b[1;33m]\u001b[0m\u001b[1;33m,\u001b[0m \u001b[1;33m[\u001b[0m\u001b[1;33m]\u001b[0m\u001b[1;33m\u001b[0m\u001b[1;33m\u001b[0m\u001b[0m\n",
      "\u001b[1;32m<ipython-input-275-eda890293bc9>\u001b[0m in \u001b[0;36mforward\u001b[1;34m(self, x)\u001b[0m\n\u001b[0;32m     18\u001b[0m     \u001b[1;32mdef\u001b[0m \u001b[0mforward\u001b[0m\u001b[1;33m(\u001b[0m\u001b[0mself\u001b[0m\u001b[1;33m,\u001b[0m \u001b[0mx\u001b[0m\u001b[1;33m)\u001b[0m\u001b[1;33m:\u001b[0m\u001b[1;33m\u001b[0m\u001b[1;33m\u001b[0m\u001b[0m\n\u001b[0;32m     19\u001b[0m         \u001b[0mbatch_size\u001b[0m \u001b[1;33m=\u001b[0m \u001b[0mx\u001b[0m\u001b[1;33m.\u001b[0m\u001b[0msize\u001b[0m\u001b[1;33m(\u001b[0m\u001b[1;36m0\u001b[0m\u001b[1;33m)\u001b[0m\u001b[1;33m\u001b[0m\u001b[1;33m\u001b[0m\u001b[0m\n\u001b[1;32m---> 20\u001b[1;33m         \u001b[0mlstm_out\u001b[0m\u001b[1;33m,\u001b[0m \u001b[0mhidden\u001b[0m \u001b[1;33m=\u001b[0m \u001b[0mself\u001b[0m\u001b[1;33m.\u001b[0m\u001b[0mlstm\u001b[0m\u001b[1;33m(\u001b[0m\u001b[0mx\u001b[0m\u001b[1;33m)\u001b[0m\u001b[1;33m\u001b[0m\u001b[1;33m\u001b[0m\u001b[0m\n\u001b[0m\u001b[0;32m     21\u001b[0m         \u001b[0mmasker\u001b[0m \u001b[1;33m=\u001b[0m \u001b[0mtorch\u001b[0m\u001b[1;33m.\u001b[0m\u001b[0mTensor\u001b[0m\u001b[1;33m(\u001b[0m\u001b[1;33m[\u001b[0m\u001b[1;33m[\u001b[0m\u001b[1;33m[\u001b[0m\u001b[1;36m0\u001b[0m\u001b[1;33m]\u001b[0m\u001b[1;33m*\u001b[0m\u001b[1;36m29\u001b[0m\u001b[1;33m+\u001b[0m\u001b[1;33m[\u001b[0m\u001b[1;36m1\u001b[0m\u001b[1;33m]\u001b[0m\u001b[1;33m]\u001b[0m\u001b[1;33m*\u001b[0m\u001b[1;36m30\u001b[0m\u001b[1;33m]\u001b[0m \u001b[1;33m*\u001b[0m \u001b[0mbatch_size\u001b[0m\u001b[1;33m)\u001b[0m\u001b[1;33m\u001b[0m\u001b[1;33m\u001b[0m\u001b[0m\n\u001b[0;32m     22\u001b[0m         \u001b[1;31m# stack up lstm outputs\u001b[0m\u001b[1;33m\u001b[0m\u001b[1;33m\u001b[0m\u001b[1;33m\u001b[0m\u001b[0m\n",
      "\u001b[1;32mC:\\ProgramData\\Anaconda3\\lib\\site-packages\\torch\\nn\\modules\\module.py\u001b[0m in \u001b[0;36m_call_impl\u001b[1;34m(self, *input, **kwargs)\u001b[0m\n\u001b[0;32m   1049\u001b[0m         if not (self._backward_hooks or self._forward_hooks or self._forward_pre_hooks or _global_backward_hooks\n\u001b[0;32m   1050\u001b[0m                 or _global_forward_hooks or _global_forward_pre_hooks):\n\u001b[1;32m-> 1051\u001b[1;33m             \u001b[1;32mreturn\u001b[0m \u001b[0mforward_call\u001b[0m\u001b[1;33m(\u001b[0m\u001b[1;33m*\u001b[0m\u001b[0minput\u001b[0m\u001b[1;33m,\u001b[0m \u001b[1;33m**\u001b[0m\u001b[0mkwargs\u001b[0m\u001b[1;33m)\u001b[0m\u001b[1;33m\u001b[0m\u001b[1;33m\u001b[0m\u001b[0m\n\u001b[0m\u001b[0;32m   1052\u001b[0m         \u001b[1;31m# Do not call functions when jit is used\u001b[0m\u001b[1;33m\u001b[0m\u001b[1;33m\u001b[0m\u001b[1;33m\u001b[0m\u001b[0m\n\u001b[0;32m   1053\u001b[0m         \u001b[0mfull_backward_hooks\u001b[0m\u001b[1;33m,\u001b[0m \u001b[0mnon_full_backward_hooks\u001b[0m \u001b[1;33m=\u001b[0m \u001b[1;33m[\u001b[0m\u001b[1;33m]\u001b[0m\u001b[1;33m,\u001b[0m \u001b[1;33m[\u001b[0m\u001b[1;33m]\u001b[0m\u001b[1;33m\u001b[0m\u001b[1;33m\u001b[0m\u001b[0m\n",
      "\u001b[1;32mC:\\ProgramData\\Anaconda3\\lib\\site-packages\\torch\\nn\\modules\\rnn.py\u001b[0m in \u001b[0;36mforward\u001b[1;34m(self, input, hx)\u001b[0m\n\u001b[0;32m    677\u001b[0m         \u001b[0mself\u001b[0m\u001b[1;33m.\u001b[0m\u001b[0mcheck_forward_args\u001b[0m\u001b[1;33m(\u001b[0m\u001b[0minput\u001b[0m\u001b[1;33m,\u001b[0m \u001b[0mhx\u001b[0m\u001b[1;33m,\u001b[0m \u001b[0mbatch_sizes\u001b[0m\u001b[1;33m)\u001b[0m\u001b[1;33m\u001b[0m\u001b[1;33m\u001b[0m\u001b[0m\n\u001b[0;32m    678\u001b[0m         \u001b[1;32mif\u001b[0m \u001b[0mbatch_sizes\u001b[0m \u001b[1;32mis\u001b[0m \u001b[1;32mNone\u001b[0m\u001b[1;33m:\u001b[0m\u001b[1;33m\u001b[0m\u001b[1;33m\u001b[0m\u001b[0m\n\u001b[1;32m--> 679\u001b[1;33m             result = _VF.lstm(input, hx, self._flat_weights, self.bias, self.num_layers,\n\u001b[0m\u001b[0;32m    680\u001b[0m                               self.dropout, self.training, self.bidirectional, self.batch_first)\n\u001b[0;32m    681\u001b[0m         \u001b[1;32melse\u001b[0m\u001b[1;33m:\u001b[0m\u001b[1;33m\u001b[0m\u001b[1;33m\u001b[0m\u001b[0m\n",
      "\u001b[1;31mKeyboardInterrupt\u001b[0m: "
     ]
    }
   ],
   "source": []
  },
  {
   "cell_type": "code",
   "execution_count": 371,
   "id": "8c097caa",
   "metadata": {},
   "outputs": [],
   "source": [
    "#\n",
    "def test_scores(model, test_set, batch_size):\n",
    "    tscores = []\n",
    "    for inp, scores in DataLoader(test_set, batch_size=batch_size):\n",
    "        model.zero_grad()\n",
    "        inp = Variable(inp)\n",
    "        out = model(inp)\n",
    "        for v in out.detach().numpy():\n",
    "            tscores.append(v)\n",
    "    return tscores"
   ]
  },
  {
   "cell_type": "code",
   "execution_count": 372,
   "id": "91ee7abe",
   "metadata": {},
   "outputs": [
    {
     "name": "stdout",
     "output_type": "stream",
     "text": [
      "torch.Size([120, 100])\n"
     ]
    }
   ],
   "source": [
    "tscores = test_scores(model, test_set.get_subset(0,120), 120)\n",
    "combined_df = pd.DataFrame([[test_set[i][0], float(test_set[i][1]), tscores[i]] for i in range(len(tscores))], columns=['seq', 'endogenous', 'integrated'] )"
   ]
  },
  {
   "cell_type": "code",
   "execution_count": 373,
   "id": "d9783494",
   "metadata": {},
   "outputs": [
    {
     "data": {
      "text/html": [
       "<div>\n",
       "<style scoped>\n",
       "    .dataframe tbody tr th:only-of-type {\n",
       "        vertical-align: middle;\n",
       "    }\n",
       "\n",
       "    .dataframe tbody tr th {\n",
       "        vertical-align: top;\n",
       "    }\n",
       "\n",
       "    .dataframe thead th {\n",
       "        text-align: right;\n",
       "    }\n",
       "</style>\n",
       "<table border=\"1\" class=\"dataframe\">\n",
       "  <thead>\n",
       "    <tr style=\"text-align: right;\">\n",
       "      <th></th>\n",
       "      <th>seq</th>\n",
       "      <th>endogenous</th>\n",
       "      <th>integrated</th>\n",
       "    </tr>\n",
       "  </thead>\n",
       "  <tbody>\n",
       "    <tr>\n",
       "      <th>0</th>\n",
       "      <td>[[tensor(1.), tensor(0.), tensor(0.), tensor(0...</td>\n",
       "      <td>0.441258</td>\n",
       "      <td>[0.0054920986]</td>\n",
       "    </tr>\n",
       "    <tr>\n",
       "      <th>1</th>\n",
       "      <td>[[tensor(1.), tensor(0.), tensor(0.), tensor(0...</td>\n",
       "      <td>0.121632</td>\n",
       "      <td>[0.004570067]</td>\n",
       "    </tr>\n",
       "    <tr>\n",
       "      <th>2</th>\n",
       "      <td>[[tensor(1.), tensor(0.), tensor(0.), tensor(0...</td>\n",
       "      <td>0.689013</td>\n",
       "      <td>[0.005301632]</td>\n",
       "    </tr>\n",
       "    <tr>\n",
       "      <th>3</th>\n",
       "      <td>[[tensor(1.), tensor(0.), tensor(0.), tensor(0...</td>\n",
       "      <td>0.131357</td>\n",
       "      <td>[0.004474297]</td>\n",
       "    </tr>\n",
       "    <tr>\n",
       "      <th>4</th>\n",
       "      <td>[[tensor(1.), tensor(0.), tensor(0.), tensor(0...</td>\n",
       "      <td>0.483552</td>\n",
       "      <td>[0.004242435]</td>\n",
       "    </tr>\n",
       "    <tr>\n",
       "      <th>...</th>\n",
       "      <td>...</td>\n",
       "      <td>...</td>\n",
       "      <td>...</td>\n",
       "    </tr>\n",
       "    <tr>\n",
       "      <th>115</th>\n",
       "      <td>[[tensor(1.), tensor(0.), tensor(0.), tensor(0...</td>\n",
       "      <td>0.711395</td>\n",
       "      <td>[0.0054760613]</td>\n",
       "    </tr>\n",
       "    <tr>\n",
       "      <th>116</th>\n",
       "      <td>[[tensor(1.), tensor(0.), tensor(0.), tensor(0...</td>\n",
       "      <td>0.057450</td>\n",
       "      <td>[0.0041618384]</td>\n",
       "    </tr>\n",
       "    <tr>\n",
       "      <th>117</th>\n",
       "      <td>[[tensor(1.), tensor(0.), tensor(0.), tensor(0...</td>\n",
       "      <td>0.371841</td>\n",
       "      <td>[0.005058266]</td>\n",
       "    </tr>\n",
       "    <tr>\n",
       "      <th>118</th>\n",
       "      <td>[[tensor(1.), tensor(0.), tensor(0.), tensor(0...</td>\n",
       "      <td>0.262636</td>\n",
       "      <td>[0.0037241094]</td>\n",
       "    </tr>\n",
       "    <tr>\n",
       "      <th>119</th>\n",
       "      <td>[[tensor(1.), tensor(0.), tensor(0.), tensor(0...</td>\n",
       "      <td>0.385071</td>\n",
       "      <td>[0.0060853437]</td>\n",
       "    </tr>\n",
       "  </tbody>\n",
       "</table>\n",
       "<p>120 rows × 3 columns</p>\n",
       "</div>"
      ],
      "text/plain": [
       "                                                   seq  endogenous  \\\n",
       "0    [[tensor(1.), tensor(0.), tensor(0.), tensor(0...    0.441258   \n",
       "1    [[tensor(1.), tensor(0.), tensor(0.), tensor(0...    0.121632   \n",
       "2    [[tensor(1.), tensor(0.), tensor(0.), tensor(0...    0.689013   \n",
       "3    [[tensor(1.), tensor(0.), tensor(0.), tensor(0...    0.131357   \n",
       "4    [[tensor(1.), tensor(0.), tensor(0.), tensor(0...    0.483552   \n",
       "..                                                 ...         ...   \n",
       "115  [[tensor(1.), tensor(0.), tensor(0.), tensor(0...    0.711395   \n",
       "116  [[tensor(1.), tensor(0.), tensor(0.), tensor(0...    0.057450   \n",
       "117  [[tensor(1.), tensor(0.), tensor(0.), tensor(0...    0.371841   \n",
       "118  [[tensor(1.), tensor(0.), tensor(0.), tensor(0...    0.262636   \n",
       "119  [[tensor(1.), tensor(0.), tensor(0.), tensor(0...    0.385071   \n",
       "\n",
       "         integrated  \n",
       "0    [0.0054920986]  \n",
       "1     [0.004570067]  \n",
       "2     [0.005301632]  \n",
       "3     [0.004474297]  \n",
       "4     [0.004242435]  \n",
       "..              ...  \n",
       "115  [0.0054760613]  \n",
       "116  [0.0041618384]  \n",
       "117   [0.005058266]  \n",
       "118  [0.0037241094]  \n",
       "119  [0.0060853437]  \n",
       "\n",
       "[120 rows x 3 columns]"
      ]
     },
     "execution_count": 373,
     "metadata": {},
     "output_type": "execute_result"
    }
   ],
   "source": [
    "combined_df"
   ]
  },
  {
   "cell_type": "code",
   "execution_count": null,
   "id": "437e1761",
   "metadata": {},
   "outputs": [],
   "source": []
  }
 ],
 "metadata": {
  "kernelspec": {
   "display_name": "Python 3",
   "language": "python",
   "name": "python3"
  },
  "language_info": {
   "codemirror_mode": {
    "name": "ipython",
    "version": 3
   },
   "file_extension": ".py",
   "mimetype": "text/x-python",
   "name": "python",
   "nbconvert_exporter": "python",
   "pygments_lexer": "ipython3",
   "version": "3.8.8"
  }
 },
 "nbformat": 4,
 "nbformat_minor": 5
}
