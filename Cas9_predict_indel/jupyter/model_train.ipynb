{
 "cells": [
  {
   "cell_type": "code",
   "execution_count": 1,
   "id": "e4d47fe1",
   "metadata": {},
   "outputs": [
    {
     "data": {
      "text/plain": [
       "'C:\\\\ProgramData\\\\Anaconda3\\\\python.exe'"
      ]
     },
     "execution_count": 1,
     "metadata": {},
     "output_type": "execute_result"
    }
   ],
   "source": [
    "import sys\n",
    "sys.executable"
   ]
  },
  {
   "cell_type": "code",
   "execution_count": 2,
   "id": "99ee24cf",
   "metadata": {},
   "outputs": [],
   "source": [
    "import torch\n",
    "import torch.nn as nn\n",
    "import torch.nn.init as init\n",
    "from torch.utils.data import DataLoader, TensorDataset, Dataset\n",
    "from torch.autograd import Variable\n",
    "from torch.nn import functional as F\n",
    "from torch.utils.data.sampler import SubsetRandomSampler\n",
    "import numpy as np\n",
    "from collections import defaultdict\n"
   ]
  },
  {
   "cell_type": "markdown",
   "id": "7bc2f105",
   "metadata": {},
   "source": [
    "# Models"
   ]
  },
  {
   "cell_type": "code",
   "execution_count": 3,
   "id": "470ab244",
   "metadata": {},
   "outputs": [],
   "source": [
    "class BasicModule(nn.Module):\n",
    "    def __init__(self):\n",
    "        super(BasicModule, self).__init__()\n",
    "        self.model_name = str(type(self))\n",
    "\n",
    "    def load(self, path):\n",
    "        self.load_state_dict(torch.load(path))\n",
    "\n",
    "    def save(self, path):\n",
    "        torch.save(self.state_dict(), path)"
   ]
  },
  {
   "cell_type": "code",
   "execution_count": 4,
   "id": "a173381c",
   "metadata": {},
   "outputs": [],
   "source": [
    "# -*- coding: utf-8 -*-\n",
    "\n",
    "\n",
    "class SimpleCNN(BasicModule):\n",
    "    def __init__(self,args):\n",
    "        super(SimpleCNN, self).__init__()\n",
    "        # output size of fc layers\n",
    "        out1 = args['fc1_out']\n",
    "        out2 = args['fc2_out']\n",
    "        out3 = args['fc3_out'] # output layer\n",
    "        self.params = args\n",
    "        self.k = args['k_max']\n",
    "        \n",
    "        # self.k = args['k'] # for k max pooling\n",
    "        self.kernel_num = args['kernel_num']\n",
    "        self.dropout = nn.Dropout(args['dropout'])\n",
    " \n",
    "        \n",
    "        # convolution layers\n",
    "        self.conv1 = nn.Conv2d(1, self.kernel_num[0], (3, 4), bias=True)\n",
    "        self.conv2 = nn.Conv2d(1, self.kernel_num[1], (5, 4), bias=True)\n",
    "        self.conv3 = nn.Conv2d(1, self.kernel_num[2], (7, 4), bias=True)\n",
    "        self.conv4 = nn.Conv2d(1, self.kernel_num[3], (9, 4), bias=True)\n",
    "        self.conv5 = nn.Conv2d(1, 100, (11, 4), bias=True)\n",
    "        \n",
    "        # fc layers\n",
    "        self.fc1 = nn.Linear((sum(self.kernel_num)+100)*self.k, out1, bias=True)\n",
    "        self.fc2 = nn.Linear(out1, out2, bias=True)\n",
    "        self.fc3 = nn.Linear(out2, out3, bias=True)\n",
    "        \n",
    "        # init\n",
    "#         init.normal_(self.conv1.weight)\n",
    "#         init.normal_(self.conv2.weight)\n",
    "#         init.normal_(self.conv3.weight)\n",
    "#         init.normal_(self.conv1.bias)\n",
    "#         init.normal_(self.conv2.bias)\n",
    "#         init.normal_(self.conv3.bias)\n",
    "        \n",
    "#         init.normal_(self.fc1.weight)\n",
    "#         init.normal_(self.fc2.weight)\n",
    "#         init.normal_(self.fc3.weight)\n",
    "\n",
    "    def _conv_and_pool(self, x, conv):\n",
    "        # x: (batch, 1, size, 4)\n",
    "        x = conv(x)\n",
    "        # x: (batch, kernel_num, H_out, 1)\n",
    "        x = F.relu(x.squeeze(3))\n",
    "        # x: (batch, kernel_num, H_out)\n",
    "#         x = F.max_pool1d(x, x.size(2)).squeeze(2)\n",
    "        x = self.kmax_pooling(x, 2, k=self.k)\n",
    "        x = x.view(x.size(0), x.size(1) * x.size(2))\n",
    "        #  (batch, kernel_num * k)\n",
    "        return x\n",
    "    \n",
    "    def setDropout(self, dropout):\n",
    "        self.dropout = nn.Dropout(dropout)\n",
    "\n",
    "\n",
    "    def forward(self, x):\n",
    "        # x: (batch, size)\n",
    "        # x: (batch, sentence_length, embed_dim)\n",
    "        x = x.view(x.size(0),1, 30, 4)\n",
    "        x1 = self._conv_and_pool(x, self.conv1)  # (batch, kernel_num * k)\n",
    "        x2 = self._conv_and_pool(x, self.conv2)  # (batch, kernel_num * k)\n",
    "        x3 = self._conv_and_pool(x, self.conv3)  # (batch, kernel_num * k)\n",
    "        x4 = self._conv_and_pool(x, self.conv4)  # (batch, kernel_num * k)\n",
    "        x5 = self._conv_and_pool(x, self.conv5)  # (batch, kernel_num * k)\n",
    "\n",
    "        \n",
    "        x = torch.cat((x1, x2, x3, x4, x5), 1)  # (batch, 4 * kernel_num * k)\n",
    "        x = self.dropout(x)\n",
    "        x = self.fc1(x)\n",
    "        x = F.relu(x)\n",
    "        x = self.dropout(x)\n",
    "        x = self.fc2(x)\n",
    "        x = F.relu(x)\n",
    "        x = self.dropout(x)\n",
    "#         x = \n",
    "#         logit = F.log_softmax(x, dim=1)\n",
    "        return self.fc3(x)\n",
    "    \n",
    "    def kmax_pooling(self, x, dim, k):\n",
    "        index = x.topk(k, dim = dim)[1].sort(dim = dim)[0]\n",
    "        return x.gather(dim, index)"
   ]
  },
  {
   "cell_type": "code",
   "execution_count": 5,
   "id": "aac354b7",
   "metadata": {},
   "outputs": [],
   "source": [
    "class DNADataset(Dataset):\n",
    "    \n",
    "    def __init__(self, data, size):\n",
    "        super(DNADataset, self).__init__()\n",
    "        self.size = size\n",
    "        self.x = np.zeros((len(data),size, 4))\n",
    "        self.y = []\n",
    "\n",
    "        for I in range(len(data)):\n",
    "            self.y.append(data[I][1])\n",
    "            if type(data[0][0])==str:\n",
    "                for i in range(size):\n",
    "                    seq = data[I][0].lower()\n",
    "                    # one hot encoding\n",
    "                    pos = \"acgt\".find(seq[i])\n",
    "                    if pos >= 0:\n",
    "                        self.x[I][i][pos] = 1\n",
    "            else:\n",
    "                self.x[I] = data[I][0]\n",
    "        self.x = torch.DoubleTensor(self.x)\n",
    "\n",
    "        \n",
    "    def __len__(self):\n",
    "        return len(self.y)\n",
    "    \n",
    "    def __getitem__(self, index):\n",
    "        return self.x[index], self.y[index]\n",
    "        \n",
    "    # return a subset of dataset of given range\n",
    "    def get_subset(self, start, end):\n",
    "        \n",
    "        return DNADataset([(self.x[i],self.y[i]) for i in range(start, end)], self.size)"
   ]
  },
  {
   "cell_type": "code",
   "execution_count": 6,
   "id": "7c0737e6",
   "metadata": {},
   "outputs": [],
   "source": [
    "#\n",
    "def load_data(file):\n",
    "    data = []\n",
    "    with open(file,\"r\") as f:\n",
    "        for line in f:\n",
    "            line = line.split()\n",
    "            data.append((line[0], float(line[1])))\n",
    "    return data"
   ]
  },
  {
   "cell_type": "code",
   "execution_count": 7,
   "id": "30920e22",
   "metadata": {},
   "outputs": [],
   "source": [
    "#\n",
    "train_set = DNADataset(load_data(\"../dataset/train_txt\"),30)\n",
    "test_set = DNADataset(load_data(\"../dataset/test_txt\"),30)\n"
   ]
  },
  {
   "cell_type": "code",
   "execution_count": 15,
   "id": "6e393335",
   "metadata": {},
   "outputs": [],
   "source": [
    "def train(model, train_dataset, epochs, batch_size, cv=0.1, learning_rate=0.001, start = 0, end = 0):\n",
    "    subset = train_dataset.get_subset(start, end)\n",
    "    n_training_samples = len(subset) * (1-cv)\n",
    "    n_val_samples = len(subset) * cv\n",
    "    train_loader =torch.utils.data.DataLoader(subset, batch_size=batch_size,\n",
    "                                              sampler=SubsetRandomSampler(\n",
    "                                                  np.arange(n_training_samples, dtype=np.int64)\n",
    "                                              ),\n",
    "                                              num_workers=0)\n",
    "    val_loader =torch.utils.data.DataLoader(subset, batch_size=100,\n",
    "                                              sampler=SubsetRandomSampler(\n",
    "                                                  np.arange(n_training_samples, n_training_samples + n_val_samples, dtype=np.int64)\n",
    "                                              ), num_workers=0)\n",
    "    optimizer = torch.optim.Adam(model.parameters(), lr=learning_rate)\n",
    "    criterion = nn.MSELoss()\n",
    "    model.double()\n",
    "\n",
    "    print(\"Train %s samples.\"%n_training_samples)\n",
    "    \n",
    "    for e in range(epochs):\n",
    "        # train loss\n",
    "        epoch_train_loss = 0.0\n",
    "        model.setDropout(model.params['dropout'])\n",
    "        for inp, scores in train_loader:\n",
    "            inp = inp.unsqueeze(1)\n",
    "            inp = Variable(inp)\n",
    "            out = model(inp).view((-1))\n",
    "\n",
    "            scores = Variable(torch.DoubleTensor(scores))\n",
    "            loss = criterion(out, scores)\n",
    "            epoch_train_loss += loss\n",
    "            optimizer.zero_grad()\n",
    "            loss.backward()\n",
    "            optimizer.step()\n",
    "                \n",
    "        # validation loss\n",
    "#         epoch_val_loss = 0.0\n",
    "#         for inp, labels in val_loader:\n",
    "#             inp = inp.unsqueeze(1)\n",
    "#             out = model(inp)        \n",
    "#             loss = criterion(out, labels)\n",
    "#             epoch_val_loss += loss\n",
    "\n",
    "\n",
    "#         print(str(epoch_train_loss) + ' ')\n",
    "#         print(str(epoch_val_loss.tolist()) + '\\n')\n",
    "        model.setDropout(0.0)\n",
    "        print(e)\n",
    "        print(pd.DataFrame([[endo[i][0], endo[i][1], endo_scores(endo_dataset)[i]] for i in range(len(endo))], columns=['seq', 'endogenous', 'integrated'])\\\n",
    "    [['endogenous', 'integrated']].corr(method='spearman'))"
   ]
  },
  {
   "cell_type": "markdown",
   "id": "6154119e",
   "metadata": {},
   "source": [
    "# Correlation"
   ]
  },
  {
   "cell_type": "code",
   "execution_count": 9,
   "id": "f08f57af",
   "metadata": {},
   "outputs": [],
   "source": [
    "import pandas as pd"
   ]
  },
  {
   "cell_type": "code",
   "execution_count": 16,
   "id": "1dde3f14",
   "metadata": {},
   "outputs": [],
   "source": [
    "endo = load_data(\"../dataset/table3\")\n",
    "\n"
   ]
  },
  {
   "cell_type": "code",
   "execution_count": 17,
   "id": "b11a3a54",
   "metadata": {},
   "outputs": [],
   "source": [
    "def endo_scores(dataset):\n",
    "    escores = []\n",
    "    for inp, scores in DataLoader(dataset, batch_size=100):\n",
    "        inp = inp.unsqueeze(1)\n",
    "        inp = Variable(inp)\n",
    "        out = model(inp).view((-1))\n",
    "        for v in out.detach().numpy():\n",
    "            escores.append(v)\n",
    "    return escores"
   ]
  },
  {
   "cell_type": "code",
   "execution_count": 18,
   "id": "60e308f9",
   "metadata": {},
   "outputs": [],
   "source": [
    "endo_dataset = DNADataset(endo,30)\n"
   ]
  },
  {
   "cell_type": "markdown",
   "id": "81cb2573",
   "metadata": {},
   "source": [
    "# Training\n"
   ]
  },
  {
   "cell_type": "code",
   "execution_count": 23,
   "id": "05c1a633",
   "metadata": {},
   "outputs": [
    {
     "name": "stdout",
     "output_type": "stream",
     "text": [
      "Train 12833.0 samples.\n",
      "0\n",
      "            endogenous  integrated\n",
      "endogenous     1.00000     0.59054\n",
      "integrated     0.59054     1.00000\n",
      "1\n",
      "            endogenous  integrated\n",
      "endogenous    1.000000    0.576734\n",
      "integrated    0.576734    1.000000\n",
      "2\n",
      "            endogenous  integrated\n",
      "endogenous    1.000000    0.598766\n",
      "integrated    0.598766    1.000000\n",
      "3\n",
      "            endogenous  integrated\n",
      "endogenous    1.000000    0.581077\n",
      "integrated    0.581077    1.000000\n",
      "4\n",
      "            endogenous  integrated\n",
      "endogenous    1.000000    0.591507\n",
      "integrated    0.591507    1.000000\n",
      "5\n",
      "            endogenous  integrated\n",
      "endogenous    1.000000    0.576218\n",
      "integrated    0.576218    1.000000\n",
      "6\n",
      "            endogenous  integrated\n",
      "endogenous    1.000000    0.606386\n",
      "integrated    0.606386    1.000000\n",
      "7\n",
      "            endogenous  integrated\n",
      "endogenous    1.000000    0.575941\n",
      "integrated    0.575941    1.000000\n",
      "8\n",
      "            endogenous  integrated\n",
      "endogenous    1.000000    0.593917\n",
      "integrated    0.593917    1.000000\n",
      "9\n",
      "            endogenous  integrated\n",
      "endogenous    1.000000    0.570314\n",
      "integrated    0.570314    1.000000\n",
      "10\n",
      "            endogenous  integrated\n",
      "endogenous    1.000000    0.574099\n",
      "integrated    0.574099    1.000000\n",
      "11\n",
      "            endogenous  integrated\n",
      "endogenous    1.000000    0.593095\n",
      "integrated    0.593095    1.000000\n",
      "12\n",
      "            endogenous  integrated\n",
      "endogenous    1.000000    0.591352\n",
      "integrated    0.591352    1.000000\n",
      "13\n",
      "            endogenous  integrated\n",
      "endogenous    1.000000    0.578889\n",
      "integrated    0.578889    1.000000\n",
      "14\n",
      "            endogenous  integrated\n",
      "endogenous     1.00000     0.57729\n",
      "integrated     0.57729     1.00000\n",
      "15\n",
      "            endogenous  integrated\n",
      "endogenous    1.000000    0.596979\n",
      "integrated    0.596979    1.000000\n",
      "16\n",
      "            endogenous  integrated\n",
      "endogenous    1.000000    0.573633\n",
      "integrated    0.573633    1.000000\n",
      "17\n",
      "            endogenous  integrated\n",
      "endogenous    1.000000    0.592711\n",
      "integrated    0.592711    1.000000\n",
      "18\n",
      "            endogenous  integrated\n",
      "endogenous    1.000000    0.587292\n",
      "integrated    0.587292    1.000000\n",
      "19\n",
      "            endogenous  integrated\n",
      "endogenous     1.00000     0.58147\n",
      "integrated     0.58147     1.00000\n"
     ]
    }
   ],
   "source": [
    "args = {\n",
    "    'kernel_num': [100,70, 60, 60],\n",
    "    'dropout': 0.5,\n",
    "    'fc1_out': 80,\n",
    "    'fc2_out': 60,\n",
    "    'fc3_out': 1,\n",
    "    'input_max_length':30,\n",
    "    'k_max' : 5\n",
    "}\n",
    "# model = SimpleCNN(args)\n",
    "train(model, train_set, 20, 120, cv=0.0, start=0, end=12833)"
   ]
  },
  {
   "cell_type": "code",
   "execution_count": 450,
   "id": "30a4bc08",
   "metadata": {},
   "outputs": [],
   "source": [
    "escores = endo_scores(endo_dataset)"
   ]
  },
  {
   "cell_type": "code",
   "execution_count": 451,
   "id": "92ec0684",
   "metadata": {},
   "outputs": [],
   "source": [
    "combined_df = pd.DataFrame([[endo[i][0], endo[i][1], escores[i]] for i in range(len(endo))], columns=['seq', 'endogenous', 'integrated'] )"
   ]
  },
  {
   "cell_type": "code",
   "execution_count": 452,
   "id": "5fa23c7a",
   "metadata": {},
   "outputs": [
    {
     "data": {
      "text/html": [
       "<div>\n",
       "<style scoped>\n",
       "    .dataframe tbody tr th:only-of-type {\n",
       "        vertical-align: middle;\n",
       "    }\n",
       "\n",
       "    .dataframe tbody tr th {\n",
       "        vertical-align: top;\n",
       "    }\n",
       "\n",
       "    .dataframe thead th {\n",
       "        text-align: right;\n",
       "    }\n",
       "</style>\n",
       "<table border=\"1\" class=\"dataframe\">\n",
       "  <thead>\n",
       "    <tr style=\"text-align: right;\">\n",
       "      <th></th>\n",
       "      <th>endogenous</th>\n",
       "      <th>integrated</th>\n",
       "    </tr>\n",
       "  </thead>\n",
       "  <tbody>\n",
       "    <tr>\n",
       "      <th>endogenous</th>\n",
       "      <td>1.000000</td>\n",
       "      <td>0.421199</td>\n",
       "    </tr>\n",
       "    <tr>\n",
       "      <th>integrated</th>\n",
       "      <td>0.421199</td>\n",
       "      <td>1.000000</td>\n",
       "    </tr>\n",
       "  </tbody>\n",
       "</table>\n",
       "</div>"
      ],
      "text/plain": [
       "            endogenous  integrated\n",
       "endogenous    1.000000    0.421199\n",
       "integrated    0.421199    1.000000"
      ]
     },
     "execution_count": 452,
     "metadata": {},
     "output_type": "execute_result"
    }
   ],
   "source": [
    "combined_df[['endogenous', 'integrated']].corr(method='spearman')"
   ]
  },
  {
   "cell_type": "code",
   "execution_count": null,
   "id": "371b0ac7",
   "metadata": {},
   "outputs": [],
   "source": []
  }
 ],
 "metadata": {
  "kernelspec": {
   "display_name": "Python 3",
   "language": "python",
   "name": "python3"
  },
  "language_info": {
   "codemirror_mode": {
    "name": "ipython",
    "version": 3
   },
   "file_extension": ".py",
   "mimetype": "text/x-python",
   "name": "python",
   "nbconvert_exporter": "python",
   "pygments_lexer": "ipython3",
   "version": "3.8.8"
  }
 },
 "nbformat": 4,
 "nbformat_minor": 5
}
