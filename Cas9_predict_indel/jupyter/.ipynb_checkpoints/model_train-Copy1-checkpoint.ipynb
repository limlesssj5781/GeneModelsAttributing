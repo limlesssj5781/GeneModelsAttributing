{
 "cells": [
  {
   "cell_type": "code",
   "execution_count": 1,
   "id": "e4d47fe1",
   "metadata": {},
   "outputs": [
    {
     "data": {
      "text/plain": [
       "'C:\\\\ProgramData\\\\Anaconda3\\\\python.exe'"
      ]
     },
     "execution_count": 1,
     "metadata": {},
     "output_type": "execute_result"
    }
   ],
   "source": [
    "import sys\n",
    "sys.executable"
   ]
  },
  {
   "cell_type": "code",
   "execution_count": 1,
   "id": "f08f57af",
   "metadata": {},
   "outputs": [],
   "source": [
    "import pandas as pd"
   ]
  },
  {
   "cell_type": "code",
   "execution_count": 2,
   "id": "99ee24cf",
   "metadata": {},
   "outputs": [],
   "source": [
    "import torch\n",
    "import torch.nn as nn\n",
    "import torch.nn.init as init\n",
    "from torch.utils.data import DataLoader, TensorDataset, Dataset\n",
    "from torch.autograd import Variable\n",
    "from torch.nn import functional as F\n",
    "from torch.utils.data.sampler import SubsetRandomSampler\n",
    "import numpy as np\n",
    "from collections import defaultdict\n"
   ]
  },
  {
   "cell_type": "markdown",
   "id": "7bc2f105",
   "metadata": {},
   "source": [
    "# Models"
   ]
  },
  {
   "cell_type": "code",
   "execution_count": 3,
   "id": "470ab244",
   "metadata": {},
   "outputs": [],
   "source": [
    "class BasicModule(nn.Module):\n",
    "    def __init__(self):\n",
    "        super(BasicModule, self).__init__()\n",
    "        self.model_name = str(type(self))\n",
    "\n",
    "    def load(self, path):\n",
    "        self.load_state_dict(torch.load(path))\n",
    "\n",
    "    def save(self, path):\n",
    "        torch.save(self.state_dict(), path)"
   ]
  },
  {
   "cell_type": "code",
   "execution_count": 4,
   "id": "a173381c",
   "metadata": {},
   "outputs": [],
   "source": [
    "class SimpleCNN(BasicModule):\n",
    "    def __init__(self,args):\n",
    "        super(SimpleCNN, self).__init__()\n",
    "        # output size of fc layers\n",
    "        out1 = args['fc1_out']\n",
    "        out2 = args['fc2_out']\n",
    "        out3 = args['fc3_out'] # output layer\n",
    "        self.params = args\n",
    "        self.k = args['k_max']\n",
    "        \n",
    "        # self.k = args['k'] # for k max pooling\n",
    "        self.kernel_num = args['kernel_num']\n",
    "        self.dropout = nn.Dropout(args['dropout'])\n",
    " \n",
    "        \n",
    "        # convolution layers\n",
    "        filter_sizes = [3, 5, 7, 9]\n",
    "        self.conv1 = nn.Conv2d(1, self.kernel_num[0], (3, 4), bias=True, padding=0)\n",
    "        self.conv2 = nn.Conv2d(1, self.kernel_num[1], (5, 4), bias=True, padding=0)\n",
    "        self.conv3 = nn.Conv2d(1, self.kernel_num[2], (7, 4), bias=True, padding=0)\n",
    "        self.conv4 = nn.Conv2d(1, self.kernel_num[3], (9, 4), bias=True, padding=0)\n",
    "#         self.conv5 = nn.Conv2d(1, self.kernel_num[4], (11, 4), bias=True, padding=0)\n",
    "\n",
    "        \n",
    "        # fc layers\n",
    "        self.fc1 = nn.Linear((sum([self.kernel_num[i] * (31-filter_sizes[i]) // 2 for i in range(len(filter_sizes))])), out1, bias=True)\n",
    "        self.fc2 = nn.Linear(out1, out2, bias=True)\n",
    "        self.fc3 = nn.Linear(out2, out3, bias=False)\n",
    "        \n",
    "\n",
    "    def _conv_and_pool(self, x, conv):\n",
    "        # x: (batch, 1, size, 4)\n",
    "        x = conv(x)\n",
    "        # x: (batch, kernel_num, H_out, 1)\n",
    "        x = F.relu(x)\n",
    "        # x: (batch, kernel_num, H_out)\n",
    "        x = F.max_pool2d(x, kernel_size=(2,1), stride=2)\n",
    "        x = x.view(x.size(0), x.size(1) * x.size(2))\n",
    "        #  (batch, kernel_num * k)\n",
    "        return x\n",
    "    \n",
    "    def setDropout(self, dropout):\n",
    "        self.dropout = nn.Dropout(dropout)\n",
    "\n",
    "    def forward(self, x):\n",
    "        # x: (batch, size)\n",
    "        # x: (batch, sentence_length, embed_dim)\n",
    "        x = x.view(x.size(0),1, 30, 4)\n",
    "        x1 = self._conv_and_pool(x, self.conv1) \n",
    "        x2 = self._conv_and_pool(x, self.conv2)  \n",
    "        x3 = self._conv_and_pool(x, self.conv3)  \n",
    "        x4 = self._conv_and_pool(x, self.conv4)  \n",
    "\n",
    "        \n",
    "        x = torch.cat((x1, x2, x3, x4), 1) \n",
    "        x = self.dropout(x)\n",
    "        x = self.fc1(x)\n",
    "        x = F.relu(x)\n",
    "        x = self.dropout(x)\n",
    "        x = self.fc2(x)\n",
    "        x = F.relu(x)\n",
    "        x = self.dropout(x)\n",
    "        \n",
    "        return self.fc3(x)"
   ]
  },
  {
   "cell_type": "code",
   "execution_count": 5,
   "id": "aac354b7",
   "metadata": {},
   "outputs": [],
   "source": [
    "class DNADataset(Dataset):\n",
    "    \n",
    "    def __init__(self, data, size):\n",
    "        super(DNADataset, self).__init__()\n",
    "        self.size = size\n",
    "        self.x = np.zeros((len(data),size, 4))\n",
    "        self.y = []\n",
    "\n",
    "        for I in range(len(data)):\n",
    "            self.y.append(data[I][1])\n",
    "            if type(data[0][0])==str:\n",
    "                for i in range(size):\n",
    "                    seq = data[I][0].lower()\n",
    "                    # one hot encoding\n",
    "                    pos = \"acgt\".find(seq[i])\n",
    "                    if pos >= 0:\n",
    "                        self.x[I][i][pos] = 1\n",
    "            else:\n",
    "                self.x[I] = data[I][0]\n",
    "        self.x = torch.FloatTensor(self.x)\n",
    "        self.y = torch.FloatTensor(self.y)\n",
    "\n",
    "        \n",
    "    def __len__(self):\n",
    "        return len(self.y)\n",
    "    \n",
    "    def __getitem__(self, index):\n",
    "        return self.x[index], self.y[index]\n",
    "        \n",
    "    # return a subset of dataset of given range\n",
    "    def get_subset(self, start, end):\n",
    "        \n",
    "        return DNADataset([(self.x[i],self.y[i]) for i in range(start, end)], self.size)"
   ]
  },
  {
   "cell_type": "code",
   "execution_count": 6,
   "id": "7c0737e6",
   "metadata": {},
   "outputs": [],
   "source": [
    "#\n",
    "def load_data(file):\n",
    "    data = []\n",
    "    with open(file,\"r\") as f:\n",
    "        for line in f:\n",
    "            line = line.split()\n",
    "            data.append((line[0], float(line[1])))\n",
    "    return data"
   ]
  },
  {
   "cell_type": "markdown",
   "id": "81cb2573",
   "metadata": {},
   "source": [
    "# Training\n"
   ]
  },
  {
   "cell_type": "code",
   "execution_count": 7,
   "id": "30920e22",
   "metadata": {},
   "outputs": [],
   "source": [
    "#\n",
    "train_set = DNADataset(load_data(\"../dataset/train_txt\"),30)\n",
    "test_set = DNADataset(load_data(\"../dataset/test_txt\"),30)\n",
    "endo = load_data(\"../dataset/table3\")\n",
    "endo_dataset = DNADataset(endo,30)"
   ]
  },
  {
   "cell_type": "code",
   "execution_count": 8,
   "id": "861d9e19",
   "metadata": {},
   "outputs": [],
   "source": [
    "test_1a_df = pd.read_excel(\"../dataset/aax9249_table_s3.xlsx\", sheet_name=[1])[1]\n",
    "test_1a = DNADataset([(test_1a_df[test_1a_df.columns[0]].values[i], float(test_1a_df[test_1a_df.columns[1]].values[i])) for i in range(len(test_1a_df)) ], 30)"
   ]
  },
  {
   "cell_type": "code",
   "execution_count": 9,
   "id": "46780459",
   "metadata": {},
   "outputs": [],
   "source": [
    "test_1b_df = pd.read_excel(\"../dataset/aax9249_table_s3.xlsx\", sheet_name=[2])[2]\n",
    "test_1b = DNADataset([(test_1b_df[test_1b_df.columns[0]].values[i], float(test_1b_df[test_1b_df.columns[1]].values[i])) for i in range(len(test_1b_df)) ], 30)"
   ]
  },
  {
   "cell_type": "code",
   "execution_count": 20,
   "id": "6e393335",
   "metadata": {},
   "outputs": [],
   "source": [
    "def train(model, train_dataset, epochs, batch_size, val_set, cv=0.1, learning_rate=0.001, start = 0, end = 0):\n",
    "    subset = train_dataset.get_subset(start, end)\n",
    "    n_training_samples = len(subset) * (1-cv)\n",
    "    n_val_samples = len(subset) * cv\n",
    "    train_loader =torch.utils.data.DataLoader(subset, batch_size=batch_size,\n",
    "                                              sampler=SubsetRandomSampler(\n",
    "                                                  np.arange(n_training_samples, dtype=np.int64)\n",
    "                                              ),\n",
    "                                              num_workers=0)\n",
    "    val_loader =torch.utils.data.DataLoader(subset, batch_size=100,\n",
    "                                              sampler=SubsetRandomSampler(\n",
    "                                                  np.arange(n_training_samples, n_training_samples + n_val_samples, dtype=np.int64)\n",
    "                                              ), num_workers=0)\n",
    "    optimizer = torch.optim.Adam(model.parameters(), lr=learning_rate)\n",
    "    criterion = nn.MSELoss()\n",
    "\n",
    "\n",
    "    print(\"Train %s samples.\"%n_training_samples)\n",
    "    \n",
    "    for e in range(epochs):\n",
    "        # train loss\n",
    "        epoch_train_loss = 0.0\n",
    "        model.setDropout(model.params['dropout'])\n",
    "        for inp, scores in train_loader:\n",
    "            inp = inp.unsqueeze(1)\n",
    "            inp = Variable(inp)\n",
    "            out = model(inp).view((-1))\n",
    "\n",
    "            scores = Variable(torch.FloatTensor(scores))\n",
    "            loss = criterion(out, scores)\n",
    "            epoch_train_loss += loss\n",
    "            optimizer.zero_grad()\n",
    "            loss.backward()\n",
    "            optimizer.step()\n",
    "                \n",
    "        # validation loss\n",
    "#         epoch_val_loss = 0.0\n",
    "#         for inp, labels in val_loader:\n",
    "#             inp = inp.unsqueeze(1)\n",
    "#             out = model(inp)        \n",
    "#             loss = criterion(out, labels)\n",
    "#             epoch_val_loss += loss\n",
    "\n",
    "\n",
    "#         print(str(epoch_train_loss) + ' ')\n",
    "#         print(str(epoch_val_loss.tolist()) + '\\n')\n",
    "#         model.setDropout(0.0)\n",
    "#         print(e)\n",
    "#         tscores = test_scores(model, val_set, 400)\n",
    "#         corr = pd.DataFrame([[val_set[i][0], float(val_set[i][1]), tscores[i]] for i in range(len(tscores))], columns=['seq', 'endogenous', 'integrated'])\\\n",
    "#     [['endogenous', 'integrated']].corr(method='spearman')['endogenous']['integrated']\n",
    "#         print(corr)\n",
    "#         if corr >= 0.68:\n",
    "#             print(\"Saving.\")\n",
    "#             model.save(\"../model/cnn_3579_90-60-40-110_80-60_90_%s.model\"%(round(corr, 3)))"
   ]
  },
  {
   "cell_type": "code",
   "execution_count": 21,
   "id": "05c1a633",
   "metadata": {},
   "outputs": [
    {
     "name": "stdout",
     "output_type": "stream",
     "text": [
      "torch.Size([80, 3730])\n",
      "Train 12832.0 samples.\n"
     ]
    }
   ],
   "source": [
    "args = {\n",
    "    'kernel_num': [90, 60, 40, 110],\n",
    "    'dropout': 0.15,\n",
    "    'fc1_out': 80,\n",
    "    'fc2_out': 40,\n",
    "    'fc3_out': 1,\n",
    "    'input_max_length':30,\n",
    "    'k_max' : 1\n",
    "}\n",
    "model = SimpleCNN(args)\n",
    "# model.float()\n",
    "print(model.fc1.weight.shape)\n",
    "train(model, train_set, 5, 70, endo_dataset, cv=0.0, learning_rate=0.003, start=0, end=12832)"
   ]
  },
  {
   "cell_type": "code",
   "execution_count": 22,
   "id": "9f3e74a2",
   "metadata": {},
   "outputs": [
    {
     "data": {
      "text/plain": [
       "tensor([[10.8422],\n",
       "        [69.2310],\n",
       "        [46.4673],\n",
       "        [51.6845],\n",
       "        [36.2052],\n",
       "        [13.7545],\n",
       "        [31.0061],\n",
       "        [25.9110],\n",
       "        [55.5216],\n",
       "        [38.4801],\n",
       "        [24.2505],\n",
       "        [18.2054],\n",
       "        [26.4022],\n",
       "        [55.7918],\n",
       "        [26.8448],\n",
       "        [24.4465],\n",
       "        [41.9331],\n",
       "        [40.7746],\n",
       "        [52.3995],\n",
       "        [40.0110],\n",
       "        [40.5997],\n",
       "        [44.8359],\n",
       "        [24.8150],\n",
       "        [24.3695],\n",
       "        [29.9257],\n",
       "        [56.5598],\n",
       "        [28.7523],\n",
       "        [ 0.4242],\n",
       "        [49.2482],\n",
       "        [29.2895],\n",
       "        [ 7.4175],\n",
       "        [15.9620],\n",
       "        [42.8520],\n",
       "        [58.3679],\n",
       "        [32.2380],\n",
       "        [41.6571],\n",
       "        [33.4925],\n",
       "        [26.6476],\n",
       "        [25.4766],\n",
       "        [41.6155],\n",
       "        [29.5063],\n",
       "        [15.1500],\n",
       "        [36.5635],\n",
       "        [49.4341],\n",
       "        [66.8345],\n",
       "        [28.3805],\n",
       "        [19.9329],\n",
       "        [61.4743],\n",
       "        [55.1722],\n",
       "        [ 0.5174],\n",
       "        [38.9662],\n",
       "        [28.2399],\n",
       "        [29.8071],\n",
       "        [20.1202],\n",
       "        [24.8996],\n",
       "        [48.8761],\n",
       "        [41.2870],\n",
       "        [57.3483],\n",
       "        [49.5959],\n",
       "        [ 0.4911],\n",
       "        [35.5523],\n",
       "        [28.3857],\n",
       "        [22.0150],\n",
       "        [ 4.8128],\n",
       "        [23.3558],\n",
       "        [47.1943],\n",
       "        [38.7681],\n",
       "        [41.1223],\n",
       "        [43.9122],\n",
       "        [59.2045],\n",
       "        [24.4748],\n",
       "        [31.0661],\n",
       "        [65.7839],\n",
       "        [16.4482],\n",
       "        [24.6533],\n",
       "        [25.6795],\n",
       "        [25.3526],\n",
       "        [31.8092],\n",
       "        [34.9392],\n",
       "        [37.7876],\n",
       "        [ 7.2210],\n",
       "        [ 0.8781],\n",
       "        [42.2223],\n",
       "        [16.3412],\n",
       "        [12.3488],\n",
       "        [29.9273],\n",
       "        [49.0841],\n",
       "        [47.8255],\n",
       "        [52.6669],\n",
       "        [31.5356],\n",
       "        [24.1790],\n",
       "        [11.1658],\n",
       "        [29.3144],\n",
       "        [38.9651],\n",
       "        [25.2793],\n",
       "        [25.4287],\n",
       "        [24.9637],\n",
       "        [57.3845],\n",
       "        [38.3230],\n",
       "        [37.7123],\n",
       "        [56.2923],\n",
       "        [47.4184],\n",
       "        [39.8649],\n",
       "        [41.6664],\n",
       "        [40.1431],\n",
       "        [18.0449],\n",
       "        [55.7750],\n",
       "        [15.5833],\n",
       "        [49.7243],\n",
       "        [28.3529],\n",
       "        [35.2255],\n",
       "        [47.5411],\n",
       "        [26.5455],\n",
       "        [37.6064],\n",
       "        [45.9567],\n",
       "        [39.4067],\n",
       "        [56.7080],\n",
       "        [29.3924],\n",
       "        [47.5823],\n",
       "        [61.2663]], grad_fn=<MmBackward>)"
      ]
     },
     "execution_count": 22,
     "metadata": {},
     "output_type": "execute_result"
    }
   ],
   "source": [
    "model(train_set.x[:120].view(120,30,4))"
   ]
  },
  {
   "cell_type": "code",
   "execution_count": 88,
   "id": "28495093",
   "metadata": {},
   "outputs": [
    {
     "name": "stdout",
     "output_type": "stream",
     "text": [
      "Train 12832.0 samples.\n",
      "0\n",
      "0.6574728560188827\n",
      "1\n",
      "0.6520283241542093\n",
      "2\n",
      "0.6569819040125885\n",
      "3\n",
      "0.6614885916601102\n",
      "4\n",
      "0.6619417781274587\n",
      "5\n",
      "0.6430653029110937\n",
      "6\n",
      "0.6542061369000787\n",
      "7\n",
      "0.6616207710464201\n",
      "8\n",
      "0.668053501180173\n",
      "9\n",
      "0.6567049567269866\n"
     ]
    }
   ],
   "source": [
    "train(model, train_set, 10, 90, endo_dataset, cv=0.0, start=0, end=len(train_set))"
   ]
  },
  {
   "cell_type": "markdown",
   "id": "6154119e",
   "metadata": {},
   "source": [
    "# Correlation"
   ]
  },
  {
   "cell_type": "code",
   "execution_count": 11,
   "id": "1dde3f14",
   "metadata": {},
   "outputs": [],
   "source": []
  },
  {
   "cell_type": "code",
   "execution_count": 12,
   "id": "b11a3a54",
   "metadata": {},
   "outputs": [],
   "source": [
    "def endo_scores(dataset):\n",
    "    escores = []\n",
    "    for inp, scores in DataLoader(dataset, batch_size=100):\n",
    "        inp = inp.unsqueeze(1)\n",
    "        inp = Variable(inp)\n",
    "        out = model(inp).view((-1))\n",
    "        for v in out.detach().numpy():\n",
    "            escores.append(v)\n",
    "    return escores"
   ]
  },
  {
   "cell_type": "code",
   "execution_count": 13,
   "id": "60e308f9",
   "metadata": {},
   "outputs": [],
   "source": [
    "\n"
   ]
  },
  {
   "cell_type": "code",
   "execution_count": 49,
   "id": "30a4bc08",
   "metadata": {},
   "outputs": [
    {
     "ename": "NameError",
     "evalue": "name 'endo_scores' is not defined",
     "output_type": "error",
     "traceback": [
      "\u001b[1;31m---------------------------------------------------------------------------\u001b[0m",
      "\u001b[1;31mNameError\u001b[0m                                 Traceback (most recent call last)",
      "\u001b[1;32m<ipython-input-49-c4ebda7f7781>\u001b[0m in \u001b[0;36m<module>\u001b[1;34m\u001b[0m\n\u001b[1;32m----> 1\u001b[1;33m \u001b[0mescores\u001b[0m \u001b[1;33m=\u001b[0m \u001b[0mendo_scores\u001b[0m\u001b[1;33m(\u001b[0m\u001b[0mtest_set\u001b[0m\u001b[1;33m)\u001b[0m\u001b[1;33m\u001b[0m\u001b[1;33m\u001b[0m\u001b[0m\n\u001b[0m",
      "\u001b[1;31mNameError\u001b[0m: name 'endo_scores' is not defined"
     ]
    }
   ],
   "source": [
    "escores = endo_scores(test_set)"
   ]
  },
  {
   "cell_type": "code",
   "execution_count": 50,
   "id": "92ec0684",
   "metadata": {},
   "outputs": [],
   "source": [
    "combined_df = pd.DataFrame([[endo[i][0], endo[i][1], escores[i]] for i in range(len(endo))], columns=['seq', 'endogenous', 'integrated'] )"
   ]
  },
  {
   "cell_type": "code",
   "execution_count": 51,
   "id": "5fa23c7a",
   "metadata": {},
   "outputs": [
    {
     "data": {
      "text/html": [
       "<div>\n",
       "<style scoped>\n",
       "    .dataframe tbody tr th:only-of-type {\n",
       "        vertical-align: middle;\n",
       "    }\n",
       "\n",
       "    .dataframe tbody tr th {\n",
       "        vertical-align: top;\n",
       "    }\n",
       "\n",
       "    .dataframe thead th {\n",
       "        text-align: right;\n",
       "    }\n",
       "</style>\n",
       "<table border=\"1\" class=\"dataframe\">\n",
       "  <thead>\n",
       "    <tr style=\"text-align: right;\">\n",
       "      <th></th>\n",
       "      <th>endogenous</th>\n",
       "      <th>integrated</th>\n",
       "    </tr>\n",
       "  </thead>\n",
       "  <tbody>\n",
       "    <tr>\n",
       "      <th>endogenous</th>\n",
       "      <td>1.000000</td>\n",
       "      <td>0.655792</td>\n",
       "    </tr>\n",
       "    <tr>\n",
       "      <th>integrated</th>\n",
       "      <td>0.655792</td>\n",
       "      <td>1.000000</td>\n",
       "    </tr>\n",
       "  </tbody>\n",
       "</table>\n",
       "</div>"
      ],
      "text/plain": [
       "            endogenous  integrated\n",
       "endogenous    1.000000    0.655792\n",
       "integrated    0.655792    1.000000"
      ]
     },
     "execution_count": 51,
     "metadata": {},
     "output_type": "execute_result"
    }
   ],
   "source": [
    "combined_df[['endogenous', 'integrated']].corr(method='spearman')"
   ]
  },
  {
   "cell_type": "markdown",
   "id": "cc256531",
   "metadata": {},
   "source": [
    "## Test"
   ]
  },
  {
   "cell_type": "code",
   "execution_count": 13,
   "id": "12de5ef4",
   "metadata": {},
   "outputs": [],
   "source": [
    "#\n",
    "def test_scores(model, test_set, batch_size):\n",
    "    tscores = []\n",
    "    for inp, scores in DataLoader(test_set, batch_size=batch_size):\n",
    "        inp = inp.unsqueeze(1)\n",
    "        inp = Variable(inp)\n",
    "        out = model(inp).view((-1))\n",
    "        for v in out.detach().numpy():\n",
    "            tscores.append(v)\n",
    "    return tscores"
   ]
  },
  {
   "cell_type": "code",
   "execution_count": 14,
   "id": "c5fbfe88",
   "metadata": {},
   "outputs": [],
   "source": [
    "tscores = test_scores(model, test_set, 320)\n",
    "combined_df = pd.DataFrame([[test_set[i][0], float(test_set[i][1]), tscores[i]] for i in range(len(tscores))], columns=['seq', 'endogenous', 'integrated'] )"
   ]
  },
  {
   "cell_type": "code",
   "execution_count": 15,
   "id": "11dd71f3",
   "metadata": {},
   "outputs": [
    {
     "data": {
      "text/html": [
       "<div>\n",
       "<style scoped>\n",
       "    .dataframe tbody tr th:only-of-type {\n",
       "        vertical-align: middle;\n",
       "    }\n",
       "\n",
       "    .dataframe tbody tr th {\n",
       "        vertical-align: top;\n",
       "    }\n",
       "\n",
       "    .dataframe thead th {\n",
       "        text-align: right;\n",
       "    }\n",
       "</style>\n",
       "<table border=\"1\" class=\"dataframe\">\n",
       "  <thead>\n",
       "    <tr style=\"text-align: right;\">\n",
       "      <th></th>\n",
       "      <th>endogenous</th>\n",
       "      <th>integrated</th>\n",
       "    </tr>\n",
       "  </thead>\n",
       "  <tbody>\n",
       "    <tr>\n",
       "      <th>endogenous</th>\n",
       "      <td>1.000000</td>\n",
       "      <td>0.662335</td>\n",
       "    </tr>\n",
       "    <tr>\n",
       "      <th>integrated</th>\n",
       "      <td>0.662335</td>\n",
       "      <td>1.000000</td>\n",
       "    </tr>\n",
       "  </tbody>\n",
       "</table>\n",
       "</div>"
      ],
      "text/plain": [
       "            endogenous  integrated\n",
       "endogenous    1.000000    0.662335\n",
       "integrated    0.662335    1.000000"
      ]
     },
     "execution_count": 15,
     "metadata": {},
     "output_type": "execute_result"
    }
   ],
   "source": [
    "combined_df [['endogenous', 'integrated']].corr(method=\"spearman\")"
   ]
  },
  {
   "cell_type": "code",
   "execution_count": 138,
   "id": "854e9189",
   "metadata": {},
   "outputs": [],
   "source": [
    "tscores = test_scores(model, test_set, 320)\n",
    "combined_df = pd.DataFrame([[test_set[i][0], float(test_set[i][1]), tscores[i]] for i in range(len(tscores))], columns=['seq', 'endogenous', 'integrated'] )"
   ]
  },
  {
   "cell_type": "code",
   "execution_count": 139,
   "id": "bf6500a5",
   "metadata": {},
   "outputs": [
    {
     "data": {
      "text/html": [
       "<div>\n",
       "<style scoped>\n",
       "    .dataframe tbody tr th:only-of-type {\n",
       "        vertical-align: middle;\n",
       "    }\n",
       "\n",
       "    .dataframe tbody tr th {\n",
       "        vertical-align: top;\n",
       "    }\n",
       "\n",
       "    .dataframe thead th {\n",
       "        text-align: right;\n",
       "    }\n",
       "</style>\n",
       "<table border=\"1\" class=\"dataframe\">\n",
       "  <thead>\n",
       "    <tr style=\"text-align: right;\">\n",
       "      <th></th>\n",
       "      <th>endogenous</th>\n",
       "      <th>integrated</th>\n",
       "    </tr>\n",
       "  </thead>\n",
       "  <tbody>\n",
       "    <tr>\n",
       "      <th>endogenous</th>\n",
       "      <td>1.000000</td>\n",
       "      <td>0.770316</td>\n",
       "    </tr>\n",
       "    <tr>\n",
       "      <th>integrated</th>\n",
       "      <td>0.770316</td>\n",
       "      <td>1.000000</td>\n",
       "    </tr>\n",
       "  </tbody>\n",
       "</table>\n",
       "</div>"
      ],
      "text/plain": [
       "            endogenous  integrated\n",
       "endogenous    1.000000    0.770316\n",
       "integrated    0.770316    1.000000"
      ]
     },
     "execution_count": 139,
     "metadata": {},
     "output_type": "execute_result"
    }
   ],
   "source": [
    "combined_df [['endogenous', 'integrated']].corr(method='spearman')"
   ]
  },
  {
   "cell_type": "code",
   "execution_count": null,
   "id": "e7b84399",
   "metadata": {},
   "outputs": [],
   "source": []
  }
 ],
 "metadata": {
  "kernelspec": {
   "display_name": "Python 3",
   "language": "python",
   "name": "python3"
  },
  "language_info": {
   "codemirror_mode": {
    "name": "ipython",
    "version": 3
   },
   "file_extension": ".py",
   "mimetype": "text/x-python",
   "name": "python",
   "nbconvert_exporter": "python",
   "pygments_lexer": "ipython3",
   "version": "3.8.8"
  }
 },
 "nbformat": 4,
 "nbformat_minor": 5
}
