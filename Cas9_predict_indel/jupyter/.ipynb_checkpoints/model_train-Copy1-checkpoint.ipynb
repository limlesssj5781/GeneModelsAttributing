{
 "cells": [
  {
   "cell_type": "code",
   "execution_count": 1,
   "id": "e4d47fe1",
   "metadata": {},
   "outputs": [
    {
     "data": {
      "text/plain": [
       "'C:\\\\ProgramData\\\\Anaconda3\\\\python.exe'"
      ]
     },
     "execution_count": 1,
     "metadata": {},
     "output_type": "execute_result"
    }
   ],
   "source": [
    "import sys\n",
    "sys.executable"
   ]
  },
  {
   "cell_type": "code",
   "execution_count": 1,
   "id": "99ee24cf",
   "metadata": {},
   "outputs": [],
   "source": [
    "import torch\n",
    "import torch.nn as nn\n",
    "import torch.nn.init as init\n",
    "from torch.utils.data import DataLoader, TensorDataset, Dataset\n",
    "from torch.autograd import Variable\n",
    "from torch.nn import functional as F\n",
    "from torch.utils.data.sampler import SubsetRandomSampler\n",
    "import numpy as np\n",
    "from collections import defaultdict\n"
   ]
  },
  {
   "cell_type": "markdown",
   "id": "7bc2f105",
   "metadata": {},
   "source": [
    "# Models"
   ]
  },
  {
   "cell_type": "code",
   "execution_count": 2,
   "id": "470ab244",
   "metadata": {},
   "outputs": [],
   "source": [
    "class BasicModule(nn.Module):\n",
    "    def __init__(self):\n",
    "        super(BasicModule, self).__init__()\n",
    "        self.model_name = str(type(self))\n",
    "\n",
    "    def load(self, path):\n",
    "        self.load_state_dict(torch.load(path))\n",
    "\n",
    "    def save(self, path):\n",
    "        torch.save(self.state_dict(), path)"
   ]
  },
  {
   "cell_type": "code",
   "execution_count": 27,
   "id": "a173381c",
   "metadata": {},
   "outputs": [],
   "source": [
    "class SimpleCNN(BasicModule):\n",
    "    def __init__(self,args):\n",
    "        super(SimpleCNN, self).__init__()\n",
    "        # output size of fc layers\n",
    "        out1 = args['fc1_out']\n",
    "        out2 = args['fc2_out']\n",
    "        out3 = args['fc3_out'] # output layer\n",
    "        self.params = args\n",
    "        self.k = args['k_max']\n",
    "        \n",
    "        # self.k = args['k'] # for k max pooling\n",
    "        self.kernel_num = args['kernel_num']\n",
    "        self.dropout = nn.Dropout(args['dropout'])\n",
    " \n",
    "        \n",
    "        # convolution layers\n",
    "        filter_sizes = [3, 5, 7, 9]\n",
    "        self.conv1 = nn.Conv2d(1, self.kernel_num[0], (3, 4), bias=True, padding=0)\n",
    "        self.conv2 = nn.Conv2d(1, self.kernel_num[1], (5, 4), bias=True, padding=0)\n",
    "        self.conv3 = nn.Conv2d(1, self.kernel_num[2], (7, 4), bias=True, padding=0)\n",
    "        self.conv4 = nn.Conv2d(1, self.kernel_num[3], (9, 4), bias=True, padding=0)\n",
    "#         self.conv5 = nn.Conv2d(1, self.kernel_num[4], (11, 4), bias=True, padding=0)\n",
    "\n",
    "        \n",
    "        # fc layers\n",
    "        self.fc1 = nn.Linear((sum([self.kernel_num[i] * (31-filter_sizes[i]) // 2 for i in range(len(filter_sizes))])), out1, bias=True)\n",
    "        self.fc2 = nn.Linear(out1, out2, bias=True)\n",
    "        self.fc3 = nn.Linear(out2, out3, bias=False)\n",
    "        \n",
    "\n",
    "    def _conv_and_pool(self, x, conv):\n",
    "        # x: (batch, 1, size, 4)\n",
    "        x = conv(x)\n",
    "        # x: (batch, kernel_num, H_out, 1)\n",
    "        x = F.relu(x)\n",
    "        # x: (batch, kernel_num, H_out)\n",
    "        x = F.max_pool2d(x, kernel_size=(2,1), stride=(2, 1))\n",
    "        x = x.view(x.size(0), x.size(1) * x.size(2))\n",
    "        #  (batch, kernel_num * k)\n",
    "        return x\n",
    "    \n",
    "    def setDropout(self, dropout):\n",
    "        self.dropout = nn.Dropout(dropout)\n",
    "\n",
    "    def forward(self, x):\n",
    "        # x: (batch, size)\n",
    "        # x: (batch, sentence_length, embed_dim)\n",
    "        x = x.view(x.size(0),1, 30, 4)\n",
    "        x1 = self._conv_and_pool(x, self.conv1)  # (batch, kernel_num * k)\n",
    "        x2 = self._conv_and_pool(x, self.conv2)  # (batch, kernel_num * k)\n",
    "        x3 = self._conv_and_pool(x, self.conv3)  # (batch, kernel_num * k)\n",
    "        x4 = self._conv_and_pool(x, self.conv4)  # (batch, kernel_num * k)\n",
    "#         x5 = self._conv_and_pool(x, self.conv5)  # (batch, kernel_num * k)\n",
    "\n",
    "        \n",
    "        x = torch.cat((x1, x2, x3, x4), 1)  # (batch, 4 * kernel_num * k)\n",
    "        x = self.dropout(x)\n",
    "        x = self.fc1(x)\n",
    "        x = F.relu(x)\n",
    "        x = self.dropout(x)\n",
    "        x = self.fc2(x)\n",
    "        x = F.relu(x)\n",
    "        x = self.dropout(x)\n",
    "#         x = \n",
    "#         logit = F.log_softmax(x, dim=1)\n",
    "        return self.fc3(x)"
   ]
  },
  {
   "cell_type": "code",
   "execution_count": 4,
   "id": "aac354b7",
   "metadata": {},
   "outputs": [],
   "source": [
    "class DNADataset(Dataset):\n",
    "    \n",
    "    def __init__(self, data, size):\n",
    "        super(DNADataset, self).__init__()\n",
    "        self.size = size\n",
    "        self.x = np.zeros((len(data),size, 4))\n",
    "        self.y = []\n",
    "\n",
    "        for I in range(len(data)):\n",
    "            self.y.append(data[I][1])\n",
    "            if type(data[0][0])==str:\n",
    "                for i in range(size):\n",
    "                    seq = data[I][0].lower()\n",
    "                    # one hot encoding\n",
    "                    pos = \"acgt\".find(seq[i])\n",
    "                    if pos >= 0:\n",
    "                        self.x[I][i][pos] = 1\n",
    "            else:\n",
    "                self.x[I] = data[I][0]\n",
    "        self.x = torch.DoubleTensor(self.x)\n",
    "\n",
    "        \n",
    "    def __len__(self):\n",
    "        return len(self.y)\n",
    "    \n",
    "    def __getitem__(self, index):\n",
    "        return self.x[index], self.y[index]\n",
    "        \n",
    "    # return a subset of dataset of given range\n",
    "    def get_subset(self, start, end):\n",
    "        \n",
    "        return DNADataset([(self.x[i],self.y[i]) for i in range(start, end)], self.size)"
   ]
  },
  {
   "cell_type": "code",
   "execution_count": 5,
   "id": "7c0737e6",
   "metadata": {},
   "outputs": [],
   "source": [
    "#\n",
    "def load_data(file):\n",
    "    data = []\n",
    "    with open(file,\"r\") as f:\n",
    "        for line in f:\n",
    "            line = line.split()\n",
    "            data.append((line[0], float(line[1])))\n",
    "    return data"
   ]
  },
  {
   "cell_type": "code",
   "execution_count": 6,
   "id": "30920e22",
   "metadata": {},
   "outputs": [],
   "source": [
    "#\n",
    "train_set = DNADataset(load_data(\"../dataset/train_txt\"),30)\n",
    "test_set = DNADataset(load_data(\"../dataset/test_txt\"),30)\n"
   ]
  },
  {
   "cell_type": "code",
   "execution_count": 88,
   "id": "6e393335",
   "metadata": {},
   "outputs": [],
   "source": [
    "def train(model, train_dataset, epochs, batch_size, cv=0.1, learning_rate=0.001, start = 0, end = 0):\n",
    "    subset = train_dataset.get_subset(start, end)\n",
    "    n_training_samples = len(subset) * (1-cv)\n",
    "    n_val_samples = len(subset) * cv\n",
    "    train_loader =torch.utils.data.DataLoader(subset, batch_size=batch_size,\n",
    "                                              sampler=SubsetRandomSampler(\n",
    "                                                  np.arange(n_training_samples, dtype=np.int64)\n",
    "                                              ),\n",
    "                                              num_workers=0)\n",
    "    val_loader =torch.utils.data.DataLoader(subset, batch_size=100,\n",
    "                                              sampler=SubsetRandomSampler(\n",
    "                                                  np.arange(n_training_samples, n_training_samples + n_val_samples, dtype=np.int64)\n",
    "                                              ), num_workers=0)\n",
    "    optimizer = torch.optim.Adam(model.parameters(), lr=learning_rate)\n",
    "    criterion = nn.MSELoss()\n",
    "    model.double()\n",
    "\n",
    "    print(\"Train %s samples.\"%n_training_samples)\n",
    "    \n",
    "    for e in range(epochs):\n",
    "        # train loss\n",
    "        epoch_train_loss = 0.0\n",
    "        model.setDropout(model.params['dropout'])\n",
    "        for inp, scores in train_loader:\n",
    "            inp = inp.unsqueeze(1)\n",
    "            inp = Variable(inp)\n",
    "            out = model(inp).view((-1))\n",
    "\n",
    "            scores = Variable(torch.DoubleTensor(scores))\n",
    "            loss = criterion(out, scores)\n",
    "            epoch_train_loss += loss\n",
    "            optimizer.zero_grad()\n",
    "            loss.backward()\n",
    "            optimizer.step()\n",
    "                \n",
    "        # validation loss\n",
    "#         epoch_val_loss = 0.0\n",
    "#         for inp, labels in val_loader:\n",
    "#             inp = inp.unsqueeze(1)\n",
    "#             out = model(inp)        \n",
    "#             loss = criterion(out, labels)\n",
    "#             epoch_val_loss += loss\n",
    "\n",
    "\n",
    "#         print(str(epoch_train_loss) + ' ')\n",
    "#         print(str(epoch_val_loss.tolist()) + '\\n')\n",
    "        model.setDropout(0.0)\n",
    "        print(e)\n",
    "        corr = pd.DataFrame([[endo[i][0], endo[i][1], endo_scores(endo_dataset)[i]] for i in range(len(endo))], columns=['seq', 'endogenous', 'integrated'])\\\n",
    "    [['endogenous', 'integrated']].corr(method='spearman')['endogenous']['integrated']\n",
    "        print(corr)\n",
    "        if corr >= 0.67:\n",
    "            print(\"Saving.\")\n",
    "            model.save(\"../model/cnn_3579_100-70-50-40_80-60_90_%s.model\"%(round(corr, 3)))"
   ]
  },
  {
   "cell_type": "markdown",
   "id": "6154119e",
   "metadata": {},
   "source": [
    "# Correlation"
   ]
  },
  {
   "cell_type": "code",
   "execution_count": 70,
   "id": "f08f57af",
   "metadata": {},
   "outputs": [],
   "source": [
    "import pandas as pd"
   ]
  },
  {
   "cell_type": "code",
   "execution_count": 71,
   "id": "1dde3f14",
   "metadata": {},
   "outputs": [],
   "source": [
    "endo = load_data(\"../dataset/table3\")\n",
    "\n"
   ]
  },
  {
   "cell_type": "code",
   "execution_count": 10,
   "id": "b11a3a54",
   "metadata": {},
   "outputs": [],
   "source": [
    "def endo_scores(dataset):\n",
    "    escores = []\n",
    "    for inp, scores in DataLoader(dataset, batch_size=100):\n",
    "        inp = inp.unsqueeze(1)\n",
    "        inp = Variable(inp)\n",
    "        out = model(inp).view((-1))\n",
    "        for v in out.detach().numpy():\n",
    "            escores.append(v)\n",
    "    return escores"
   ]
  },
  {
   "cell_type": "code",
   "execution_count": 11,
   "id": "60e308f9",
   "metadata": {},
   "outputs": [],
   "source": [
    "endo_dataset = DNADataset(endo,30)\n"
   ]
  },
  {
   "cell_type": "markdown",
   "id": "81cb2573",
   "metadata": {},
   "source": [
    "# Training\n"
   ]
  },
  {
   "cell_type": "code",
   "execution_count": 86,
   "id": "05c1a633",
   "metadata": {},
   "outputs": [
    {
     "name": "stdout",
     "output_type": "stream",
     "text": [
      "torch.Size([80, 3350])\n",
      "Train 12833.0 samples.\n",
      "0\n",
      "0.4920409126671912\n",
      "1\n",
      "0.5920125885129819\n",
      "2\n",
      "0.599741935483871\n",
      "3\n",
      "0.6084154209284028\n",
      "4\n",
      "0.6219166011014949\n",
      "5\n",
      "0.6208276947285601\n",
      "6\n",
      "0.6251518489378443\n",
      "7\n",
      "0.6359087332808812\n",
      "8\n",
      "0.643675845790716\n",
      "9\n",
      "0.6387977970102282\n",
      "10\n",
      "0.6567741935483871\n",
      "11\n",
      "0.6566168371361133\n",
      "12\n",
      "0.6575420928402832\n",
      "13\n",
      "0.6540613690007868\n",
      "14\n",
      "0.6473957513768686\n",
      "15\n",
      "0.6588009441384737\n",
      "16\n",
      "0.6598898505114084\n",
      "17\n",
      "0.6551376868607396\n",
      "18\n",
      "0.6529535798583792\n",
      "19\n",
      "0.6575420928402832\n"
     ]
    }
   ],
   "source": [
    "args = {\n",
    "    'kernel_num': [100, 70, 50, 40],\n",
    "    'dropout': 0.5,\n",
    "    'fc1_out': 80,\n",
    "    'fc2_out': 60,\n",
    "    'fc3_out': 1,\n",
    "    'input_max_length':30,\n",
    "    'k_max' : 1\n",
    "}\n",
    "model = SimpleCNN(args)\n",
    "\n",
    "print(model.fc1.weight.shape)\n",
    "train(model, train_set, 20, 90, cv=0.0, start=0, end=12833)"
   ]
  },
  {
   "cell_type": "code",
   "execution_count": 91,
   "id": "28495093",
   "metadata": {},
   "outputs": [
    {
     "name": "stdout",
     "output_type": "stream",
     "text": [
      "Train 12833.0 samples.\n",
      "0\n",
      "0.6571245588120783\n",
      "1\n",
      "0.6536815950937992\n",
      "2\n",
      "0.6529577544583292\n",
      "3\n",
      "0.655993705743509\n",
      "4\n",
      "0.6427986958345795\n",
      "5\n",
      "0.6435099512948954\n",
      "6\n",
      "0.6485076224054341\n",
      "7\n",
      "0.6447374425459478\n",
      "8\n",
      "0.651428247724249\n",
      "9\n",
      "0.6337034379570877\n"
     ]
    }
   ],
   "source": [
    "train(model, train_set, 10, 90, cv=0.0, start=0, end=12833)"
   ]
  },
  {
   "cell_type": "code",
   "execution_count": 450,
   "id": "30a4bc08",
   "metadata": {},
   "outputs": [],
   "source": [
    "escores = endo_scores(endo_dataset)"
   ]
  },
  {
   "cell_type": "code",
   "execution_count": 451,
   "id": "92ec0684",
   "metadata": {},
   "outputs": [],
   "source": [
    "combined_df = pd.DataFrame([[endo[i][0], endo[i][1], escores[i]] for i in range(len(endo))], columns=['seq', 'endogenous', 'integrated'] )"
   ]
  },
  {
   "cell_type": "code",
   "execution_count": 452,
   "id": "5fa23c7a",
   "metadata": {},
   "outputs": [
    {
     "data": {
      "text/html": [
       "<div>\n",
       "<style scoped>\n",
       "    .dataframe tbody tr th:only-of-type {\n",
       "        vertical-align: middle;\n",
       "    }\n",
       "\n",
       "    .dataframe tbody tr th {\n",
       "        vertical-align: top;\n",
       "    }\n",
       "\n",
       "    .dataframe thead th {\n",
       "        text-align: right;\n",
       "    }\n",
       "</style>\n",
       "<table border=\"1\" class=\"dataframe\">\n",
       "  <thead>\n",
       "    <tr style=\"text-align: right;\">\n",
       "      <th></th>\n",
       "      <th>endogenous</th>\n",
       "      <th>integrated</th>\n",
       "    </tr>\n",
       "  </thead>\n",
       "  <tbody>\n",
       "    <tr>\n",
       "      <th>endogenous</th>\n",
       "      <td>1.000000</td>\n",
       "      <td>0.421199</td>\n",
       "    </tr>\n",
       "    <tr>\n",
       "      <th>integrated</th>\n",
       "      <td>0.421199</td>\n",
       "      <td>1.000000</td>\n",
       "    </tr>\n",
       "  </tbody>\n",
       "</table>\n",
       "</div>"
      ],
      "text/plain": [
       "            endogenous  integrated\n",
       "endogenous    1.000000    0.421199\n",
       "integrated    0.421199    1.000000"
      ]
     },
     "execution_count": 452,
     "metadata": {},
     "output_type": "execute_result"
    }
   ],
   "source": [
    "combined_df[['endogenous', 'integrated']].corr(method='spearman')"
   ]
  },
  {
   "cell_type": "markdown",
   "id": "cc256531",
   "metadata": {},
   "source": [
    "## Test"
   ]
  },
  {
   "cell_type": "code",
   "execution_count": 45,
   "id": "12de5ef4",
   "metadata": {},
   "outputs": [],
   "source": [
    "#\n",
    "def test_scores(model, test_set, batch_size):\n",
    "    tscores = []\n",
    "    for inp, scores in DataLoader(test_set, batch_size=batch_size):\n",
    "        inp = inp.unsqueeze(1)\n",
    "        inp = Variable(inp)\n",
    "        out = model(inp).view((-1))\n",
    "        for v in out.detach().numpy():\n",
    "            tscores.append(v)\n",
    "    return tscores"
   ]
  },
  {
   "cell_type": "code",
   "execution_count": 46,
   "id": "c5fbfe88",
   "metadata": {},
   "outputs": [],
   "source": [
    "tscores = test_scores(model, test_set, 320)\n",
    "combined_df = pd.DataFrame([[test_set[i][0], test_set[i][1], tscores[i]] for i in range(len(tscores))], columns=['seq', 'endogenous', 'integrated'] )"
   ]
  },
  {
   "cell_type": "code",
   "execution_count": 48,
   "id": "11dd71f3",
   "metadata": {},
   "outputs": [
    {
     "data": {
      "text/html": [
       "<div>\n",
       "<style scoped>\n",
       "    .dataframe tbody tr th:only-of-type {\n",
       "        vertical-align: middle;\n",
       "    }\n",
       "\n",
       "    .dataframe tbody tr th {\n",
       "        vertical-align: top;\n",
       "    }\n",
       "\n",
       "    .dataframe thead th {\n",
       "        text-align: right;\n",
       "    }\n",
       "</style>\n",
       "<table border=\"1\" class=\"dataframe\">\n",
       "  <thead>\n",
       "    <tr style=\"text-align: right;\">\n",
       "      <th></th>\n",
       "      <th>endogenous</th>\n",
       "      <th>integrated</th>\n",
       "    </tr>\n",
       "  </thead>\n",
       "  <tbody>\n",
       "    <tr>\n",
       "      <th>endogenous</th>\n",
       "      <td>1.00000</td>\n",
       "      <td>0.77394</td>\n",
       "    </tr>\n",
       "    <tr>\n",
       "      <th>integrated</th>\n",
       "      <td>0.77394</td>\n",
       "      <td>1.00000</td>\n",
       "    </tr>\n",
       "  </tbody>\n",
       "</table>\n",
       "</div>"
      ],
      "text/plain": [
       "            endogenous  integrated\n",
       "endogenous     1.00000     0.77394\n",
       "integrated     0.77394     1.00000"
      ]
     },
     "execution_count": 48,
     "metadata": {},
     "output_type": "execute_result"
    }
   ],
   "source": [
    "combined_df [['endogenous', 'integrated']].corr(method='spearman')"
   ]
  },
  {
   "cell_type": "code",
   "execution_count": 89,
   "id": "854e9189",
   "metadata": {},
   "outputs": [],
   "source": [
    "tscores = test_scores(model, test_set, 320)\n",
    "combined_df = pd.DataFrame([[test_set[i][0], test_set[i][1], tscores[i]] for i in range(len(tscores))], columns=['seq', 'endogenous', 'integrated'] )"
   ]
  },
  {
   "cell_type": "code",
   "execution_count": 90,
   "id": "bf6500a5",
   "metadata": {},
   "outputs": [
    {
     "data": {
      "text/html": [
       "<div>\n",
       "<style scoped>\n",
       "    .dataframe tbody tr th:only-of-type {\n",
       "        vertical-align: middle;\n",
       "    }\n",
       "\n",
       "    .dataframe tbody tr th {\n",
       "        vertical-align: top;\n",
       "    }\n",
       "\n",
       "    .dataframe thead th {\n",
       "        text-align: right;\n",
       "    }\n",
       "</style>\n",
       "<table border=\"1\" class=\"dataframe\">\n",
       "  <thead>\n",
       "    <tr style=\"text-align: right;\">\n",
       "      <th></th>\n",
       "      <th>endogenous</th>\n",
       "      <th>integrated</th>\n",
       "    </tr>\n",
       "  </thead>\n",
       "  <tbody>\n",
       "    <tr>\n",
       "      <th>endogenous</th>\n",
       "      <td>1.000000</td>\n",
       "      <td>0.771179</td>\n",
       "    </tr>\n",
       "    <tr>\n",
       "      <th>integrated</th>\n",
       "      <td>0.771179</td>\n",
       "      <td>1.000000</td>\n",
       "    </tr>\n",
       "  </tbody>\n",
       "</table>\n",
       "</div>"
      ],
      "text/plain": [
       "            endogenous  integrated\n",
       "endogenous    1.000000    0.771179\n",
       "integrated    0.771179    1.000000"
      ]
     },
     "execution_count": 90,
     "metadata": {},
     "output_type": "execute_result"
    }
   ],
   "source": [
    "combined_df [['endogenous', 'integrated']].corr(method='spearman')"
   ]
  },
  {
   "cell_type": "code",
   "execution_count": null,
   "id": "e7b84399",
   "metadata": {},
   "outputs": [],
   "source": []
  }
 ],
 "metadata": {
  "kernelspec": {
   "display_name": "Python 3",
   "language": "python",
   "name": "python3"
  },
  "language_info": {
   "codemirror_mode": {
    "name": "ipython",
    "version": 3
   },
   "file_extension": ".py",
   "mimetype": "text/x-python",
   "name": "python",
   "nbconvert_exporter": "python",
   "pygments_lexer": "ipython3",
   "version": "3.8.8"
  }
 },
 "nbformat": 4,
 "nbformat_minor": 5
}
