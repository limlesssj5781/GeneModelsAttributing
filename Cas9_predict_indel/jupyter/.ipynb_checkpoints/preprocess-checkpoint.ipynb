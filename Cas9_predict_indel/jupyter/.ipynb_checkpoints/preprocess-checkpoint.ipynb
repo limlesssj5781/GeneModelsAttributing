{
 "cells": [
  {
   "cell_type": "code",
   "execution_count": 1,
   "id": "795a37e1",
   "metadata": {},
   "outputs": [],
   "source": [
    "import pandas as pd"
   ]
  },
  {
   "cell_type": "code",
   "execution_count": 7,
   "id": "65f83f14",
   "metadata": {},
   "outputs": [],
   "source": [
    "raw_exel = pd.read_excel(\"../dataset/aax9249_table_s1.xlsx\", sheet_name=[0,1])\n",
    "df_train = raw_exel[0]\n",
    "df_test = raw_exel[1]"
   ]
  },
  {
   "cell_type": "code",
   "execution_count": 34,
   "id": "9bb84ce9",
   "metadata": {},
   "outputs": [],
   "source": [
    "# write as text files\n",
    "write_train = open(\"../dataset/train_txt\", \"w\")\n",
    "write_test = open(\"../dataset/test_txt\", \"w\")"
   ]
  },
  {
   "cell_type": "code",
   "execution_count": 31,
   "id": "ad6693c0",
   "metadata": {},
   "outputs": [
    {
     "data": {
      "text/plain": [
       "'TTTGACACACACTCGTATG'"
      ]
     },
     "execution_count": 31,
     "metadata": {},
     "output_type": "execute_result"
    }
   ],
   "source": [
    "df_train.loc[1][0]"
   ]
  },
  {
   "cell_type": "code",
   "execution_count": 35,
   "id": "ef20bc54",
   "metadata": {},
   "outputs": [],
   "source": [
    "# \n",
    "len_train = len(df_train)\n",
    "len_test = len(df_test)\n",
    "#\n",
    "for i in range(len_train):\n",
    "    write_train.write(\"%s %s\\n\"%(df_train.loc[i][1], df_train.loc[i][7]))\n",
    "write_train.close()\n",
    "#\n",
    "for j in range(len_test):\n",
    "    write_test.write(\"%s %s\\n\"%(df_test.loc[j][0], df_test.loc[j][4]))\n",
    "write_test.close()"
   ]
  },
  {
   "cell_type": "code",
   "execution_count": 21,
   "id": "82ea190f",
   "metadata": {},
   "outputs": [
    {
     "data": {
      "text/plain": [
       "Target context sequence (4+20+3+3)                       AAACACAACCAATCCGAGGCCTTCTGGGTC\n",
       "Number of used (filtered ) barcodes                                                   4\n",
       "Total read count (average, Day 0)                                                1864.8\n",
       "Total read count (average, Day 2.9)                                              7944.8\n",
       "Background subtracted indel frequencies\\n(average, %)                         12.163189\n",
       "Name: 1, dtype: object"
      ]
     },
     "execution_count": 21,
     "metadata": {},
     "output_type": "execute_result"
    }
   ],
   "source": [
    "df_test.loc[1]"
   ]
  },
  {
   "cell_type": "code",
   "execution_count": null,
   "id": "a74b416c",
   "metadata": {},
   "outputs": [],
   "source": []
  }
 ],
 "metadata": {
  "kernelspec": {
   "display_name": "Python 3",
   "language": "python",
   "name": "python3"
  },
  "language_info": {
   "codemirror_mode": {
    "name": "ipython",
    "version": 3
   },
   "file_extension": ".py",
   "mimetype": "text/x-python",
   "name": "python",
   "nbconvert_exporter": "python",
   "pygments_lexer": "ipython3",
   "version": "3.8.10"
  }
 },
 "nbformat": 4,
 "nbformat_minor": 5
}
