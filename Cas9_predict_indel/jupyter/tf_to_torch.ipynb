{
 "cells": [
  {
   "cell_type": "code",
   "execution_count": 1,
   "id": "ef40dc95",
   "metadata": {},
   "outputs": [],
   "source": [
    "import tensorflow.compat.v1 as tf\n",
    "import numpy as np"
   ]
  },
  {
   "cell_type": "code",
   "execution_count": 12,
   "id": "7b715c85",
   "metadata": {},
   "outputs": [],
   "source": [
    "# tf.compat.v1.disable_eager_execution()\n",
    "# model = Seq_deepCpf1([3,5,7], [100, 70, 40], l_rate=0.001)\n"
   ]
  },
  {
   "cell_type": "code",
   "execution_count": 101,
   "id": "8212f29c",
   "metadata": {},
   "outputs": [
    {
     "name": "stdout",
     "output_type": "stream",
     "text": [
      "INFO:tensorflow:Restoring parameters from ../dataset/aax9249_supplementary_code/DeepSpCas9_weight/PreTrain-Final-False-3-5-7-100-70-40-0.001-550-True-80-60\n",
      "None\n"
     ]
    }
   ],
   "source": [
    "#TensorFlow config\n",
    "conf = tf.ConfigProto()\n",
    "tf.reset_default_graph()\n",
    "weights_dict = {}\n",
    "\n",
    "with tf.Session(config=conf) as sess:\n",
    "#     sess.run()\n",
    "\n",
    "    model = Seq_deepCpf1([3,5,7], [100, 70, 40], l_rate=0.001)\n",
    "    init = tf.global_variables_initializer()\n",
    "    saver = tf.train.Saver()\n",
    "#     saver = tf.train.import_meta_graph('../dataset/aax9249_supplementary_code/DeepSpCas9_weight/PreTrain-Final-False-3-5-7-100-70-40-0.001-550-True-80-60.meta')\n",
    "    sess.run(init)\n",
    "    print(saver.restore(sess, (\"../dataset/aax9249_supplementary_code/DeepSpCas9_weight/PreTrain-Final-False-3-5-7-100-70-40-0.001-550-True-80-60\")))\n",
    "#     print(sess.run(\"Output_Layer\"))\n",
    "#     sess.run(init)\n",
    "#     with tf.variable_scope(\"hidden_layer2\", reuse=True):\n",
    "    \n",
    "    for t in tf.trainable_variables():\n",
    "#         print(sess.run(tf.trainable_variables()[0]).shape)\n",
    "#         print(tf.trainable_variables()[0].name)\n",
    "        weights_dict[t.name] = sess.run(t)"
   ]
  },
  {
   "cell_type": "code",
   "execution_count": 108,
   "id": "e77d69fb",
   "metadata": {},
   "outputs": [
    {
     "data": {
      "text/plain": [
       "(2790, 80)"
      ]
     },
     "execution_count": 108,
     "metadata": {},
     "output_type": "execute_result"
    }
   ],
   "source": [
    "weights_dict['Fully_Connected_Layer1/W_fcl1:0'].shape"
   ]
  },
  {
   "cell_type": "code",
   "execution_count": 69,
   "id": "5504cbab",
   "metadata": {},
   "outputs": [],
   "source": [
    "import torch\n",
    "import torch.nn as nn\n",
    "import torch.nn.init as init\n",
    "from torch.utils.data import DataLoader, TensorDataset, Dataset\n",
    "from torch.autograd import Variable\n",
    "from torch.nn import functional as F\n",
    "from torch.utils.data.sampler import SubsetRandomSampler\n",
    "import numpy as np\n",
    "from collections import defaultdict"
   ]
  },
  {
   "cell_type": "code",
   "execution_count": 156,
   "id": "62bc70a3",
   "metadata": {},
   "outputs": [],
   "source": [
    "args = {\n",
    "    'kernel_num': [100, 70, 40],\n",
    "    'dropout': 0.0,\n",
    "    'fc1_out': 80,\n",
    "    'fc2_out': 60,\n",
    "    'fc3_out': 1,\n",
    "    'input_max_length':30,\n",
    "    'k_max' : 1\n",
    "}\n",
    "model = SimpleCNN(args)"
   ]
  },
  {
   "cell_type": "code",
   "execution_count": 157,
   "id": "3d52a87d",
   "metadata": {},
   "outputs": [
    {
     "name": "stdout",
     "output_type": "stream",
     "text": [
      "torch.Size([1, 100, 28, 1])\n",
      "torch.Size([1, 100, 14, 1])\n",
      "torch.Size([1, 70, 26, 1])\n",
      "torch.Size([1, 70, 13, 1])\n",
      "torch.Size([1, 40, 24, 1])\n",
      "torch.Size([1, 40, 12, 1])\n"
     ]
    },
    {
     "data": {
      "text/plain": [
       "tensor([[0.0148]], grad_fn=<MmBackward>)"
      ]
     },
     "execution_count": 157,
     "metadata": {},
     "output_type": "execute_result"
    }
   ],
   "source": [
    "model.float()\n",
    "model(train_set[3][0].view(1,30,4))"
   ]
  },
  {
   "cell_type": "code",
   "execution_count": 158,
   "id": "521ed82e",
   "metadata": {},
   "outputs": [
    {
     "data": {
      "text/plain": [
       "torch.Size([80, 2790])"
      ]
     },
     "execution_count": 158,
     "metadata": {},
     "output_type": "execute_result"
    }
   ],
   "source": [
    "model.fc1.weight.shape"
   ]
  },
  {
   "cell_type": "code",
   "execution_count": 104,
   "id": "ae3d5c22",
   "metadata": {},
   "outputs": [],
   "source": [
    "model.conv1.weight = nn.Parameter(torch.FloatTensor( reshape_first_to_last(weights_dict['conv1_W:0'])), requires_grad=True)\n",
    "model.conv1.bias = nn.Parameter(torch.FloatTensor(weights_dict['conv1_b:0']), requires_grad=True)\n",
    "model.conv2.weight = nn.Parameter(torch.FloatTensor(reshape_first_to_last(weights_dict['conv2_W:0'])), requires_grad=True)\n",
    "model.conv2.bias = nn.Parameter(torch.FloatTensor(weights_dict['conv2_b:0']), requires_grad=True)\n",
    "model.conv3.weight = nn.Parameter(torch.FloatTensor(reshape_first_to_last(weights_dict['conv3_W:0'])), requires_grad=True)\n",
    "model.conv3.bias = nn.Parameter(torch.FloatTensor(weights_dict['conv3_b:0']), requires_grad=True)"
   ]
  },
  {
   "cell_type": "code",
   "execution_count": 105,
   "id": "89d45ec4",
   "metadata": {},
   "outputs": [],
   "source": [
    "model.fc1.weight = nn.Parameter(torch.FloatTensor(weights_dict['Fully_Connected_Layer1/W_fcl1:0']), requires_grad=True)\n",
    "model.fc1.bias = nn.Parameter(torch.FloatTensor(weights_dict['Fully_Connected_Layer1/B_fcl1:0']), requires_grad=True)\n",
    "model.fc2.weight = nn.Parameter(torch.FloatTensor(weights_dict['Fully_Connected_Layer2/W_fcl2:0']), requires_grad=True)\n",
    "model.fc2.bias = nn.Parameter(torch.FloatTensor(weights_dict['Fully_Connected_Layer2/B_fcl2:0']), requires_grad=True)\n",
    "model.fc3.weight = nn.Parameter(torch.FloatTensor(weights_dict['Output_Layer/W_out:0']), requires_grad=True)\n"
   ]
  },
  {
   "cell_type": "code",
   "execution_count": 106,
   "id": "b9fa864f",
   "metadata": {},
   "outputs": [
    {
     "data": {
      "text/plain": [
       "torch.Size([2790, 80])"
      ]
     },
     "execution_count": 106,
     "metadata": {},
     "output_type": "execute_result"
    }
   ],
   "source": [
    "model.fc1.weight.shape"
   ]
  },
  {
   "cell_type": "code",
   "execution_count": 97,
   "id": "294fa5f8",
   "metadata": {},
   "outputs": [],
   "source": [
    "def reshape_first_to_last(arr):\n",
    "    shape = arr.shape\n",
    "    rt = np.zeros((shape[3], shape[1], shape[2], shape[0]))\n",
    "    for i0 in range(shape[3]):\n",
    "        for i1 in range(shape[1]):\n",
    "            for i2 in range(shape[2]):\n",
    "                for i3 in range(shape[0]):\n",
    "                    rt[i0][i1][i2][i3] = arr[i3][i1][i2][i0]\n",
    "    return rt"
   ]
  },
  {
   "cell_type": "code",
   "execution_count": 99,
   "id": "134e0962",
   "metadata": {},
   "outputs": [
    {
     "data": {
      "text/plain": [
       "torch.Size([100, 3, 4, 1])"
      ]
     },
     "execution_count": 99,
     "metadata": {},
     "output_type": "execute_result"
    }
   ],
   "source": [
    "model.conv1.weight.shape"
   ]
  },
  {
   "cell_type": "code",
   "execution_count": 155,
   "id": "8127adb3",
   "metadata": {},
   "outputs": [],
   "source": [
    "class BasicModule(nn.Module):\n",
    "    def __init__(self):\n",
    "        super(BasicModule, self).__init__()\n",
    "        self.model_name = str(type(self))\n",
    "\n",
    "    def load(self, path):\n",
    "        self.load_state_dict(torch.load(path))\n",
    "\n",
    "    def save(self, path):\n",
    "        torch.save(self.state_dict(), path)\n",
    "        \n",
    "\n",
    "class SimpleCNN(BasicModule):\n",
    "    def __init__(self,args):\n",
    "        super(SimpleCNN, self).__init__()\n",
    "        # output size of fc layers\n",
    "        out1 = args['fc1_out']\n",
    "        out2 = args['fc2_out']\n",
    "        out3 = args['fc3_out'] # output layer\n",
    "        self.params = args\n",
    "        self.k = args['k_max']\n",
    "        \n",
    "        # self.k = args['k'] # for k max pooling\n",
    "        self.kernel_num = args['kernel_num']\n",
    "        self.dropout = nn.Dropout(args['dropout'])\n",
    " \n",
    "        \n",
    "        # convolution layers\n",
    "        filter_sizes = [3, 5, 7]\n",
    "        self.conv1 = nn.Conv2d(1, self.kernel_num[0], (3, 4), bias=True, padding=0)\n",
    "        self.conv2 = nn.Conv2d(1, self.kernel_num[1], (5, 4), bias=True, padding=0)\n",
    "        self.conv3 = nn.Conv2d(1, self.kernel_num[2], (7, 4), bias=True, padding=0)\n",
    "#         self.conv4 = nn.Conv2d(1, self.kernel_num[3], (9, 4), bias=True)\n",
    "#         self.conv5 = nn.Conv2d(1, 100, (11, 4), bias=True)\n",
    "        \n",
    "        # fc layers\n",
    "        self.fc1 = nn.Linear((sum([self.kernel_num[i] * (31-filter_sizes[i]) // 2 for i in range(len(filter_sizes))]))*self.k, out1, bias=True)\n",
    "        self.fc2 = nn.Linear(out1, out2, bias=True)\n",
    "        self.fc3 = nn.Linear(out2, out3, bias=False)\n",
    "        \n",
    "\n",
    "    def _conv_and_pool(self, x, conv):\n",
    "        # x: (batch, 1, size, 4)\n",
    "        x = conv(x)\n",
    "        # x: (batch, kernel_num, H_out, 1)\n",
    "        print(x.shape)\n",
    "        x = F.relu(x)\n",
    "        \n",
    "        # x: (batch, kernel_num, H_out)\n",
    "        x = F.max_pool2d(x, kernel_size=(2,1), stride=(2, 1))\n",
    "#         x = self.kmax_pooling(x, 2, k=self.k)\n",
    "        print(x.shape)\n",
    "        x = x.view(x.size(0), x.size(1) * x.size(2))\n",
    "        #  (batch, kernel_num * k)\n",
    "        return x\n",
    "    \n",
    "    def setDropout(self, dropout):\n",
    "        self.dropout = nn.Dropout(dropout)\n",
    "\n",
    "\n",
    "    def forward(self, x):\n",
    "        # x: (batch, size)\n",
    "        # x: (batch, sentence_length, embed_dim)\n",
    "        x = x.view(x.size(0),1, 30, 4)\n",
    "        x1 = self._conv_and_pool(x, self.conv1)  # (batch, kernel_num * k)\n",
    "       \n",
    "        x2 = self._conv_and_pool(x, self.conv2)  # (batch, kernel_num * k)\n",
    "        x3 = self._conv_and_pool(x, self.conv3)  # (batch, kernel_num * k)\n",
    "#         x4 = self._conv_and_pool(x, self.conv4)  # (batch, kernel_num * k)\n",
    "#         x5 = self._conv_and_pool(x, self.conv5)  # (batch, kernel_num * k)\n",
    "\n",
    "        \n",
    "        x = torch.cat((x1, x2, x3), 1)  # (batch, 4 * kernel_num * k)\n",
    "        x = self.dropout(x)\n",
    "        x = self.fc1(x)\n",
    "        x = F.relu(x)\n",
    "        x = self.dropout(x)\n",
    "        x = self.fc2(x)\n",
    "        x = F.relu(x)\n",
    "        x = self.dropout(x)\n",
    "#         x = \n",
    "#         logit = F.log_softmax(x, dim=1)\n",
    "        return self.fc3(x)\n",
    "    \n",
    "    def kmax_pooling(self, x, dim, k):\n",
    "        index = x.topk(k, dim = dim)[1].sort(dim = dim)[0]\n",
    "        return x.gather(dim, index)"
   ]
  },
  {
   "cell_type": "code",
   "execution_count": 117,
   "id": "7584e1f1",
   "metadata": {},
   "outputs": [],
   "source": [
    "class DNADataset(Dataset):\n",
    "    \n",
    "    def __init__(self, data, size):\n",
    "        super(DNADataset, self).__init__()\n",
    "        self.size = size\n",
    "        self.x = np.zeros((len(data),size, 4))\n",
    "        self.y = []\n",
    "\n",
    "        for I in range(len(data)):\n",
    "            self.y.append(data[I][1])\n",
    "            if type(data[0][0])==str:\n",
    "                for i in range(size):\n",
    "                    seq = data[I][0].lower()\n",
    "                    # one hot encoding\n",
    "                    pos = \"acgt\".find(seq[i])\n",
    "                    if pos >= 0:\n",
    "                        self.x[I][i][pos] = 1\n",
    "            else:\n",
    "                self.x[I] = data[I][0]\n",
    "        self.x = torch.FloatTensor(self.x)\n",
    "        self.y = torch.FloatTensor(self.y)\n",
    "        \n",
    "    def __len__(self):\n",
    "        return len(self.y)\n",
    "    \n",
    "    def __getitem__(self, index):\n",
    "        return self.x[index], self.y[index]\n",
    "        \n",
    "    # return a subset of dataset of given range\n",
    "    def get_subset(self, start, end):\n",
    "        \n",
    "        return DNADataset([(self.x[i],self.y[i]) for i in range(start, end)], self.size)\n",
    "    \n",
    "#\n",
    "def load_data(file):\n",
    "    data = []\n",
    "    with open(file,\"r\") as f:\n",
    "        for line in f:\n",
    "            line = line.split()\n",
    "            data.append((line[0], float(line[1])))\n",
    "    return data"
   ]
  },
  {
   "cell_type": "code",
   "execution_count": 121,
   "id": "5ace2184",
   "metadata": {},
   "outputs": [],
   "source": [
    "#\n",
    "train_set = DNADataset(load_data(\"../dataset/train_txt\"),30)\n",
    "test_set = DNADataset(load_data(\"../dataset/test_txt\"),30)"
   ]
  },
  {
   "cell_type": "code",
   "execution_count": 3,
   "id": "fb43afce",
   "metadata": {},
   "outputs": [],
   "source": [
    "# Model\n",
    "length = 30\n",
    "\n",
    "class Seq_deepCpf1(object):\n",
    "    def __init__(self, filter_size, filter_num, node_1 = 80, node_2 = 40, l_rate = 0.005):\n",
    "        self.inputs = tf.placeholder(tf.float32, [None, 1, length, 4])\n",
    "        self.targets = tf.placeholder(tf.float32, [None, 1])\n",
    "        self.is_training = tf.placeholder(tf.bool)\n",
    "        def create_new_conv_layer(input_data, num_input_channels, num_filters, filter_shape, pool_shape, name):\n",
    "            # setup the filter input shape for tf.nn.conv_2d\n",
    "            conv_filt_shape = [filter_shape[0], filter_shape[1], num_input_channels,\n",
    "                              num_filters]\n",
    "\n",
    "            # initialise weights and bias for the filter\n",
    "            weights = tf.Variable(tf.truncated_normal(conv_filt_shape, stddev=0.03),\n",
    "                                              name=name+'_W')\n",
    "            bias = tf.Variable(tf.truncated_normal([num_filters]), name=name+'_b')\n",
    "\n",
    "            # setup the convolutional layer operation\n",
    "            out_layer = tf.nn.conv2d(input_data, weights, [1, 1, 1, 1], padding='VALID')\n",
    "\n",
    "            # add the bias\n",
    "            out_layer += bias\n",
    "\n",
    "            # apply a ReLU non-linear activation\n",
    "            out_layer = tf.layers.dropout(tf.nn.relu(out_layer), 0.3, self.is_training)\n",
    "\n",
    "            # now perform max pooling\n",
    "            ksize = [1, pool_shape[0], pool_shape[1], 1]\n",
    "            strides = [1, 1, 2, 1]\n",
    "            out_layer = tf.nn.avg_pool(out_layer, ksize=ksize, strides=strides, \n",
    "                                       padding='SAME')\n",
    "            return out_layer\n",
    "\n",
    "        L_pool_0 = create_new_conv_layer(self.inputs, 4, filter_num[0], [1, filter_size[0]], [1, 2], name='conv1')\n",
    "        L_pool_1 = create_new_conv_layer(self.inputs, 4, filter_num[1], [1, filter_size[1]], [1, 2], name='conv2')\n",
    "        L_pool_2 = create_new_conv_layer(self.inputs, 4, filter_num[2], [1, filter_size[2]], [1, 2], name='conv3')\n",
    "        with tf.variable_scope('Fully_Connected_Layer1'):\n",
    "            layer_node_0 = int((length-filter_size[0])/2)+1\n",
    "            node_num_0 = layer_node_0*filter_num[0]\n",
    "            layer_node_1 = int((length-filter_size[1])/2)+1\n",
    "            node_num_1 = layer_node_1*filter_num[1]\n",
    "            layer_node_2 = int((length-filter_size[2])/2)+1\n",
    "            node_num_2 = layer_node_2*filter_num[2]\n",
    "            L_flatten_0 = tf.reshape(L_pool_0, [-1, node_num_0])\n",
    "            L_flatten_1 = tf.reshape(L_pool_1, [-1, node_num_1])\n",
    "            L_flatten_2 = tf.reshape(L_pool_2, [-1, node_num_2])\n",
    "            L_flatten = tf.concat([L_flatten_0, L_flatten_1, L_flatten_2], 1, name='concat')\n",
    "            node_num = node_num_0 + node_num_1 + node_num_2\n",
    "            W_fcl1 = tf.get_variable(\"W_fcl1\", shape=[node_num, node_1])\n",
    "            B_fcl1 = tf.get_variable(\"B_fcl1\", shape=[node_1])\n",
    "            L_fcl1_pre = tf.nn.bias_add(tf.matmul(L_flatten, W_fcl1), B_fcl1)\n",
    "            L_fcl1 = tf.nn.relu(L_fcl1_pre)\n",
    "            L_fcl1_drop = tf.layers.dropout(L_fcl1, 0.3, self.is_training)\n",
    "\n",
    "        with tf.variable_scope('Fully_Connected_Layer2'):\n",
    "            W_fcl2 = tf.get_variable(\"W_fcl2\", shape=[node_1, node_2])\n",
    "            B_fcl2 = tf.get_variable(\"B_fcl2\", shape=[node_2])\n",
    "            L_fcl2_pre = tf.nn.bias_add(tf.matmul(L_fcl1_drop, W_fcl2), B_fcl2)\n",
    "            L_fcl2 = tf.nn.relu(L_fcl2_pre)\n",
    "            L_fcl2_drop = tf.layers.dropout(L_fcl2, 0.3, self.is_training)\n",
    "            \n",
    "        with tf.variable_scope('Output_Layer'):\n",
    "            W_out = tf.get_variable(\"W_out\", shape=[node_2, 1])#, initializer=tf.contrib.layers.xavier_initializer())\n",
    "            B_out = tf.get_variable(\"B_out\", shape=[1])#, initializer=tf.contrib.layers.xavier_initializer())\n",
    "            self.outputs = tf.nn.bias_add(tf.matmul(L_fcl2_drop, W_out), B_out)\n",
    "\n",
    "        # Define loss function and optimizer\n",
    "        self.obj_loss =  tf.reduce_mean(tf.square(self.targets - self.outputs))\n",
    "        self.optimizer = tf.train.AdamOptimizer(l_rate).minimize(self.obj_loss)  \n",
    "\n",
    "# def Model_Finaltest(sess, TEST_X, filter_size, filter_num, if3d, model, args, load_episode, best_model_path):\n",
    "#     test_batch = 500\n",
    "#     test_spearman = 0.0\n",
    "#     optimizer = model.optimizer\n",
    "#     TEST_Z = np.zeros((TEST_X.shape[0], 1), dtype=float)\n",
    "    \n",
    "#     for i in range(int(np.ceil(float(TEST_X.shape[0])/float(test_batch)))):\n",
    "#         Dict = {model.inputs: TEST_X[i*test_batch:(i+1)*test_batch], model.is_training: False}\n",
    "#         TEST_Z[i*test_batch:(i+1)*test_batch] = sess.run([model.outputs], feed_dict=Dict)[0]\n",
    "    \n",
    "#     OUT = open(\"RANK_final_{}.txt\".format(best_model_path.split('/')[1]), \"a\")\n",
    "#     OUT.write(\"Testing final \\n {} \".format(tuple(TEST_Z.reshape([np.shape(TEST_Z)[0]]))))\n",
    "#     OUT.write(\"\\n\")\n",
    "#     OUT.close()\n",
    "    \n",
    "#     return\n",
    "\n",
    "# def preprocess_seq(data):\n",
    "#     print(\"Start preprocessing the sequence done 2d\")\n",
    "#     length = len(data[0])\n",
    "#     DATA_X = np.zeros((len(data),1,length,4), dtype=int)\n",
    "#     print(np.shape(data), len(data), length)\n",
    "#     for l in range(len(data)):\n",
    "#         for i in range(length):\n",
    "#             try: data[l][i]\n",
    "#             except: print(data[l], i, length, len(data))\n",
    "#             if data[l][i]in \"Aa\":\n",
    "#                 DATA_X[l, 0, i, 0] = 1\n",
    "#             elif data[l][i] in \"Cc\":\n",
    "#                 DATA_X[l, 0, i, 1] = 1\n",
    "#             elif data[l][i] in \"Gg\":\n",
    "#                 DATA_X[l, 0, i, 2] = 1\n",
    "#             elif data[l][i] in \"Tt\":\n",
    "#                 DATA_X[l, 0, i, 3] = 1\n",
    "#             else:\n",
    "#                 print \"Non-ATGC character \" + data[i]\n",
    "#                 sys.exit()\n",
    "#     print(\"Preprocessing the sequence done\")\n",
    "#     return DATA_X\n",
    "    \n",
    "# def getseq(filenum):\n",
    "#     param = parameters['%s'%filenum]\n",
    "#     FILE = open(path+param[0], \"r\")\n",
    "#     data = FILE.readlines()\n",
    "#     data_n = len(data) - 1\n",
    "#     seq = []\n",
    "#     #CA = np.zeros((data_n, 1), dtype=int)\n",
    "#     for l in range(1, data_n+1):\n",
    "#         data_split = data[l].split()\n",
    "#         seq.append(data_split[1])\n",
    "#         #CA[l-1,0] = int(data_split[2])*100\n",
    "#     FILE.close()\n",
    "\n",
    "#     processed_full_seq = preprocess_seq(seq)\n",
    "#     return processed_full_seq, seq\n",
    "    \n",
    "# #TensorFlow config\n",
    "# conf = tf.ConfigProto()\n",
    "# conf.gpu_options.allow_growth = True\n",
    "# os.environ['CUDA_VISIBLE_DEVICES'] = '0'\n",
    "\n",
    "# best_model_cv = 0.0\n",
    "# best_model_list = []\n",
    "# for best_model_path in best_model_path_list:\n",
    "#     for modelname in os.listdir(best_model_path):\n",
    "#         if \"meta\" in modelname:\n",
    "#             best_model_list.append(modelname[:-5])\n",
    "        \n",
    "# TEST_X = []\n",
    "# TEST_X_nohot = []\n",
    "# for TEST_NUM in TEST_NUM_SET:\n",
    "#     tmp_X, tmp_X_nohot = getseq(TEST_NUM)\n",
    "#     TEST_X.append(tmp_X)\n",
    "#     TEST_X_nohot.append(tmp_X_nohot)\n",
    "\n",
    "# for index in range(len(best_model_list)):\n",
    "#     best_model_path = best_model_path_list[index]\n",
    "#     best_model = best_model_list[index]\n",
    "#     valuelist = best_model.split('-')\n",
    "#     fulllist = []\n",
    "    \n",
    "#     for value in valuelist:\n",
    "#         if value == 'True':\n",
    "#             value=True\n",
    "#         elif value == 'False':\n",
    "#             value=False\n",
    "#         else:\n",
    "#             try:\n",
    "#                 value=int(value)\n",
    "#             except:\n",
    "#                 try:value=float(value)\n",
    "#                 except: pass\n",
    "#         fulllist.append(value)\n",
    "    \n",
    "#     print(fulllist[2:])\n",
    "    \n",
    "#     if fulllist[2:][-3] is True:\n",
    "#         if3d, filter_size_1, filter_size_2, filter_size_3, filter_num_1, filter_num_2, filter_num_3, l_rate, load_episode, inception, node_1, node_2 = fulllist[2:]\n",
    "#         filter_size = [filter_size_1, filter_size_2, filter_size_3]\n",
    "#         filter_num  = [filter_num_1, filter_num_2, filter_num_3]\n",
    "#     else:\n",
    "#         if3d, filter_size, filter_num, l_rate, load_episode, inception, node_1, node_2 = fulllist[2:]\n",
    "#     args = [filter_size, filter_num, l_rate, load_episode]\n",
    "#     tf.reset_default_graph()\n",
    "#     with tf.Session(config=conf) as sess:\n",
    "#         sess.run(tf.global_variables_initializer())\n",
    "#         model = Seq_deepCpf1(filter_size, filter_num, node_1, node_2, args[2])\n",
    "        \n",
    "#         saver = tf.train.Saver()\n",
    "#         saver.restore(sess, best_model_path + best_model)\n",
    "        \n",
    "#         OUT = open(\"RANK_final_{}.txt\".format(best_model_path.split('/')[1]), \"a\")\n",
    "#         OUT.write(\"{}\".format(best_model))\n",
    "#         OUT.write(\"\\n\")\n",
    "#         OUT.close()\n",
    "        \n",
    "#         TEST_Y = []\n",
    "        \n",
    "#         for i in range(len(TEST_NUM_SET)):\n",
    "#             print (\"TEST_NUM : {}\".format(TEST_NUM_SET[i]))\n",
    "            \n",
    "#             OUT = open(\"RANK_final_{}.txt\".format(best_model_path.split('/')[1]), \"a\")\n",
    "#             OUT.write(\"\\n\")\n",
    "#             OUT.write(\"TEST_FILE : {}\".format(parameters['{}'.format(TEST_NUM_SET[i])]))\n",
    "#             OUT.write(\"\\n\")\n",
    "#             OUT.close()\n",
    "#             Model_Finaltest(sess, TEST_X[i], filter_size, filter_num, if3d, model, args, load_episode, best_model_path)\n",
    "\n",
    "#         OUT = open(\"RANK_final_{}.txt\".format(best_model_path.split('/')[1]), \"a\")\n",
    "#         OUT.write(\"\\n\")\n",
    "#         OUT.close()"
   ]
  },
  {
   "cell_type": "code",
   "execution_count": null,
   "id": "bab2d549",
   "metadata": {},
   "outputs": [],
   "source": []
  }
 ],
 "metadata": {
  "kernelspec": {
   "display_name": "Python 3",
   "language": "python",
   "name": "python3"
  },
  "language_info": {
   "codemirror_mode": {
    "name": "ipython",
    "version": 3
   },
   "file_extension": ".py",
   "mimetype": "text/x-python",
   "name": "python",
   "nbconvert_exporter": "python",
   "pygments_lexer": "ipython3",
   "version": "3.8.8"
  }
 },
 "nbformat": 4,
 "nbformat_minor": 5
}
