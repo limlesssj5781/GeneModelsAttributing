{
 "cells": [
  {
   "cell_type": "code",
   "execution_count": 1,
   "id": "795a37e1",
   "metadata": {},
   "outputs": [],
   "source": [
    "import pandas as pd"
   ]
  },
  {
   "cell_type": "markdown",
   "id": "bd9d06f9",
   "metadata": {},
   "source": [
    "## Process exel 1"
   ]
  },
  {
   "cell_type": "code",
   "execution_count": 7,
   "id": "65f83f14",
   "metadata": {},
   "outputs": [],
   "source": [
    "raw_exel = pd.read_excel(\"../dataset/aax9249_table_s1.xlsx\", sheet_name=[0,1])\n",
    "df_train = raw_exel[0]\n",
    "df_test = raw_exel[1]"
   ]
  },
  {
   "cell_type": "code",
   "execution_count": 34,
   "id": "9bb84ce9",
   "metadata": {},
   "outputs": [],
   "source": [
    "# write as text files\n",
    "write_train = open(\"../dataset/train_txt\", \"w\")\n",
    "write_test = open(\"../dataset/test_txt\", \"w\")"
   ]
  },
  {
   "cell_type": "code",
   "execution_count": 1,
   "id": "ad6693c0",
   "metadata": {},
   "outputs": [
    {
     "data": {
      "text/plain": [
       "1"
      ]
     },
     "execution_count": 1,
     "metadata": {},
     "output_type": "execute_result"
    }
   ],
   "source": [
    "\"sd\".find(\"d\")"
   ]
  },
  {
   "cell_type": "code",
   "execution_count": 35,
   "id": "ef20bc54",
   "metadata": {},
   "outputs": [],
   "source": [
    "# \n",
    "len_train = len(df_train)\n",
    "len_test = len(df_test)\n",
    "#\n",
    "for i in range(len_train):\n",
    "    write_train.write(\"%s %s\\n\"%(df_train.loc[i][1], df_train.loc[i][7]))\n",
    "write_train.close()\n",
    "#\n",
    "for j in range(len_test):\n",
    "    write_test.write(\"%s %s\\n\"%(df_test.loc[j][0], df_test.loc[j][4]))\n",
    "write_test.close()"
   ]
  },
  {
   "cell_type": "code",
   "execution_count": 21,
   "id": "82ea190f",
   "metadata": {},
   "outputs": [
    {
     "data": {
      "text/plain": [
       "Target context sequence (4+20+3+3)                       AAACACAACCAATCCGAGGCCTTCTGGGTC\n",
       "Number of used (filtered ) barcodes                                                   4\n",
       "Total read count (average, Day 0)                                                1864.8\n",
       "Total read count (average, Day 2.9)                                              7944.8\n",
       "Background subtracted indel frequencies\\n(average, %)                         12.163189\n",
       "Name: 1, dtype: object"
      ]
     },
     "execution_count": 21,
     "metadata": {},
     "output_type": "execute_result"
    }
   ],
   "source": [
    "df_test.loc[1]"
   ]
  },
  {
   "cell_type": "markdown",
   "id": "b35303ba",
   "metadata": {},
   "source": [
    "## Process exel 3"
   ]
  },
  {
   "cell_type": "code",
   "execution_count": 2,
   "id": "d8b4fd76",
   "metadata": {},
   "outputs": [
    {
     "data": {
      "text/html": [
       "<div>\n",
       "<style scoped>\n",
       "    .dataframe tbody tr th:only-of-type {\n",
       "        vertical-align: middle;\n",
       "    }\n",
       "\n",
       "    .dataframe tbody tr th {\n",
       "        vertical-align: top;\n",
       "    }\n",
       "\n",
       "    .dataframe thead th {\n",
       "        text-align: right;\n",
       "    }\n",
       "</style>\n",
       "<table border=\"1\" class=\"dataframe\">\n",
       "  <thead>\n",
       "    <tr style=\"text-align: right;\">\n",
       "      <th></th>\n",
       "      <th>30 bp target sequence (4 bp + 20 bp Protospacer + PAM + 3 bp)</th>\n",
       "      <th>Averge indel frequency (%)</th>\n",
       "      <th>Chromatin accessibility (1= DNase I hypersensitive sites, 0 = Dnase I non-sensitive sites)</th>\n",
       "    </tr>\n",
       "  </thead>\n",
       "  <tbody>\n",
       "    <tr>\n",
       "      <th>0</th>\n",
       "      <td>GCGGTGGCTTCAGAGTTGCCGAAGTGGGCG</td>\n",
       "      <td>74.883051</td>\n",
       "      <td>1</td>\n",
       "    </tr>\n",
       "    <tr>\n",
       "      <th>1</th>\n",
       "      <td>GGGGGAAAGAGGAAATGTGGACGAAGGCAG</td>\n",
       "      <td>72.941135</td>\n",
       "      <td>1</td>\n",
       "    </tr>\n",
       "    <tr>\n",
       "      <th>2</th>\n",
       "      <td>TGAGTTATAGACTGGGGATATAATTGGGAT</td>\n",
       "      <td>66.382510</td>\n",
       "      <td>0</td>\n",
       "    </tr>\n",
       "    <tr>\n",
       "      <th>3</th>\n",
       "      <td>CTGTTCCCTTCGCCTTCCACACGATGGCAT</td>\n",
       "      <td>80.818449</td>\n",
       "      <td>1</td>\n",
       "    </tr>\n",
       "    <tr>\n",
       "      <th>4</th>\n",
       "      <td>TATTCTTTCTATGCTTTGTCACCCAGGCTG</td>\n",
       "      <td>76.474647</td>\n",
       "      <td>0</td>\n",
       "    </tr>\n",
       "    <tr>\n",
       "      <th>...</th>\n",
       "      <td>...</td>\n",
       "      <td>...</td>\n",
       "      <td>...</td>\n",
       "    </tr>\n",
       "    <tr>\n",
       "      <th>119</th>\n",
       "      <td>AGATGACCCATGAGACCCTGTACTTGGCAG</td>\n",
       "      <td>79.638115</td>\n",
       "      <td>0</td>\n",
       "    </tr>\n",
       "    <tr>\n",
       "      <th>120</th>\n",
       "      <td>CCACAGGCTCAGCTGGCTTCAATATGGTAA</td>\n",
       "      <td>78.149900</td>\n",
       "      <td>1</td>\n",
       "    </tr>\n",
       "    <tr>\n",
       "      <th>121</th>\n",
       "      <td>TCACTTGGCAAGGAAGATGGAAGTGGGGAC</td>\n",
       "      <td>69.188097</td>\n",
       "      <td>0</td>\n",
       "    </tr>\n",
       "    <tr>\n",
       "      <th>122</th>\n",
       "      <td>CTTACACTTCTCCATCTCTTGCCATGGTGC</td>\n",
       "      <td>78.967706</td>\n",
       "      <td>0</td>\n",
       "    </tr>\n",
       "    <tr>\n",
       "      <th>123</th>\n",
       "      <td>TCTATGACATCAATTATTATACATCGGAGC</td>\n",
       "      <td>49.315981</td>\n",
       "      <td>0</td>\n",
       "    </tr>\n",
       "  </tbody>\n",
       "</table>\n",
       "<p>124 rows × 3 columns</p>\n",
       "</div>"
      ],
      "text/plain": [
       "    30 bp target sequence (4 bp + 20 bp Protospacer + PAM + 3 bp)  \\\n",
       "0                       GCGGTGGCTTCAGAGTTGCCGAAGTGGGCG              \n",
       "1                       GGGGGAAAGAGGAAATGTGGACGAAGGCAG              \n",
       "2                       TGAGTTATAGACTGGGGATATAATTGGGAT              \n",
       "3                       CTGTTCCCTTCGCCTTCCACACGATGGCAT              \n",
       "4                       TATTCTTTCTATGCTTTGTCACCCAGGCTG              \n",
       "..                                                 ...              \n",
       "119                     AGATGACCCATGAGACCCTGTACTTGGCAG              \n",
       "120                     CCACAGGCTCAGCTGGCTTCAATATGGTAA              \n",
       "121                     TCACTTGGCAAGGAAGATGGAAGTGGGGAC              \n",
       "122                     CTTACACTTCTCCATCTCTTGCCATGGTGC              \n",
       "123                     TCTATGACATCAATTATTATACATCGGAGC              \n",
       "\n",
       "     Averge indel frequency (%)  \\\n",
       "0                     74.883051   \n",
       "1                     72.941135   \n",
       "2                     66.382510   \n",
       "3                     80.818449   \n",
       "4                     76.474647   \n",
       "..                          ...   \n",
       "119                   79.638115   \n",
       "120                   78.149900   \n",
       "121                   69.188097   \n",
       "122                   78.967706   \n",
       "123                   49.315981   \n",
       "\n",
       "     Chromatin accessibility (1= DNase I hypersensitive sites, 0 = Dnase I non-sensitive sites)  \n",
       "0                                                    1                                           \n",
       "1                                                    1                                           \n",
       "2                                                    0                                           \n",
       "3                                                    1                                           \n",
       "4                                                    0                                           \n",
       "..                                                 ...                                           \n",
       "119                                                  0                                           \n",
       "120                                                  1                                           \n",
       "121                                                  0                                           \n",
       "122                                                  0                                           \n",
       "123                                                  0                                           \n",
       "\n",
       "[124 rows x 3 columns]"
      ]
     },
     "execution_count": 2,
     "metadata": {},
     "output_type": "execute_result"
    }
   ],
   "source": [
    "exel3 = pd.read_excel(\"../dataset/aax9249_table_s3.xlsx\", sheet_name=[0])[0]\n",
    "exel3"
   ]
  },
  {
   "cell_type": "code",
   "execution_count": 3,
   "id": "d8941d80",
   "metadata": {},
   "outputs": [],
   "source": [
    "table3 = open(\"../dataset/table3\", \"w\")\n",
    "for i in range(len(exel3)):\n",
    "    table3.write(\"%s %s\\n\"%(exel3.loc[i][0], exel3.loc[i][1]))\n",
    "table3.close()"
   ]
  },
  {
   "cell_type": "code",
   "execution_count": null,
   "id": "20ddce65",
   "metadata": {},
   "outputs": [],
   "source": []
  }
 ],
 "metadata": {
  "kernelspec": {
   "display_name": "Python 3.8.10",
   "language": "python",
   "name": "python3"
  },
  "language_info": {
   "codemirror_mode": {
    "name": "ipython",
    "version": 3
   },
   "file_extension": ".py",
   "mimetype": "text/x-python",
   "name": "python",
   "nbconvert_exporter": "python",
   "pygments_lexer": "ipython3",
   "version": "3.8.10"
  }
 },
 "nbformat": 4,
 "nbformat_minor": 5
}
